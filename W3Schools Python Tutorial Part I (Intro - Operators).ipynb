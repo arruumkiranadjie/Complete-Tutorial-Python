{
 "cells": [
  {
   "cell_type": "code",
   "execution_count": 1,
   "id": "e684cda5",
   "metadata": {},
   "outputs": [
    {
     "name": "stdout",
     "output_type": "stream",
     "text": [
      "Hello World\n"
     ]
    }
   ],
   "source": [
    "print(\"Hello World\")"
   ]
  },
  {
   "cell_type": "code",
   "execution_count": 78,
   "id": "be21cc75",
   "metadata": {},
   "outputs": [
    {
     "name": "stdout",
     "output_type": "stream",
     "text": [
      "Carlos Sainz Jr.\n"
     ]
    }
   ],
   "source": [
    "print(\"Carlos Sainz Jr.\")"
   ]
  },
  {
   "cell_type": "code",
   "execution_count": 3,
   "id": "56c89981",
   "metadata": {},
   "outputs": [
    {
     "name": "stdout",
     "output_type": "stream",
     "text": [
      "Fernando Alonso <3 Taylor Swift\n"
     ]
    }
   ],
   "source": [
    "print(\"Fernando Alonso <3 Taylor Swift\")"
   ]
  },
  {
   "cell_type": "markdown",
   "id": "d7f3810b",
   "metadata": {},
   "source": [
    "# Python Syntax - Python Indentation"
   ]
  },
  {
   "cell_type": "code",
   "execution_count": 6,
   "id": "bdcdc052",
   "metadata": {},
   "outputs": [
    {
     "name": "stdout",
     "output_type": "stream",
     "text": [
      "Five is greater than two!\n"
     ]
    }
   ],
   "source": [
    "if 5 > 2:\n",
    "    print(\"Five is greater than two!\") #It's essential to have indentation in python especially with if for while etc"
   ]
  },
  {
   "cell_type": "code",
   "execution_count": 8,
   "id": "d192f459",
   "metadata": {},
   "outputs": [
    {
     "name": "stdout",
     "output_type": "stream",
     "text": [
      "Five is greater than two!\n",
      "Five is greater than two!\n"
     ]
    }
   ],
   "source": [
    "if 5 > 2:\n",
    "    print(\"Five is greater than two!\")\n",
    "    print(\"Five is greater than two!\")"
   ]
  },
  {
   "cell_type": "markdown",
   "id": "5fb1272a",
   "metadata": {},
   "source": [
    "# Python Syntax - Python Variables"
   ]
  },
  {
   "cell_type": "code",
   "execution_count": 11,
   "id": "71bd6e30",
   "metadata": {},
   "outputs": [
    {
     "name": "stdout",
     "output_type": "stream",
     "text": [
      "5 Hello, World!\n",
      "Hello, World!\n"
     ]
    }
   ],
   "source": [
    "x = 5\n",
    "y = \"Hello, World!\"\n",
    "\n",
    "print(x, y)\n",
    "print(y)"
   ]
  },
  {
   "cell_type": "markdown",
   "id": "77dc9199",
   "metadata": {},
   "source": [
    "# Python Comments"
   ]
  },
  {
   "cell_type": "code",
   "execution_count": 12,
   "id": "b1bb930f",
   "metadata": {},
   "outputs": [
    {
     "name": "stdout",
     "output_type": "stream",
     "text": [
      "Hello World\n"
     ]
    }
   ],
   "source": [
    "#This is a comment\n",
    "print(\"Hello World\")"
   ]
  },
  {
   "cell_type": "markdown",
   "id": "cad77045",
   "metadata": {},
   "source": [
    "# Python Comments - Multiline Comments"
   ]
  },
  {
   "cell_type": "code",
   "execution_count": 13,
   "id": "3fe85639",
   "metadata": {},
   "outputs": [
    {
     "name": "stdout",
     "output_type": "stream",
     "text": [
      "Hello World!\n"
     ]
    }
   ],
   "source": [
    "\"\"\"\n",
    "This is a comment\n",
    "written in\n",
    "more than just one line\n",
    "\"\"\"\n",
    "print(\"Hello World!\") "
   ]
  },
  {
   "cell_type": "markdown",
   "id": "4f08ac15",
   "metadata": {},
   "source": [
    "# Python Variables "
   ]
  },
  {
   "cell_type": "code",
   "execution_count": 1,
   "id": "9790e24b",
   "metadata": {},
   "outputs": [
    {
     "name": "stdout",
     "output_type": "stream",
     "text": [
      "5\n",
      "John\n"
     ]
    }
   ],
   "source": [
    "x = 5\n",
    "y =\"John\"\n",
    "print(x)\n",
    "print(y)"
   ]
  },
  {
   "cell_type": "code",
   "execution_count": 2,
   "id": "aa82e09a",
   "metadata": {},
   "outputs": [
    {
     "name": "stdout",
     "output_type": "stream",
     "text": [
      "Sally\n"
     ]
    }
   ],
   "source": [
    "x = 4\n",
    "x = \"Sally\"\n",
    "print(x)"
   ]
  },
  {
   "cell_type": "markdown",
   "id": "abc54f21",
   "metadata": {},
   "source": [
    "# Python Variables - Casting"
   ]
  },
  {
   "cell_type": "code",
   "execution_count": 5,
   "id": "fbd7786e",
   "metadata": {},
   "outputs": [
    {
     "name": "stdout",
     "output_type": "stream",
     "text": [
      "3 3 3.0\n",
      "3\n",
      "3\n",
      "3.0\n"
     ]
    }
   ],
   "source": [
    "# Casting is a method to specify the data type of a variable\n",
    "\n",
    "x = str(3) # x will be '3'\n",
    "y = int(3) # y will be 3\n",
    "z = float(3) # z will be 3.0\n",
    "\n",
    "print(x, y, z)\n",
    "print(x)\n",
    "print(y)\n",
    "print(z)"
   ]
  },
  {
   "cell_type": "markdown",
   "id": "320fb3f9",
   "metadata": {},
   "source": [
    "# Python Variables - Get the Type"
   ]
  },
  {
   "cell_type": "code",
   "execution_count": 6,
   "id": "350109d6",
   "metadata": {},
   "outputs": [
    {
     "name": "stdout",
     "output_type": "stream",
     "text": [
      "<class 'int'>\n",
      "<class 'str'>\n"
     ]
    }
   ],
   "source": [
    "# Get the variable type by using type() function\n",
    "\n",
    "x = 5\n",
    "y = \"John\"\n",
    "print(type(x))\n",
    "print(type(y))"
   ]
  },
  {
   "cell_type": "markdown",
   "id": "9e85367d",
   "metadata": {},
   "source": [
    "# Python Variables - Single or Double Quotes?"
   ]
  },
  {
   "cell_type": "code",
   "execution_count": 7,
   "id": "fdac6b93",
   "metadata": {},
   "outputs": [],
   "source": [
    "x = \"John\"\n",
    "# is the same as\n",
    "x = 'John'"
   ]
  },
  {
   "cell_type": "markdown",
   "id": "0a1922af",
   "metadata": {},
   "source": [
    "# Python Variables - Case-Sensitive"
   ]
  },
  {
   "cell_type": "code",
   "execution_count": 11,
   "id": "e2aeef36",
   "metadata": {},
   "outputs": [
    {
     "name": "stdout",
     "output_type": "stream",
     "text": [
      "4\n",
      "Sally\n",
      "4\n"
     ]
    }
   ],
   "source": [
    "a = 4\n",
    "A = \"Sally\"\n",
    "# A will not overwrite a\n",
    "print(a)\n",
    "print(A)\n",
    "print(a)"
   ]
  },
  {
   "cell_type": "markdown",
   "id": "78170ec3",
   "metadata": {},
   "source": [
    "# Python Variables - Variable Names"
   ]
  },
  {
   "cell_type": "code",
   "execution_count": 1,
   "id": "51570f94",
   "metadata": {},
   "outputs": [
    {
     "name": "stdout",
     "output_type": "stream",
     "text": [
      "John\n",
      "John\n",
      "John\n",
      "John\n",
      "John\n",
      "John\n"
     ]
    }
   ],
   "source": [
    "myvar = \"John\"\n",
    "my_var = \"John\"\n",
    "_my_var = \"John\"\n",
    "myVar = \"John\"\n",
    "MYVAR = \"John\"\n",
    "myvar2 = \"John\"\n",
    "\n",
    "print(myvar)\n",
    "print(my_var)\n",
    "print(_my_var)\n",
    "print(myVar)\n",
    "print(MYVAR)\n",
    "print(myvar2)"
   ]
  },
  {
   "cell_type": "code",
   "execution_count": 3,
   "id": "41f08dbc",
   "metadata": {},
   "outputs": [
    {
     "ename": "SyntaxError",
     "evalue": "invalid syntax (Temp/ipykernel_17144/3111199336.py, line 3)",
     "output_type": "error",
     "traceback": [
      "\u001b[1;36m  File \u001b[1;32m\"C:\\Users\\ARRUUM~1\\AppData\\Local\\Temp/ipykernel_17144/3111199336.py\"\u001b[1;36m, line \u001b[1;32m3\u001b[0m\n\u001b[1;33m    2myvar = \"John\"\u001b[0m\n\u001b[1;37m     ^\u001b[0m\n\u001b[1;31mSyntaxError\u001b[0m\u001b[1;31m:\u001b[0m invalid syntax\n"
     ]
    }
   ],
   "source": [
    "# Illegal variable names:\n",
    "\n",
    "2myvar = \"John\"\n",
    "my-var = \"Johnny\"\n",
    "my var = \"Johnsson\"\n",
    "\n",
    "print(2myvar)\n",
    "print(my-var)\n",
    "print(my var)"
   ]
  },
  {
   "cell_type": "markdown",
   "id": "3307982a",
   "metadata": {},
   "source": [
    "# Python Variables - Multi Words Variable Names"
   ]
  },
  {
   "cell_type": "code",
   "execution_count": 4,
   "id": "eb77adc7",
   "metadata": {},
   "outputs": [],
   "source": [
    "# Camel Case\n",
    "myVariableName = \"John\"\n",
    "\n",
    "#Pascal Case\n",
    "MyVariableName = \"John\"\n",
    "\n",
    "#Snake Case\n",
    "my_variable_name = \"John\""
   ]
  },
  {
   "cell_type": "markdown",
   "id": "7910e35e",
   "metadata": {},
   "source": [
    "# Python Variables - Many Values to Multiple Variables"
   ]
  },
  {
   "cell_type": "code",
   "execution_count": 5,
   "id": "23c995e4",
   "metadata": {},
   "outputs": [
    {
     "name": "stdout",
     "output_type": "stream",
     "text": [
      "Orange\n",
      "Banana\n",
      "Cherry\n"
     ]
    }
   ],
   "source": [
    "x, y, z = \"Orange\", \"Banana\", \"Cherry\"\n",
    "print(x)\n",
    "print(y)\n",
    "print(z)"
   ]
  },
  {
   "cell_type": "markdown",
   "id": "ac892d05",
   "metadata": {},
   "source": [
    "# Python Variables - One Value to Multiple Variables"
   ]
  },
  {
   "cell_type": "code",
   "execution_count": 6,
   "id": "f2baddb1",
   "metadata": {},
   "outputs": [
    {
     "name": "stdout",
     "output_type": "stream",
     "text": [
      "Orange\n",
      "Orange\n",
      "Orange\n"
     ]
    }
   ],
   "source": [
    "x = y = z = \"Orange\"\n",
    "print(x)\n",
    "print(y)\n",
    "print(z)"
   ]
  },
  {
   "cell_type": "markdown",
   "id": "1092f32d",
   "metadata": {},
   "source": [
    "# Python Variables - Unpack a Collection"
   ]
  },
  {
   "cell_type": "code",
   "execution_count": 8,
   "id": "8b55c4bc",
   "metadata": {},
   "outputs": [
    {
     "name": "stdout",
     "output_type": "stream",
     "text": [
      "apple\n",
      "banana\n",
      "cherry\n"
     ]
    }
   ],
   "source": [
    "fruits = [\"apple\", \"banana\", \"cherry\"]\n",
    "x, y, z = fruits # unpacking by creating a multiple of variable equal to the amount of list in the tuple and equals them to the name of the tuple \n",
    "print(x)\n",
    "print(y)\n",
    "print(z)"
   ]
  },
  {
   "cell_type": "markdown",
   "id": "1a850b57",
   "metadata": {},
   "source": [
    "# Python Variables - Output Variables"
   ]
  },
  {
   "cell_type": "code",
   "execution_count": 9,
   "id": "80fc2749",
   "metadata": {},
   "outputs": [
    {
     "name": "stdout",
     "output_type": "stream",
     "text": [
      "Python is awesome\n"
     ]
    }
   ],
   "source": [
    "x = \"Python is awesome\"\n",
    "print(x)"
   ]
  },
  {
   "cell_type": "code",
   "execution_count": 10,
   "id": "45c9c8b3",
   "metadata": {},
   "outputs": [
    {
     "name": "stdout",
     "output_type": "stream",
     "text": [
      "Python is awesome\n"
     ]
    }
   ],
   "source": [
    "x = \"Python\"\n",
    "y = \"is\"\n",
    "z = \"awesome\"\n",
    "print(x, y, z) # separated by a comma"
   ]
  },
  {
   "cell_type": "code",
   "execution_count": 13,
   "id": "cf95cebd",
   "metadata": {},
   "outputs": [
    {
     "name": "stdout",
     "output_type": "stream",
     "text": [
      "Pythonisawesome\n"
     ]
    }
   ],
   "source": [
    "# use the + operator to output multiple variables\n",
    "x = \"Python\"\n",
    "y = \"is\"\n",
    "z = \"awesome\"\n",
    "print(x + y + z)"
   ]
  },
  {
   "cell_type": "code",
   "execution_count": 16,
   "id": "84328285",
   "metadata": {},
   "outputs": [
    {
     "name": "stdout",
     "output_type": "stream",
     "text": [
      "15\n"
     ]
    }
   ],
   "source": [
    "# operator + works as a mathematical operator\n",
    "x = 5\n",
    "y = 10\n",
    "print(x + y)"
   ]
  },
  {
   "cell_type": "code",
   "execution_count": 17,
   "id": "9c9e2ccd",
   "metadata": {},
   "outputs": [
    {
     "ename": "TypeError",
     "evalue": "unsupported operand type(s) for +: 'int' and 'str'",
     "output_type": "error",
     "traceback": [
      "\u001b[1;31m---------------------------------------------------------------------------\u001b[0m",
      "\u001b[1;31mTypeError\u001b[0m                                 Traceback (most recent call last)",
      "\u001b[1;32mC:\\Users\\ARRUUM~1\\AppData\\Local\\Temp/ipykernel_17144/1989821626.py\u001b[0m in \u001b[0;36m<module>\u001b[1;34m\u001b[0m\n\u001b[0;32m      1\u001b[0m \u001b[0mx\u001b[0m \u001b[1;33m=\u001b[0m \u001b[1;36m5\u001b[0m\u001b[1;33m\u001b[0m\u001b[1;33m\u001b[0m\u001b[0m\n\u001b[0;32m      2\u001b[0m \u001b[0my\u001b[0m \u001b[1;33m=\u001b[0m \u001b[1;34m\"John\"\u001b[0m\u001b[1;33m\u001b[0m\u001b[1;33m\u001b[0m\u001b[0m\n\u001b[1;32m----> 3\u001b[1;33m \u001b[0mprint\u001b[0m\u001b[1;33m(\u001b[0m\u001b[0mx\u001b[0m \u001b[1;33m+\u001b[0m \u001b[0my\u001b[0m\u001b[1;33m)\u001b[0m\u001b[1;33m\u001b[0m\u001b[1;33m\u001b[0m\u001b[0m\n\u001b[0m",
      "\u001b[1;31mTypeError\u001b[0m: unsupported operand type(s) for +: 'int' and 'str'"
     ]
    }
   ],
   "source": [
    "x = 5\n",
    "y = \"John\"\n",
    "print(x + y)"
   ]
  },
  {
   "cell_type": "code",
   "execution_count": 18,
   "id": "db260557",
   "metadata": {},
   "outputs": [
    {
     "name": "stdout",
     "output_type": "stream",
     "text": [
      "5 John\n"
     ]
    }
   ],
   "source": [
    "# The best way is to use commas\n",
    "x = 5\n",
    "y = \"John\"\n",
    "print(x, y)"
   ]
  },
  {
   "cell_type": "markdown",
   "id": "636b6948",
   "metadata": {},
   "source": [
    "# Python Variables - Global Variables"
   ]
  },
  {
   "cell_type": "code",
   "execution_count": 20,
   "id": "c4852008",
   "metadata": {},
   "outputs": [
    {
     "name": "stdout",
     "output_type": "stream",
     "text": [
      "Python is awesome\n"
     ]
    }
   ],
   "source": [
    "# Create a variable outside of a function, and use it inside the function\n",
    "\n",
    "x= \"awesome\"\n",
    "\n",
    "def myfunc():\n",
    "    print(\"Python is \" + x)\n",
    "    \n",
    "myfunc() # Calling the function which already states a print() function"
   ]
  },
  {
   "cell_type": "code",
   "execution_count": 22,
   "id": "b9f6c7d3",
   "metadata": {},
   "outputs": [
    {
     "name": "stdout",
     "output_type": "stream",
     "text": [
      "Python is fantastic\n",
      "Python is awesome\n"
     ]
    }
   ],
   "source": [
    "# Create a variable inside a function, with the same name as the global variable\n",
    "x = \"awesome\"\n",
    "\n",
    "def myfunc():\n",
    "    x = \"fantastic\"\n",
    "    print(\"Python is \"+ x) # will give an output python is fantastic because the last entry of x is x = \"fantastic\"\n",
    "    \n",
    "myfunc()\n",
    "\n",
    "print(\"Python is \" + x)"
   ]
  },
  {
   "cell_type": "markdown",
   "id": "c67b1c92",
   "metadata": {},
   "source": [
    "# Python Variables - The global Keyword"
   ]
  },
  {
   "cell_type": "code",
   "execution_count": 26,
   "id": "bc6b8e08",
   "metadata": {},
   "outputs": [
    {
     "name": "stdout",
     "output_type": "stream",
     "text": [
      "Python is fantastic\n"
     ]
    }
   ],
   "source": [
    "# If you use the global keyword, the variable belongs to the global scope\n",
    "\n",
    "def myfunc():\n",
    "    global x\n",
    "    x = \"fantastic\"\n",
    "    \n",
    "myfunc()\n",
    "\n",
    "print(\"Python is \"+ x)"
   ]
  },
  {
   "cell_type": "code",
   "execution_count": 27,
   "id": "e1700fcd",
   "metadata": {},
   "outputs": [
    {
     "name": "stdout",
     "output_type": "stream",
     "text": [
      "Python is fantastic\n"
     ]
    }
   ],
   "source": [
    "# To change the value of a global variable inside a function, refer to the variable by using the global keyword\n",
    "\n",
    "x = \"awesome\"\n",
    "\n",
    "def myfunc():\n",
    "    global x\n",
    "    x = \"fantastic\"\n",
    "    \n",
    "myfunc()\n",
    "\n",
    "print(\"Python is \" + x)"
   ]
  },
  {
   "cell_type": "markdown",
   "id": "ea727b5f",
   "metadata": {},
   "source": [
    "# Python Data Types "
   ]
  },
  {
   "cell_type": "markdown",
   "id": "7cd08fca",
   "metadata": {},
   "source": [
    "# Python Data Types - Getting the Data Type"
   ]
  },
  {
   "cell_type": "code",
   "execution_count": 28,
   "id": "99702fff",
   "metadata": {},
   "outputs": [
    {
     "name": "stdout",
     "output_type": "stream",
     "text": [
      "<class 'int'>\n"
     ]
    }
   ],
   "source": [
    "x = 5\n",
    "print(type(x))"
   ]
  },
  {
   "cell_type": "markdown",
   "id": "f5feaab9",
   "metadata": {},
   "source": [
    "# Python Data Types - Setting the Data Type"
   ]
  },
  {
   "cell_type": "code",
   "execution_count": 30,
   "id": "b06e17f6",
   "metadata": {},
   "outputs": [
    {
     "name": "stdout",
     "output_type": "stream",
     "text": [
      "Hello World\n",
      "<class 'str'>\n"
     ]
    }
   ],
   "source": [
    "x = \"Hello World\"\n",
    "print(x)\n",
    "print(type(x))"
   ]
  },
  {
   "cell_type": "code",
   "execution_count": 31,
   "id": "55381d7f",
   "metadata": {},
   "outputs": [
    {
     "name": "stdout",
     "output_type": "stream",
     "text": [
      "20\n",
      "<class 'int'>\n"
     ]
    }
   ],
   "source": [
    "x = 20\n",
    "print(x)\n",
    "print(type(x))"
   ]
  },
  {
   "cell_type": "code",
   "execution_count": 32,
   "id": "3b623d2b",
   "metadata": {},
   "outputs": [
    {
     "name": "stdout",
     "output_type": "stream",
     "text": [
      "20.5\n",
      "<class 'float'>\n"
     ]
    }
   ],
   "source": [
    "x = 20.5\n",
    "print(x)\n",
    "print(type(x))"
   ]
  },
  {
   "cell_type": "code",
   "execution_count": 33,
   "id": "b2c9df1a",
   "metadata": {},
   "outputs": [
    {
     "name": "stdout",
     "output_type": "stream",
     "text": [
      "1j\n",
      "<class 'complex'>\n"
     ]
    }
   ],
   "source": [
    "x = 1j\n",
    "print(x)\n",
    "print(type(x))"
   ]
  },
  {
   "cell_type": "code",
   "execution_count": 34,
   "id": "35f99b8a",
   "metadata": {},
   "outputs": [
    {
     "name": "stdout",
     "output_type": "stream",
     "text": [
      "['apple', 'banana', 'cherry']\n",
      "<class 'list'>\n"
     ]
    }
   ],
   "source": [
    "x = [\"apple\",\"banana\", \"cherry\"]\n",
    "print(x)\n",
    "print(type(x))"
   ]
  },
  {
   "cell_type": "code",
   "execution_count": 35,
   "id": "e54f08eb",
   "metadata": {},
   "outputs": [
    {
     "name": "stdout",
     "output_type": "stream",
     "text": [
      "('apple', 'banana', 'cherry')\n",
      "<class 'tuple'>\n"
     ]
    }
   ],
   "source": [
    "x = (\"apple\", \"banana\", \"cherry\")\n",
    "print(x)\n",
    "print(type(x))"
   ]
  },
  {
   "cell_type": "code",
   "execution_count": 36,
   "id": "106baf57",
   "metadata": {},
   "outputs": [
    {
     "name": "stdout",
     "output_type": "stream",
     "text": [
      "range(0, 6)\n",
      "<class 'range'>\n"
     ]
    }
   ],
   "source": [
    "x = range(6)\n",
    "print(x)\n",
    "print(type(x))"
   ]
  },
  {
   "cell_type": "code",
   "execution_count": 37,
   "id": "6a2258cb",
   "metadata": {},
   "outputs": [
    {
     "name": "stdout",
     "output_type": "stream",
     "text": [
      "{'name': 'John', 'age': 36}\n",
      "<class 'dict'>\n"
     ]
    }
   ],
   "source": [
    "x = {\"name\" : \"John\", \"age\" : 36}\n",
    "print(x)\n",
    "print(type(x))"
   ]
  },
  {
   "cell_type": "code",
   "execution_count": 38,
   "id": "2910e2e9",
   "metadata": {},
   "outputs": [
    {
     "name": "stdout",
     "output_type": "stream",
     "text": [
      "{'apple', 'banana', 'cherry'}\n",
      "<class 'set'>\n"
     ]
    }
   ],
   "source": [
    "x = {\"apple\", \"banana\", \"cherry\"}\n",
    "print(x)\n",
    "print(type(x))"
   ]
  },
  {
   "cell_type": "code",
   "execution_count": 39,
   "id": "3af1ae3a",
   "metadata": {},
   "outputs": [
    {
     "name": "stdout",
     "output_type": "stream",
     "text": [
      "frozenset({'apple', 'banana', 'cherry'})\n",
      "<class 'frozenset'>\n"
     ]
    }
   ],
   "source": [
    "x = frozenset({\"apple\", \"banana\", \"cherry\"})\n",
    "print(x)\n",
    "print(type(x))"
   ]
  },
  {
   "cell_type": "code",
   "execution_count": 40,
   "id": "b7811ab3",
   "metadata": {},
   "outputs": [
    {
     "name": "stdout",
     "output_type": "stream",
     "text": [
      "True\n",
      "<class 'bool'>\n"
     ]
    }
   ],
   "source": [
    "x = True\n",
    "print(x)\n",
    "print(type(x))"
   ]
  },
  {
   "cell_type": "code",
   "execution_count": 42,
   "id": "d10e690c",
   "metadata": {},
   "outputs": [
    {
     "name": "stdout",
     "output_type": "stream",
     "text": [
      "b'Hello'\n",
      "<class 'bytes'>\n"
     ]
    }
   ],
   "source": [
    "x = b\"Hello\"\n",
    "print(x)\n",
    "print(type(x))"
   ]
  },
  {
   "cell_type": "code",
   "execution_count": 43,
   "id": "4451e0e6",
   "metadata": {},
   "outputs": [
    {
     "name": "stdout",
     "output_type": "stream",
     "text": [
      "bytearray(b'\\x00\\x00\\x00\\x00\\x00')\n",
      "<class 'bytearray'>\n"
     ]
    }
   ],
   "source": [
    "x = bytearray(5)\n",
    "print(x)\n",
    "print(type(x))"
   ]
  },
  {
   "cell_type": "code",
   "execution_count": 45,
   "id": "b8f7bf8c",
   "metadata": {},
   "outputs": [
    {
     "name": "stdout",
     "output_type": "stream",
     "text": [
      "<memory at 0x0000023B4F5D3640>\n",
      "<class 'memoryview'>\n"
     ]
    }
   ],
   "source": [
    "x = memoryview(bytes(5)) # like an address in c++ \n",
    "print(x)\n",
    "print(type(x))"
   ]
  },
  {
   "cell_type": "code",
   "execution_count": 46,
   "id": "80214c6f",
   "metadata": {},
   "outputs": [
    {
     "name": "stdout",
     "output_type": "stream",
     "text": [
      "None\n",
      "<class 'NoneType'>\n"
     ]
    }
   ],
   "source": [
    "x = None\n",
    "print(x)\n",
    "print(type(x))"
   ]
  },
  {
   "cell_type": "markdown",
   "id": "7326a7e2",
   "metadata": {},
   "source": [
    "# Python Data Types - Setting the Specific Data Type"
   ]
  },
  {
   "cell_type": "code",
   "execution_count": 47,
   "id": "0c4f40a3",
   "metadata": {},
   "outputs": [
    {
     "name": "stdout",
     "output_type": "stream",
     "text": [
      "Hello World\n",
      "<class 'str'>\n"
     ]
    }
   ],
   "source": [
    "x = str(\"Hello World\")\n",
    "print(x)\n",
    "print(type(x))"
   ]
  },
  {
   "cell_type": "code",
   "execution_count": 48,
   "id": "839dc010",
   "metadata": {},
   "outputs": [
    {
     "name": "stdout",
     "output_type": "stream",
     "text": [
      "20\n",
      "<class 'int'>\n"
     ]
    }
   ],
   "source": [
    "x = int(20)\n",
    "print(x)\n",
    "print(type(x))"
   ]
  },
  {
   "cell_type": "code",
   "execution_count": 49,
   "id": "8eafec44",
   "metadata": {},
   "outputs": [
    {
     "name": "stdout",
     "output_type": "stream",
     "text": [
      "20.5\n",
      "<class 'float'>\n"
     ]
    }
   ],
   "source": [
    "x = float(20.5)\n",
    "print(x)\n",
    "print(type(x))"
   ]
  },
  {
   "cell_type": "code",
   "execution_count": 50,
   "id": "617b7ceb",
   "metadata": {},
   "outputs": [
    {
     "name": "stdout",
     "output_type": "stream",
     "text": [
      "1j\n",
      "<class 'complex'>\n"
     ]
    }
   ],
   "source": [
    "x = complex(1j)\n",
    "print(x)\n",
    "print(type(x))"
   ]
  },
  {
   "cell_type": "code",
   "execution_count": 51,
   "id": "07132452",
   "metadata": {},
   "outputs": [
    {
     "name": "stdout",
     "output_type": "stream",
     "text": [
      "['apple', 'banana', 'cherry']\n",
      "<class 'list'>\n"
     ]
    }
   ],
   "source": [
    "x = list((\"apple\", \"banana\", \"cherry\"))\n",
    "print(x)\n",
    "print(type(x))"
   ]
  },
  {
   "cell_type": "code",
   "execution_count": 52,
   "id": "5bf96665",
   "metadata": {},
   "outputs": [
    {
     "name": "stdout",
     "output_type": "stream",
     "text": [
      "('apple', 'banana', 'cherry')\n",
      "<class 'tuple'>\n"
     ]
    }
   ],
   "source": [
    "x = tuple((\"apple\", \"banana\", \"cherry\"))\n",
    "print(x)\n",
    "print(type(x))"
   ]
  },
  {
   "cell_type": "code",
   "execution_count": 53,
   "id": "8c3ffbb7",
   "metadata": {},
   "outputs": [
    {
     "name": "stdout",
     "output_type": "stream",
     "text": [
      "range(0, 6)\n",
      "<class 'range'>\n"
     ]
    }
   ],
   "source": [
    "x = range(6)\n",
    "print(x)\n",
    "print(type(x))"
   ]
  },
  {
   "cell_type": "code",
   "execution_count": 54,
   "id": "81511c60",
   "metadata": {},
   "outputs": [
    {
     "name": "stdout",
     "output_type": "stream",
     "text": [
      "{'name': 'John', 'age': 36}\n",
      "<class 'dict'>\n"
     ]
    }
   ],
   "source": [
    "x = dict(name=\"John\", age=36)\n",
    "print(x)\n",
    "print(type(x))"
   ]
  },
  {
   "cell_type": "code",
   "execution_count": 55,
   "id": "e1fbf330",
   "metadata": {},
   "outputs": [
    {
     "name": "stdout",
     "output_type": "stream",
     "text": [
      "{'apple', 'banana', 'cherry'}\n",
      "<class 'set'>\n"
     ]
    }
   ],
   "source": [
    "x = set((\"apple\", \"banana\", \"cherry\"))\n",
    "print(x)\n",
    "print(type(x))"
   ]
  },
  {
   "cell_type": "code",
   "execution_count": 56,
   "id": "5d0cbf3d",
   "metadata": {},
   "outputs": [
    {
     "name": "stdout",
     "output_type": "stream",
     "text": [
      "frozenset({'apple', 'banana', 'cherry'})\n",
      "<class 'frozenset'>\n"
     ]
    }
   ],
   "source": [
    "x = frozenset((\"apple\", \"banana\", \"cherry\"))\n",
    "print(x)\n",
    "print(type(x))"
   ]
  },
  {
   "cell_type": "code",
   "execution_count": 57,
   "id": "214c8a76",
   "metadata": {},
   "outputs": [
    {
     "name": "stdout",
     "output_type": "stream",
     "text": [
      "True\n",
      "<class 'bool'>\n"
     ]
    }
   ],
   "source": [
    "x = bool(5)\n",
    "print(x)\n",
    "print(type(x))"
   ]
  },
  {
   "cell_type": "code",
   "execution_count": 58,
   "id": "54069ca7",
   "metadata": {},
   "outputs": [
    {
     "name": "stdout",
     "output_type": "stream",
     "text": [
      "b'\\x00\\x00\\x00\\x00\\x00'\n",
      "<class 'bytes'>\n"
     ]
    }
   ],
   "source": [
    "x = bytes(5)\n",
    "print(x)\n",
    "print(type(x))"
   ]
  },
  {
   "cell_type": "code",
   "execution_count": 59,
   "id": "2b3f9216",
   "metadata": {},
   "outputs": [
    {
     "name": "stdout",
     "output_type": "stream",
     "text": [
      "bytearray(b'\\x00\\x00\\x00\\x00\\x00')\n",
      "<class 'bytearray'>\n"
     ]
    }
   ],
   "source": [
    "x = bytearray(5)\n",
    "print(x)\n",
    "print(type(x))"
   ]
  },
  {
   "cell_type": "code",
   "execution_count": 60,
   "id": "a8ebc044",
   "metadata": {},
   "outputs": [
    {
     "name": "stdout",
     "output_type": "stream",
     "text": [
      "<memory at 0x0000023B4F5D34C0>\n",
      "<class 'memoryview'>\n"
     ]
    }
   ],
   "source": [
    "x = memoryview(bytes(5))\n",
    "print(x)\n",
    "print(type(x))"
   ]
  },
  {
   "cell_type": "markdown",
   "id": "717f19c2",
   "metadata": {},
   "source": [
    "# Python Numbers"
   ]
  },
  {
   "cell_type": "code",
   "execution_count": 61,
   "id": "7aa037f9",
   "metadata": {},
   "outputs": [
    {
     "name": "stdout",
     "output_type": "stream",
     "text": [
      "<class 'int'>\n",
      "<class 'float'>\n",
      "<class 'complex'>\n"
     ]
    }
   ],
   "source": [
    "x = 1    # int\n",
    "y = 2.8  # float\n",
    "z = 1j   # complex\n",
    "\n",
    "print(type(x))\n",
    "print(type(y))\n",
    "print(type(z))"
   ]
  },
  {
   "cell_type": "code",
   "execution_count": 62,
   "id": "a9f6aea2",
   "metadata": {},
   "outputs": [
    {
     "name": "stdout",
     "output_type": "stream",
     "text": [
      "<class 'int'>\n",
      "<class 'int'>\n",
      "<class 'int'>\n"
     ]
    }
   ],
   "source": [
    "# Integers\n",
    "\n",
    "x = 1\n",
    "y = 35656222554887711\n",
    "z = -3255522\n",
    "\n",
    "print(type(x))\n",
    "print(type(y))\n",
    "print(type(z))"
   ]
  },
  {
   "cell_type": "code",
   "execution_count": 63,
   "id": "b3390806",
   "metadata": {},
   "outputs": [
    {
     "name": "stdout",
     "output_type": "stream",
     "text": [
      "<class 'float'>\n",
      "<class 'float'>\n",
      "<class 'float'>\n"
     ]
    }
   ],
   "source": [
    "# Float\n",
    "\n",
    "x = 1.10\n",
    "y = 1.0\n",
    "z = -35.59\n",
    "\n",
    "print(type(x))\n",
    "print(type(y))\n",
    "print(type(z))"
   ]
  },
  {
   "cell_type": "code",
   "execution_count": 65,
   "id": "8ad2acc9",
   "metadata": {},
   "outputs": [
    {
     "name": "stdout",
     "output_type": "stream",
     "text": [
      "35000.0\n",
      "120000.0\n",
      "-8.77e+101\n",
      "<class 'float'>\n",
      "<class 'float'>\n",
      "<class 'float'>\n"
     ]
    }
   ],
   "source": [
    "# Float\n",
    "\n",
    "x = 35e3\n",
    "y = 12E4\n",
    "z = -87.7e100\n",
    "\n",
    "print(x)\n",
    "print(y)\n",
    "print(z)\n",
    "\n",
    "print(type(x))\n",
    "print(type(y))\n",
    "print(type(z))"
   ]
  },
  {
   "cell_type": "code",
   "execution_count": 67,
   "id": "be9caaf2",
   "metadata": {},
   "outputs": [
    {
     "name": "stdout",
     "output_type": "stream",
     "text": [
      "<class 'complex'>\n",
      "<class 'complex'>\n",
      "<class 'complex'>\n"
     ]
    }
   ],
   "source": [
    "# Complex : the letter 'j' as the imaginary part\n",
    "\n",
    "x = 3+5j\n",
    "y = 5j\n",
    "z = -5j\n",
    "\n",
    "print(type(x))\n",
    "print(type(y))\n",
    "print(type(z))"
   ]
  },
  {
   "cell_type": "markdown",
   "id": "aa83432f",
   "metadata": {},
   "source": [
    "# Python Numbers - Type Conversion"
   ]
  },
  {
   "cell_type": "code",
   "execution_count": 68,
   "id": "33ea4511",
   "metadata": {},
   "outputs": [
    {
     "name": "stdout",
     "output_type": "stream",
     "text": [
      "1.0\n",
      "2\n",
      "(1+0j)\n",
      "<class 'float'>\n",
      "<class 'int'>\n",
      "<class 'complex'>\n"
     ]
    }
   ],
   "source": [
    "# Convert from one type to another\n",
    "\n",
    "x = 1    # int\n",
    "y = 2.8  # float\n",
    "z = 1j   # complex\n",
    "\n",
    "# convert from int to float\n",
    "a = float(x)\n",
    "\n",
    "# convert from float to int\n",
    "b = int(y)\n",
    "\n",
    "# convert from int to complex\n",
    "c = complex(x) # converting numbers to complex will result the number + 0j \n",
    "\n",
    "print(a)\n",
    "print(b)\n",
    "print(c)\n",
    "\n",
    "print(type(a))\n",
    "print(type(b))\n",
    "print(type(c))\n",
    "\n"
   ]
  },
  {
   "cell_type": "markdown",
   "id": "f05203f4",
   "metadata": {},
   "source": [
    "# Python Numbers - Random Number"
   ]
  },
  {
   "cell_type": "code",
   "execution_count": 70,
   "id": "c921b9bf",
   "metadata": {},
   "outputs": [],
   "source": [
    "# Import the random module, and display a random number between 1 and 9"
   ]
  },
  {
   "cell_type": "code",
   "execution_count": 69,
   "id": "3f0b6df8",
   "metadata": {},
   "outputs": [
    {
     "name": "stdout",
     "output_type": "stream",
     "text": [
      "8\n"
     ]
    }
   ],
   "source": [
    "import random\n",
    "\n",
    "print(random.randrange(1,10)) # operating random module with randrange which is a function to do a range of a random number function, write random.randrange(1,10)\n",
    "                              # and by having a range(1,10) will give you a range between 1-9 because the last digit of the range doesn't count"
   ]
  },
  {
   "cell_type": "markdown",
   "id": "73d8e89e",
   "metadata": {},
   "source": [
    "# Python Casting"
   ]
  },
  {
   "cell_type": "markdown",
   "id": "cdcaee22",
   "metadata": {},
   "source": [
    "# Python Casting - Specify a Variable Type"
   ]
  },
  {
   "cell_type": "code",
   "execution_count": 71,
   "id": "04869c51",
   "metadata": {},
   "outputs": [
    {
     "name": "stdout",
     "output_type": "stream",
     "text": [
      "1\n",
      "2\n",
      "3\n"
     ]
    }
   ],
   "source": [
    "# Integers\n",
    "x = int (1)  # x will be 1\n",
    "y = int(2.8) # y will be 2\n",
    "z = int(\"3\") # z will be 3\n",
    "\n",
    "print(x)\n",
    "print(y)\n",
    "print(z)"
   ]
  },
  {
   "cell_type": "code",
   "execution_count": 73,
   "id": "2ebbea1e",
   "metadata": {},
   "outputs": [
    {
     "name": "stdout",
     "output_type": "stream",
     "text": [
      "1.0\n",
      "2.8\n",
      "3.0\n",
      "4.2\n"
     ]
    }
   ],
   "source": [
    "# Floats\n",
    "x = float (1)  # x will be 1.0\n",
    "y = float(2.8) # y will be 2.8\n",
    "z = float(\"3\") # z will be 3.0\n",
    "w = float(\"4.2\") # w will be 4.2\n",
    "\n",
    "print(x)\n",
    "print(y)\n",
    "print(z)\n",
    "print(w)"
   ]
  },
  {
   "cell_type": "code",
   "execution_count": 77,
   "id": "de1f95af",
   "metadata": {},
   "outputs": [
    {
     "name": "stdout",
     "output_type": "stream",
     "text": [
      "s1\n",
      "2\n",
      "3.0\n"
     ]
    }
   ],
   "source": [
    "# Strings\n",
    "x = str(\"s1\")  # x will be s1\n",
    "y = str(2)     # y will be 2\n",
    "z = str(3.0)   # z will be 3.0\n",
    "\n",
    "print(x)\n",
    "print(y)\n",
    "print(z)"
   ]
  },
  {
   "cell_type": "markdown",
   "id": "59950779",
   "metadata": {},
   "source": [
    "# Python Strings"
   ]
  },
  {
   "cell_type": "markdown",
   "id": "529b7c9b",
   "metadata": {},
   "source": [
    "# Python Strings - Strings"
   ]
  },
  {
   "cell_type": "code",
   "execution_count": 1,
   "id": "684e5d47",
   "metadata": {},
   "outputs": [
    {
     "name": "stdout",
     "output_type": "stream",
     "text": [
      "Hello\n",
      "Hello\n"
     ]
    }
   ],
   "source": [
    "print(\"Hello\")\n",
    "print('Hello')"
   ]
  },
  {
   "cell_type": "markdown",
   "id": "54aa62fc",
   "metadata": {},
   "source": [
    "# Python Strings - Assign String to a Variable"
   ]
  },
  {
   "cell_type": "code",
   "execution_count": 2,
   "id": "ee44448d",
   "metadata": {},
   "outputs": [
    {
     "name": "stdout",
     "output_type": "stream",
     "text": [
      "Hello\n"
     ]
    }
   ],
   "source": [
    "a = \"Hello\"\n",
    "print(a)"
   ]
  },
  {
   "cell_type": "markdown",
   "id": "afc7f6cc",
   "metadata": {},
   "source": [
    "# Python Strings - Multiline Strings"
   ]
  },
  {
   "cell_type": "code",
   "execution_count": 5,
   "id": "38436a2d",
   "metadata": {},
   "outputs": [
    {
     "name": "stdout",
     "output_type": "stream",
     "text": [
      "Lorem ipsum\n",
      "magna carlos aliqua.\n",
      "\n"
     ]
    }
   ],
   "source": [
    "# Multiline strings with three double quotes or three single quotes\n",
    "a = \"\"\"Lorem ipsum\n",
    "magna carlos aliqua.\n",
    "\"\"\"\n",
    "print(a)\n",
    "\n",
    "#in the result, the line breaks are inserted at the same position as in the code"
   ]
  },
  {
   "cell_type": "markdown",
   "id": "a68cd6db",
   "metadata": {},
   "source": [
    "# Python Strings - Strings are Arrays"
   ]
  },
  {
   "cell_type": "code",
   "execution_count": 6,
   "id": "8d55f272",
   "metadata": {},
   "outputs": [
    {
     "name": "stdout",
     "output_type": "stream",
     "text": [
      "e\n"
     ]
    }
   ],
   "source": [
    "# Get the character at position 1 (remember that the first character has the position of 0)\n",
    "a = \"Hello, World!\"\n",
    "print(a[1])"
   ]
  },
  {
   "cell_type": "markdown",
   "id": "6ccec789",
   "metadata": {},
   "source": [
    "# Python Strings - Looping Through a String"
   ]
  },
  {
   "cell_type": "code",
   "execution_count": 9,
   "id": "d8116644",
   "metadata": {},
   "outputs": [
    {
     "name": "stdout",
     "output_type": "stream",
     "text": [
      "b b\n",
      "a a\n",
      "n n\n",
      "a a\n",
      "n n\n",
      "a a\n"
     ]
    }
   ],
   "source": [
    "for x in \"banana\":\n",
    "    print(x, x)"
   ]
  },
  {
   "cell_type": "markdown",
   "id": "8abf40dc",
   "metadata": {},
   "source": [
    "# Python Strings - String Length"
   ]
  },
  {
   "cell_type": "code",
   "execution_count": 11,
   "id": "5bfe2883",
   "metadata": {},
   "outputs": [
    {
     "name": "stdout",
     "output_type": "stream",
     "text": [
      "12\n"
     ]
    }
   ],
   "source": [
    "# the len() function returns the length of a string\n",
    "\n",
    "a = \"Hello, World\"\n",
    "print(len(a)) # using the len() function to know the string length"
   ]
  },
  {
   "cell_type": "markdown",
   "id": "4a3878cf",
   "metadata": {},
   "source": [
    "# Python Strings - Check String"
   ]
  },
  {
   "cell_type": "code",
   "execution_count": 18,
   "id": "bb88cff1",
   "metadata": {},
   "outputs": [
    {
     "name": "stdout",
     "output_type": "stream",
     "text": [
      "True\n"
     ]
    }
   ],
   "source": [
    "# Check if \"free\" is present in the following text\n",
    "\n",
    "txt = \"The best things in life are free!\"\n",
    "print(\"free\" in txt) # it will give a true boolean"
   ]
  },
  {
   "cell_type": "code",
   "execution_count": 19,
   "id": "3afd4f91",
   "metadata": {},
   "outputs": [
    {
     "name": "stdout",
     "output_type": "stream",
     "text": [
      "Yes, 'free' is present.\n"
     ]
    }
   ],
   "source": [
    "# Print only if \"free\" is present\n",
    "\n",
    "txt = \"The best things in life are free!\"\n",
    "if \"free\" in txt:\n",
    "    print(\"Yes, 'free' is present.\")"
   ]
  },
  {
   "cell_type": "code",
   "execution_count": 22,
   "id": "bae36efe",
   "metadata": {},
   "outputs": [
    {
     "name": "stdout",
     "output_type": "stream",
     "text": [
      "True\n"
     ]
    }
   ],
   "source": [
    "# Check if \"expensive\" is NOT present in the following text\n",
    "\n",
    "txt = \"The best things in life are free!\"\n",
    "print(\"expensive\" not in txt)"
   ]
  },
  {
   "cell_type": "code",
   "execution_count": 23,
   "id": "d53bff51",
   "metadata": {},
   "outputs": [
    {
     "name": "stdout",
     "output_type": "stream",
     "text": [
      "No, 'expensive' is NOT present\n"
     ]
    }
   ],
   "source": [
    "# Print only if \"expensive\" is NOT present\n",
    "\n",
    "txt = \"The best things in life are free!\"\n",
    "if \"expensive\" not in txt:\n",
    "    print(\"No, 'expensive' is NOT present\")"
   ]
  },
  {
   "cell_type": "markdown",
   "id": "9ffadf30",
   "metadata": {},
   "source": [
    "# Python Strings - Slicing Strings"
   ]
  },
  {
   "cell_type": "markdown",
   "id": "d870611c",
   "metadata": {},
   "source": [
    "# Python Strings - Slicing"
   ]
  },
  {
   "cell_type": "code",
   "execution_count": 24,
   "id": "492efc2b",
   "metadata": {},
   "outputs": [
    {
     "name": "stdout",
     "output_type": "stream",
     "text": [
      "llo\n"
     ]
    }
   ],
   "source": [
    "# Get the characters from position 2 to position 5 (not included)\n",
    "b = \"Hello, World\"\n",
    "print(b[2:5])"
   ]
  },
  {
   "cell_type": "markdown",
   "id": "4b66dfb9",
   "metadata": {},
   "source": [
    "# Python Strings - Slice From the Start"
   ]
  },
  {
   "cell_type": "code",
   "execution_count": 25,
   "id": "b5aee15a",
   "metadata": {},
   "outputs": [
    {
     "name": "stdout",
     "output_type": "stream",
     "text": [
      "Hello\n"
     ]
    }
   ],
   "source": [
    "# Get the characters from the start to position 5 (not included)\n",
    "\n",
    "b = \"Hello, World\"\n",
    "print(b[:5])"
   ]
  },
  {
   "cell_type": "markdown",
   "id": "69ddb7bb",
   "metadata": {},
   "source": [
    "# Python Strings - Slice To the End"
   ]
  },
  {
   "cell_type": "code",
   "execution_count": 28,
   "id": "9964420e",
   "metadata": {},
   "outputs": [
    {
     "name": "stdout",
     "output_type": "stream",
     "text": [
      "llo, World!\n"
     ]
    }
   ],
   "source": [
    "# Get the characters form position 2, and all the way to the end\n",
    "\n",
    "b = \"Hello, World!\"\n",
    "print(b[2:])"
   ]
  },
  {
   "cell_type": "markdown",
   "id": "4d1cd8c1",
   "metadata": {},
   "source": [
    "# Python Strings - Negative Indexing"
   ]
  },
  {
   "cell_type": "code",
   "execution_count": 32,
   "id": "c8079618",
   "metadata": {},
   "outputs": [
    {
     "name": "stdout",
     "output_type": "stream",
     "text": [
      "orl\n"
     ]
    }
   ],
   "source": [
    "\"\"\" Get the characters:\n",
    "From: \"o\" in \"World!\" (position -5)\n",
    "To, but not included: \"d\" in \"World!\" (position -2):\n",
    "\"\"\"\n",
    "\n",
    "b = \"Hello, World!\"\n",
    "print(b[-5:-2])"
   ]
  },
  {
   "cell_type": "markdown",
   "id": "fac767bd",
   "metadata": {},
   "source": [
    "# Python Strings - Modify Strings"
   ]
  },
  {
   "cell_type": "markdown",
   "id": "53a9a531",
   "metadata": {},
   "source": [
    "# Python Strings - Upper and Lower Case"
   ]
  },
  {
   "cell_type": "code",
   "execution_count": 33,
   "id": "6dfe3000",
   "metadata": {},
   "outputs": [
    {
     "name": "stdout",
     "output_type": "stream",
     "text": [
      "HELLO, WORLD!\n"
     ]
    }
   ],
   "source": [
    "# The upper() method returns the string in upper case\n",
    "\n",
    "a = \"Hello, World!\"\n",
    "print(a.upper())"
   ]
  },
  {
   "cell_type": "code",
   "execution_count": 34,
   "id": "d3528468",
   "metadata": {},
   "outputs": [
    {
     "name": "stdout",
     "output_type": "stream",
     "text": [
      "hello, world!\n"
     ]
    }
   ],
   "source": [
    "# the lower() method returns the string in lower case\n",
    "\n",
    "a = \"Hello, World!\"\n",
    "print(a.lower())"
   ]
  },
  {
   "cell_type": "markdown",
   "id": "2e3ed5e5",
   "metadata": {},
   "source": [
    "# Python Strings - Remove Whitespace"
   ]
  },
  {
   "cell_type": "code",
   "execution_count": 36,
   "id": "f5159a2e",
   "metadata": {},
   "outputs": [
    {
     "name": "stdout",
     "output_type": "stream",
     "text": [
      "Hello,   World!\n"
     ]
    }
   ],
   "source": [
    "# The strip() method removes any whitespace from the beginning or the end\n",
    "\n",
    "a = \"Hello, World!\"\n",
    "print(a.strip())"
   ]
  },
  {
   "cell_type": "markdown",
   "id": "56c93fb7",
   "metadata": {},
   "source": [
    "# Python Strings - Replace String "
   ]
  },
  {
   "cell_type": "code",
   "execution_count": 38,
   "id": "de194b3d",
   "metadata": {},
   "outputs": [
    {
     "name": "stdout",
     "output_type": "stream",
     "text": [
      "Ferrari, World!\n"
     ]
    }
   ],
   "source": [
    "# the replace() method replaces a string with another string\n",
    "\n",
    "a = \"Hello, World!\"\n",
    "print(a.replace(\"Hello\", \"Ferrari\"))"
   ]
  },
  {
   "cell_type": "markdown",
   "id": "0237ab9f",
   "metadata": {},
   "source": [
    "# Python Strings - Split String"
   ]
  },
  {
   "cell_type": "code",
   "execution_count": 42,
   "id": "443f0fbc",
   "metadata": {},
   "outputs": [
    {
     "name": "stdout",
     "output_type": "stream",
     "text": [
      "['Hello', ' World!']\n"
     ]
    }
   ],
   "source": [
    "# The split() method splits the string into substrings if it finds instances of the separator \n",
    "\n",
    "a = \"Hello, World!\"\n",
    "print(a.split(\",\"))"
   ]
  },
  {
   "cell_type": "markdown",
   "id": "dc5e7ede",
   "metadata": {},
   "source": [
    "# Python Strings - String Concatenation"
   ]
  },
  {
   "cell_type": "code",
   "execution_count": 46,
   "id": "4fc307cf",
   "metadata": {},
   "outputs": [
    {
     "name": "stdout",
     "output_type": "stream",
     "text": [
      "Hello World\n"
     ]
    }
   ],
   "source": [
    "# Merge variable a with variable b into variable c\n",
    "\n",
    "a = \"Hello\"\n",
    "b = \"World\"\n",
    "c = a + \" \" + b\n",
    "print(c)"
   ]
  },
  {
   "cell_type": "markdown",
   "id": "ef41d93e",
   "metadata": {},
   "source": [
    "# Python Strings - Format - Strings"
   ]
  },
  {
   "cell_type": "markdown",
   "id": "fd8772f4",
   "metadata": {},
   "source": [
    "# Python Strings - String Format"
   ]
  },
  {
   "cell_type": "code",
   "execution_count": 47,
   "id": "451ae80c",
   "metadata": {},
   "outputs": [
    {
     "ename": "TypeError",
     "evalue": "can only concatenate str (not \"int\") to str",
     "output_type": "error",
     "traceback": [
      "\u001b[1;31m---------------------------------------------------------------------------\u001b[0m",
      "\u001b[1;31mTypeError\u001b[0m                                 Traceback (most recent call last)",
      "\u001b[1;32mC:\\Users\\ARRUUM~1\\AppData\\Local\\Temp/ipykernel_19976/1625696856.py\u001b[0m in \u001b[0;36m<module>\u001b[1;34m\u001b[0m\n\u001b[0;32m      2\u001b[0m \u001b[1;33m\u001b[0m\u001b[0m\n\u001b[0;32m      3\u001b[0m \u001b[0mage\u001b[0m \u001b[1;33m=\u001b[0m \u001b[1;36m36\u001b[0m\u001b[1;33m\u001b[0m\u001b[1;33m\u001b[0m\u001b[0m\n\u001b[1;32m----> 4\u001b[1;33m \u001b[0mtxt\u001b[0m \u001b[1;33m=\u001b[0m \u001b[1;34m\"My name is John, I am \"\u001b[0m \u001b[1;33m+\u001b[0m \u001b[0mage\u001b[0m\u001b[1;33m\u001b[0m\u001b[1;33m\u001b[0m\u001b[0m\n\u001b[0m\u001b[0;32m      5\u001b[0m \u001b[0mprint\u001b[0m\u001b[1;33m(\u001b[0m\u001b[0mtxt\u001b[0m\u001b[1;33m)\u001b[0m\u001b[1;33m\u001b[0m\u001b[1;33m\u001b[0m\u001b[0m\n",
      "\u001b[1;31mTypeError\u001b[0m: can only concatenate str (not \"int\") to str"
     ]
    }
   ],
   "source": [
    "# We cannot combine strings and numbers like this\n",
    "\n",
    "age = 36\n",
    "txt = \"My name is John, I am \" + age\n",
    "print(txt)"
   ]
  },
  {
   "cell_type": "code",
   "execution_count": 49,
   "id": "938e0fd9",
   "metadata": {},
   "outputs": [
    {
     "name": "stdout",
     "output_type": "stream",
     "text": [
      "My name is John, and I am 36\n"
     ]
    }
   ],
   "source": [
    "# Use the format() method to insert numbers into strings\n",
    "\n",
    "age = 36\n",
    "txt = \"My name is John, and I am {}\"\n",
    "print(txt.format(age)) # Takes the value of the variable age, puts it in {} format"
   ]
  },
  {
   "cell_type": "code",
   "execution_count": 51,
   "id": "615f64bf",
   "metadata": {},
   "outputs": [
    {
     "name": "stdout",
     "output_type": "stream",
     "text": [
      "I want 3 pieces of item 567 for 49.95 dollars.\n"
     ]
    }
   ],
   "source": [
    "# Try with a few arguments to take place in the placeholders\n",
    "\n",
    "quantity = 3\n",
    "itemno = 567\n",
    "price = 49.95\n",
    "myorder = \"I want {} pieces of item {} for {} dollars.\"\n",
    "print(myorder.format(quantity, itemno, price))"
   ]
  },
  {
   "cell_type": "code",
   "execution_count": 52,
   "id": "627e488d",
   "metadata": {},
   "outputs": [
    {
     "name": "stdout",
     "output_type": "stream",
     "text": [
      "I want 49.95 dollars for 3 pieces of item 567.\n"
     ]
    }
   ],
   "source": [
    "# Try it with index numbers in the {}\n",
    "\n",
    "quantity = 3\n",
    "itemno = 567\n",
    "price = 49.95\n",
    "myorder = \"I want {2} dollars for {0} pieces of item {1}.\"\n",
    "print(myorder.format(quantity, itemno, price))\n",
    "# index starting in 0"
   ]
  },
  {
   "cell_type": "markdown",
   "id": "b7a117fb",
   "metadata": {},
   "source": [
    "# Python Strings - Escape Characters"
   ]
  },
  {
   "cell_type": "code",
   "execution_count": 53,
   "id": "76362368",
   "metadata": {},
   "outputs": [
    {
     "ename": "SyntaxError",
     "evalue": "invalid syntax (Temp/ipykernel_19976/3152277789.py, line 3)",
     "output_type": "error",
     "traceback": [
      "\u001b[1;36m  File \u001b[1;32m\"C:\\Users\\ARRUUM~1\\AppData\\Local\\Temp/ipykernel_19976/3152277789.py\"\u001b[1;36m, line \u001b[1;32m3\u001b[0m\n\u001b[1;33m    txt = \"we are the so-called \"Vikings\" from the north. \"\u001b[0m\n\u001b[1;37m                                 ^\u001b[0m\n\u001b[1;31mSyntaxError\u001b[0m\u001b[1;31m:\u001b[0m invalid syntax\n"
     ]
    }
   ],
   "source": [
    "# You will get an error if you use double quotes inside a string that is surrounded by double quotes\n",
    "\n",
    "txt = \"we are the so-called \"Vikings\" from the north. \"\n",
    "\n",
    "# To fix this problem, use the escape character \\\""
   ]
  },
  {
   "cell_type": "code",
   "execution_count": 54,
   "id": "d592ba4b",
   "metadata": {},
   "outputs": [
    {
     "name": "stdout",
     "output_type": "stream",
     "text": [
      "We are the so-called \"Vikings\" from the north.\n"
     ]
    }
   ],
   "source": [
    "# The escape character allows you to use double quotes when you normally would not be allowed\n",
    "\n",
    "txt = \"We are the so-called \\\"Vikings\\\" from the north.\"\n",
    "\n",
    "print(txt)"
   ]
  },
  {
   "cell_type": "code",
   "execution_count": 57,
   "id": "50c0c4b8",
   "metadata": {},
   "outputs": [
    {
     "name": "stdout",
     "output_type": "stream",
     "text": [
      "It's alright\n",
      "This will insert one \\ (backlash)\n",
      "Hello\n",
      "World!\n",
      "Hello\r",
      "World!\n",
      "Hello\tWorld!\n",
      "Hello \bWorld!\n",
      "Hello\n",
      "Hello\n"
     ]
    }
   ],
   "source": [
    "# Other escape character\n",
    "\n",
    "txt1 = \"It\\'s alright\"\n",
    "print(txt1)\n",
    "txt2 = \"This will insert one \\\\ (backlash)\"\n",
    "print(txt2)\n",
    "txt3 = \"Hello\\nWorld!\"\n",
    "print(txt3)\n",
    "txt4 = \"Hello\\rWorld!\"\n",
    "print(txt4)\n",
    "txt5 = \"Hello\\tWorld!\"\n",
    "print(txt5)\n",
    "txt6 = \"Hello \\bWorld!\" # This will erases one character (backspace)\n",
    "print(txt6)\n",
    "txt7 = \"\\110\\145\\154\\154\\157\" # A backslash followed by three integers will result in a octal value\n",
    "print(txt7)\n",
    "txt8 = \"\\x48\\x65\\x6c\\x6c\\x6f\" # A backslash followed by an 'x' and a hex number represents a hex value\n",
    "print(txt8)"
   ]
  },
  {
   "cell_type": "markdown",
   "id": "241d532b",
   "metadata": {},
   "source": [
    "# Python Booleans"
   ]
  },
  {
   "cell_type": "markdown",
   "id": "d67e499d",
   "metadata": {},
   "source": [
    "# Python Booleans - Boolean Values"
   ]
  },
  {
   "cell_type": "code",
   "execution_count": 1,
   "id": "26979c43",
   "metadata": {},
   "outputs": [
    {
     "name": "stdout",
     "output_type": "stream",
     "text": [
      "True\n",
      "False\n",
      "False\n"
     ]
    }
   ],
   "source": [
    "print(10 > 9)\n",
    "print(10 == 9)\n",
    "print(10 < 9)"
   ]
  },
  {
   "cell_type": "code",
   "execution_count": 2,
   "id": "a661c8b9",
   "metadata": {},
   "outputs": [
    {
     "name": "stdout",
     "output_type": "stream",
     "text": [
      "a is greater than b\n"
     ]
    }
   ],
   "source": [
    "# Print a message based on wheter the condition is true or false\n",
    "\n",
    "a = 200\n",
    "b = 33\n",
    "\n",
    "if b > a:\n",
    "    print(\"b is greater than a\")\n",
    "else:\n",
    "    print(\"a is greater than b\")"
   ]
  },
  {
   "cell_type": "markdown",
   "id": "2a296a17",
   "metadata": {},
   "source": [
    "# Python Booleans - Evaluate Values and Variables"
   ]
  },
  {
   "cell_type": "code",
   "execution_count": 5,
   "id": "6dace697",
   "metadata": {},
   "outputs": [
    {
     "name": "stdout",
     "output_type": "stream",
     "text": [
      "True\n",
      "True\n"
     ]
    }
   ],
   "source": [
    "# Evaluate a string and a number\n",
    "\n",
    "print(bool(\"Hello\"))\n",
    "print(bool(15))"
   ]
  },
  {
   "cell_type": "code",
   "execution_count": 6,
   "id": "e0ed3fac",
   "metadata": {},
   "outputs": [
    {
     "name": "stdout",
     "output_type": "stream",
     "text": [
      "True\n",
      "True\n"
     ]
    }
   ],
   "source": [
    "# Evaluate two variables\n",
    "\n",
    "x = \"Hello\"\n",
    "y = 15\n",
    "\n",
    "print(bool(x))\n",
    "print(bool(y))"
   ]
  },
  {
   "cell_type": "markdown",
   "id": "fa7b9680",
   "metadata": {},
   "source": [
    "# Python Booleans - Most Values are True"
   ]
  },
  {
   "cell_type": "code",
   "execution_count": 8,
   "id": "5eed39de",
   "metadata": {},
   "outputs": [
    {
     "name": "stdout",
     "output_type": "stream",
     "text": [
      "True\n",
      "True\n",
      "True\n"
     ]
    }
   ],
   "source": [
    "print(bool(\"abc\"))\n",
    "print(bool(123))\n",
    "print(bool([\"apple\", \"cherry\", \"banana\"]))"
   ]
  },
  {
   "cell_type": "markdown",
   "id": "f903a953",
   "metadata": {},
   "source": [
    "# Python Booleans - Some Values are False"
   ]
  },
  {
   "cell_type": "code",
   "execution_count": 9,
   "id": "f1317839",
   "metadata": {},
   "outputs": [
    {
     "name": "stdout",
     "output_type": "stream",
     "text": [
      "False\n",
      "False\n",
      "False\n",
      "False\n",
      "False\n",
      "False\n",
      "False\n"
     ]
    }
   ],
   "source": [
    "print(bool(False))\n",
    "print(bool(None))\n",
    "print(bool(0))\n",
    "print(bool(\"\"))\n",
    "print(bool(()))\n",
    "print(bool([]))\n",
    "print(bool({}))"
   ]
  },
  {
   "cell_type": "code",
   "execution_count": 11,
   "id": "767601b9",
   "metadata": {},
   "outputs": [
    {
     "name": "stdout",
     "output_type": "stream",
     "text": [
      "False\n"
     ]
    }
   ],
   "source": [
    "class myclass():\n",
    "    def __len__(self):\n",
    "        return 0\n",
    "    \n",
    "myobj = myclass() \n",
    "print(bool(myobj)) # a class of an __len__ func is always false "
   ]
  },
  {
   "cell_type": "markdown",
   "id": "411fc005",
   "metadata": {},
   "source": [
    "# Python Booleans - Functions can Return a Boolean"
   ]
  },
  {
   "cell_type": "code",
   "execution_count": 1,
   "id": "a421da72",
   "metadata": {},
   "outputs": [
    {
     "name": "stdout",
     "output_type": "stream",
     "text": [
      "True\n"
     ]
    }
   ],
   "source": [
    "def myFunction():\n",
    "    return True\n",
    "\n",
    "print(myFunction())"
   ]
  },
  {
   "cell_type": "code",
   "execution_count": 4,
   "id": "6e5737b1",
   "metadata": {},
   "outputs": [
    {
     "name": "stdout",
     "output_type": "stream",
     "text": [
      "YES!\n"
     ]
    }
   ],
   "source": [
    "def myFunction():\n",
    "    return True\n",
    "\n",
    "if myFunction():\n",
    "    print(\"YES!\")\n",
    "else:\n",
    "    print(\"NO!\")"
   ]
  },
  {
   "cell_type": "code",
   "execution_count": 9,
   "id": "22bbc7bd",
   "metadata": {},
   "outputs": [
    {
     "name": "stdout",
     "output_type": "stream",
     "text": [
      "True\n"
     ]
    }
   ],
   "source": [
    "# Check if an object is an integer or not\n",
    "\n",
    "x=200\n",
    "print(isinstance(x, int))"
   ]
  },
  {
   "cell_type": "markdown",
   "id": "5e69870e",
   "metadata": {},
   "source": [
    "# Python Operators"
   ]
  },
  {
   "cell_type": "code",
   "execution_count": 10,
   "id": "9d2deb4c",
   "metadata": {},
   "outputs": [
    {
     "name": "stdout",
     "output_type": "stream",
     "text": [
      "15\n"
     ]
    }
   ],
   "source": [
    "print(10+5)"
   ]
  },
  {
   "cell_type": "markdown",
   "id": "b3529828",
   "metadata": {},
   "source": [
    "# Python Operators - Arithmetic Operators"
   ]
  },
  {
   "cell_type": "code",
   "execution_count": 11,
   "id": "8c69c613",
   "metadata": {},
   "outputs": [],
   "source": [
    "x = 5\n",
    "y = 3"
   ]
  },
  {
   "cell_type": "code",
   "execution_count": 13,
   "id": "0bd72b81",
   "metadata": {},
   "outputs": [
    {
     "name": "stdout",
     "output_type": "stream",
     "text": [
      "Addition =  8\n",
      "Subtraction =  2\n",
      "Multiplication =  15\n",
      "Division =  1.6666666666666667\n",
      "Modulus =  2\n",
      "Exponentiation =  125\n",
      "Floor division =  1\n"
     ]
    }
   ],
   "source": [
    "print(\"Addition = \", x+y)\n",
    "print(\"Subtraction = \", x-y)\n",
    "print(\"Multiplication = \", x*y)\n",
    "print(\"Division = \", x/y)\n",
    "print(\"Modulus = \", x%y)\n",
    "print(\"Exponentiation = \", x**y)\n",
    "print(\"Floor division = \", x//y) # the floor division rounds the result down to the nearest whole number, most of the times the divison result that is the nearest of it"
   ]
  },
  {
   "cell_type": "markdown",
   "id": "4c71960a",
   "metadata": {},
   "source": [
    "# Python Operators - Assignment Operators"
   ]
  },
  {
   "cell_type": "code",
   "execution_count": 1,
   "id": "304c63e9",
   "metadata": {},
   "outputs": [
    {
     "name": "stdout",
     "output_type": "stream",
     "text": [
      "5\n"
     ]
    }
   ],
   "source": [
    "x = 5\n",
    "print(x)"
   ]
  },
  {
   "cell_type": "code",
   "execution_count": 2,
   "id": "f829838e",
   "metadata": {},
   "outputs": [
    {
     "name": "stdout",
     "output_type": "stream",
     "text": [
      "+=3 Operator:  8\n"
     ]
    }
   ],
   "source": [
    "x = 5\n",
    "x+=3\n",
    "print(\"+=3 Operator: \", x)"
   ]
  },
  {
   "cell_type": "code",
   "execution_count": 3,
   "id": "b5014459",
   "metadata": {},
   "outputs": [
    {
     "name": "stdout",
     "output_type": "stream",
     "text": [
      "-=3 Operator:  2\n"
     ]
    }
   ],
   "source": [
    "x = 5\n",
    "x-=3\n",
    "print(\"-=3 Operator: \", x)"
   ]
  },
  {
   "cell_type": "code",
   "execution_count": 4,
   "id": "d71e7a0a",
   "metadata": {},
   "outputs": [
    {
     "name": "stdout",
     "output_type": "stream",
     "text": [
      "*=3 Operator:  15\n"
     ]
    }
   ],
   "source": [
    "x = 5\n",
    "x*=3\n",
    "print(\"*=3 Operator: \", x)"
   ]
  },
  {
   "cell_type": "code",
   "execution_count": 5,
   "id": "804b711c",
   "metadata": {},
   "outputs": [
    {
     "name": "stdout",
     "output_type": "stream",
     "text": [
      "/=3 Operator:  1.6666666666666667\n"
     ]
    }
   ],
   "source": [
    "x = 5\n",
    "x/=3\n",
    "print(\"/=3 Operator: \", x)"
   ]
  },
  {
   "cell_type": "code",
   "execution_count": 6,
   "id": "233d3ab8",
   "metadata": {},
   "outputs": [
    {
     "name": "stdout",
     "output_type": "stream",
     "text": [
      "%=3 Operator:  2\n"
     ]
    }
   ],
   "source": [
    "x=5\n",
    "x%=3\n",
    "print(\"%=3 Operator: \", x)"
   ]
  },
  {
   "cell_type": "code",
   "execution_count": 7,
   "id": "d9b8346e",
   "metadata": {},
   "outputs": [
    {
     "name": "stdout",
     "output_type": "stream",
     "text": [
      "//=3 Operator:  1\n"
     ]
    }
   ],
   "source": [
    "x=5\n",
    "x//=3\n",
    "print(\"//=3 Operator: \", x)"
   ]
  },
  {
   "cell_type": "code",
   "execution_count": 8,
   "id": "8c74fd93",
   "metadata": {},
   "outputs": [
    {
     "name": "stdout",
     "output_type": "stream",
     "text": [
      "**=3 Operator:  125\n"
     ]
    }
   ],
   "source": [
    "x=5\n",
    "x**=3\n",
    "print(\"**=3 Operator: \", x)"
   ]
  },
  {
   "cell_type": "code",
   "execution_count": 9,
   "id": "8c3a077c",
   "metadata": {},
   "outputs": [
    {
     "name": "stdout",
     "output_type": "stream",
     "text": [
      "&=3 Operator:  1\n"
     ]
    }
   ],
   "source": [
    "x=5\n",
    "x &= 3\n",
    "print(\"&=3 Operator: \", x)"
   ]
  },
  {
   "cell_type": "code",
   "execution_count": 10,
   "id": "426aa74c",
   "metadata": {},
   "outputs": [
    {
     "name": "stdout",
     "output_type": "stream",
     "text": [
      "|=3 Operator:  7\n"
     ]
    }
   ],
   "source": [
    "x=5\n",
    "x|=3\n",
    "print(\"|=3 Operator: \", x)   "
   ]
  },
  {
   "cell_type": "code",
   "execution_count": 11,
   "id": "36f58758",
   "metadata": {},
   "outputs": [
    {
     "name": "stdout",
     "output_type": "stream",
     "text": [
      "^=3 Operator:  6\n"
     ]
    }
   ],
   "source": [
    "x=5\n",
    "x^=3\n",
    "print(\"^=3 Operator: \", x)"
   ]
  },
  {
   "cell_type": "code",
   "execution_count": 12,
   "id": "6f6b49eb",
   "metadata": {},
   "outputs": [
    {
     "name": "stdout",
     "output_type": "stream",
     "text": [
      ">>=3 Operator:  0\n"
     ]
    }
   ],
   "source": [
    "x=5\n",
    "x>>=3\n",
    "print(\">>=3 Operator: \", x)"
   ]
  },
  {
   "cell_type": "code",
   "execution_count": 13,
   "id": "ade7ea99",
   "metadata": {},
   "outputs": [
    {
     "name": "stdout",
     "output_type": "stream",
     "text": [
      "<<=3 Operator:  40\n"
     ]
    }
   ],
   "source": [
    "x=5\n",
    "x<<=3\n",
    "print(\"<<=3 Operator: \", x) "
   ]
  },
  {
   "cell_type": "markdown",
   "id": "e2f73491",
   "metadata": {},
   "source": [
    "# Python Operators - Comparison Operators"
   ]
  },
  {
   "cell_type": "code",
   "execution_count": 14,
   "id": "0ff0c855",
   "metadata": {},
   "outputs": [
    {
     "name": "stdout",
     "output_type": "stream",
     "text": [
      "False\n"
     ]
    }
   ],
   "source": [
    "x = 5\n",
    "y = 3\n",
    "\n",
    "print(x == y)"
   ]
  },
  {
   "cell_type": "code",
   "execution_count": 15,
   "id": "ed0173de",
   "metadata": {},
   "outputs": [
    {
     "name": "stdout",
     "output_type": "stream",
     "text": [
      "True\n"
     ]
    }
   ],
   "source": [
    "x = 5\n",
    "y = 3\n",
    "\n",
    "print(x != y)"
   ]
  },
  {
   "cell_type": "code",
   "execution_count": 16,
   "id": "8f45a725",
   "metadata": {},
   "outputs": [
    {
     "name": "stdout",
     "output_type": "stream",
     "text": [
      "True\n"
     ]
    }
   ],
   "source": [
    "x = 5\n",
    "y = 3\n",
    "\n",
    "print(x > y)"
   ]
  },
  {
   "cell_type": "code",
   "execution_count": 17,
   "id": "65644223",
   "metadata": {},
   "outputs": [
    {
     "name": "stdout",
     "output_type": "stream",
     "text": [
      "False\n"
     ]
    }
   ],
   "source": [
    "x = 5\n",
    "y = 3\n",
    "\n",
    "print(x < y)"
   ]
  },
  {
   "cell_type": "code",
   "execution_count": 18,
   "id": "958cdae4",
   "metadata": {},
   "outputs": [
    {
     "name": "stdout",
     "output_type": "stream",
     "text": [
      "True\n"
     ]
    }
   ],
   "source": [
    "x = 5\n",
    "y = 3\n",
    "\n",
    "print(x >= y)"
   ]
  },
  {
   "cell_type": "code",
   "execution_count": 19,
   "id": "276262d2",
   "metadata": {},
   "outputs": [
    {
     "name": "stdout",
     "output_type": "stream",
     "text": [
      "False\n"
     ]
    }
   ],
   "source": [
    "x = 5\n",
    "y = 3\n",
    "\n",
    "print(x <= y)"
   ]
  },
  {
   "cell_type": "markdown",
   "id": "af0a108b",
   "metadata": {},
   "source": [
    "# Python Operators - Logical Operators"
   ]
  },
  {
   "cell_type": "code",
   "execution_count": 20,
   "id": "7e33795b",
   "metadata": {},
   "outputs": [
    {
     "name": "stdout",
     "output_type": "stream",
     "text": [
      "True\n"
     ]
    }
   ],
   "source": [
    "x = 5\n",
    "\n",
    "print(x > 3 and x < 10) # Returns True because for it is in fact true for BOTH statements"
   ]
  },
  {
   "cell_type": "code",
   "execution_count": 21,
   "id": "8fea6fbd",
   "metadata": {},
   "outputs": [
    {
     "name": "stdout",
     "output_type": "stream",
     "text": [
      "True\n"
     ]
    }
   ],
   "source": [
    "x = 5\n",
    "\n",
    "print(x > 3 or x < 4) # Returns True because one of the statements proved True which is 5 > 3"
   ]
  },
  {
   "cell_type": "code",
   "execution_count": 22,
   "id": "e479255d",
   "metadata": {},
   "outputs": [
    {
     "name": "stdout",
     "output_type": "stream",
     "text": [
      "False\n"
     ]
    }
   ],
   "source": [
    "x = 5\n",
    "\n",
    "print(not(x > 3 and x < 10)) # not is used to reverse or negate the result what's inside the ()"
   ]
  },
  {
   "cell_type": "markdown",
   "id": "fda7acac",
   "metadata": {},
   "source": [
    "# Python Operators - Identity Operators"
   ]
  },
  {
   "cell_type": "code",
   "execution_count": 23,
   "id": "bd2bc0d9",
   "metadata": {},
   "outputs": [
    {
     "name": "stdout",
     "output_type": "stream",
     "text": [
      "True\n",
      "False\n",
      "True\n"
     ]
    }
   ],
   "source": [
    "x = [\"apple\", \"banana\"]\n",
    "y = [\"apple\", \"banana\"]\n",
    "z = x\n",
    "\n",
    "print(x is z) # Returns True because z is the same object as x because of the same element AND the same memory location of z\n",
    "print(x is y) # Returns False because eventhough x and y have the same content or element, but they have different memory location\n",
    "print(x == y) # Returns True because they have the same element, doesn't matter about the memory location"
   ]
  },
  {
   "cell_type": "code",
   "execution_count": 24,
   "id": "ff78a1f4",
   "metadata": {},
   "outputs": [
    {
     "name": "stdout",
     "output_type": "stream",
     "text": [
      "False\n",
      "True\n",
      "False\n"
     ]
    }
   ],
   "source": [
    "x = [\"apple\", \"banana\"]\n",
    "y = [\"apple\", \"banana\"]\n",
    "z = x\n",
    "\n",
    "print(x is not z) # Returns False because they have the same content and memory location\n",
    "print(x is not y) # Returns True Because they do have different memory location eventhough with the same content\n",
    "print(x != y) # Returns False because they do have the same content so x is equal to y"
   ]
  },
  {
   "cell_type": "markdown",
   "id": "23bc7cd3",
   "metadata": {},
   "source": [
    "# Python Operators - Identity Operators"
   ]
  },
  {
   "cell_type": "code",
   "execution_count": 25,
   "id": "92f82656",
   "metadata": {},
   "outputs": [
    {
     "name": "stdout",
     "output_type": "stream",
     "text": [
      "True\n"
     ]
    }
   ],
   "source": [
    "x = [\"apple\", \"banana\"]\n",
    "\n",
    "print(\"banana\" in x) "
   ]
  },
  {
   "cell_type": "code",
   "execution_count": 26,
   "id": "c6a1a86a",
   "metadata": {},
   "outputs": [
    {
     "name": "stdout",
     "output_type": "stream",
     "text": [
      "True\n"
     ]
    }
   ],
   "source": [
    "x = [\"apple\", \"banana\"]\n",
    "\n",
    "print(\"pinapple\" not in x) "
   ]
  },
  {
   "cell_type": "markdown",
   "id": "72b2c716",
   "metadata": {},
   "source": [
    "# Python Operators - Bitwise Operators"
   ]
  },
  {
   "cell_type": "code",
   "execution_count": 28,
   "id": "0b346663",
   "metadata": {},
   "outputs": [
    {
     "data": {
      "text/plain": [
       "'\\n6 = 0000000000000110\\n3 = 0000000000000011\\n--------------------\\n2 = 0000000000000010\\n====================\\n\\nDecimal numbers and their binary values:\\n0 = 0000000000000000\\n1 = 0000000000000001\\n2 = 0000000000000010\\n3 = 0000000000000011\\n4 = 0000000000000100\\n5 = 0000000000000101\\n6 = 0000000000000110\\n7 = 0000000000000111\\n'"
      ]
     },
     "execution_count": 28,
     "metadata": {},
     "output_type": "execute_result"
    }
   ],
   "source": [
    "\"\"\"\n",
    "The & operator compares each bit and set it to 1 \n",
    "if both are 1, otherwise it is set to 0\n",
    "\"\"\"\n",
    "\n",
    "\"\"\"\n",
    "6 = 0000000000000110\n",
    "7 = 0000000000000111\n",
    "--------------------\n",
    "4 = 0000000000000110\n",
    "====================\n",
    "\n",
    "Decimal numbers and their binary values:\n",
    "0 = 0000000000000000\n",
    "1 = 0000000000000001\n",
    "2 = 0000000000000010\n",
    "3 = 0000000000000011\n",
    "4 = 0000000000000100\n",
    "5 = 0000000000000101\n",
    "6 = 0000000000000110\n",
    "7 = 0000000000000111\n",
    "\"\"\""
   ]
  },
  {
   "cell_type": "code",
   "execution_count": 30,
   "id": "426b1a6c",
   "metadata": {},
   "outputs": [
    {
     "name": "stdout",
     "output_type": "stream",
     "text": [
      "2\n"
     ]
    },
    {
     "data": {
      "text/plain": [
       "' Karena \\n6 = 0000000000000110\\n3 = 0000000000000011\\n--------------------\\nMaka yang sama ada di 2 digit paling belakang, sehingga:\\n2 = 0000000000000010\\n====================\\n\\n'"
      ]
     },
     "execution_count": 30,
     "metadata": {},
     "output_type": "execute_result"
    }
   ],
   "source": [
    "print(6 & 3)\n",
    "\n",
    "\"\"\" Karena \n",
    "6 = 0000000000000110\n",
    "3 = 0000000000000011\n",
    "--------------------\n",
    "Maka yang sama ada di 2 digit paling belakang, sehingga:\n",
    "2 = 0000000000000010\n",
    "====================\n",
    "\n",
    "\"\"\""
   ]
  },
  {
   "cell_type": "code",
   "execution_count": 33,
   "id": "cc2fb545",
   "metadata": {},
   "outputs": [
    {
     "name": "stdout",
     "output_type": "stream",
     "text": [
      "6\n"
     ]
    }
   ],
   "source": [
    "print(6 & 7)"
   ]
  },
  {
   "cell_type": "code",
   "execution_count": null,
   "id": "633fcf74",
   "metadata": {},
   "outputs": [],
   "source": [
    "\"\"\"\n",
    "The | operator compares each bit and set it to 1 \n",
    "if one or both is 1, otherwise it is set to 0\n",
    "\"\"\"\n",
    "\n",
    "\"\"\"\n",
    "6 = 0000000000000110\n",
    "3 = 0000000000000011\n",
    "--------------------\n",
    "7 = 0000000000000111\n",
    "====================\n",
    "\n",
    "Decimal numbers and their binary values:\n",
    "0 = 0000000000000000\n",
    "1 = 0000000000000001\n",
    "2 = 0000000000000010\n",
    "3 = 0000000000000011\n",
    "4 = 0000000000000100\n",
    "5 = 0000000000000101\n",
    "6 = 0000000000000110\n",
    "7 = 0000000000000111\n",
    "\"\"\""
   ]
  },
  {
   "cell_type": "code",
   "execution_count": 34,
   "id": "7b7a58e4",
   "metadata": {},
   "outputs": [
    {
     "name": "stdout",
     "output_type": "stream",
     "text": [
      "7\n"
     ]
    }
   ],
   "source": [
    "print(6|3)"
   ]
  },
  {
   "cell_type": "code",
   "execution_count": null,
   "id": "587af56c",
   "metadata": {},
   "outputs": [],
   "source": [
    "\"\"\"\n",
    "The ^ operator compares each bit and set it to 1 \n",
    "if only one is 1, otherwise (if both are 1 or both are 0)\n",
    "it is set to 0\n",
    "\"\"\"\n",
    "\n",
    "\"\"\"\n",
    "6 = 0000000000000110\n",
    "3 = 0000000000000011\n",
    "--------------------\n",
    "5 = 0000000000000101\n",
    "====================\n",
    "\n",
    "Decimal numbers and their binary values:\n",
    "0 = 0000000000000000\n",
    "1 = 0000000000000001\n",
    "2 = 0000000000000010\n",
    "3 = 0000000000000011\n",
    "4 = 0000000000000100\n",
    "5 = 0000000000000101\n",
    "6 = 0000000000000110\n",
    "7 = 0000000000000111\n",
    "\"\"\""
   ]
  },
  {
   "cell_type": "code",
   "execution_count": 35,
   "id": "0afe1b87",
   "metadata": {},
   "outputs": [
    {
     "name": "stdout",
     "output_type": "stream",
     "text": [
      "5\n"
     ]
    }
   ],
   "source": [
    "print(6^3)"
   ]
  },
  {
   "cell_type": "code",
   "execution_count": null,
   "id": "0bb276ff",
   "metadata": {},
   "outputs": [],
   "source": [
    "\"\"\"\n",
    "The ~ operator inverts each bit (0 becomes 1 and 1 becomes 0).\n",
    "\"\"\"\n",
    "\n",
    "\"\"\"\n",
    "Inverted 3 becomes -4:\n",
    " 3 = 0000000000000011\n",
    "-4 = 1111111111111100\n",
    "\n",
    " 2 = 0000000000000010\n",
    "-3 = 1111111111111101 \n",
    "\n",
    "Decimal numbers and their binary values:\n",
    " 4 = 0000000000000100\n",
    " 3 = 0000000000000011\n",
    " 2 = 0000000000000010\n",
    " 1 = 0000000000000001\n",
    " 0 = 0000000000000000\n",
    "-1 = 1111111111111111\n",
    "-2 = 1111111111111110\n",
    "-3 = 1111111111111101\n",
    "-4 = 1111111111111100\n",
    "\"\"\""
   ]
  },
  {
   "cell_type": "code",
   "execution_count": 36,
   "id": "530718a6",
   "metadata": {},
   "outputs": [
    {
     "name": "stdout",
     "output_type": "stream",
     "text": [
      "-4\n"
     ]
    }
   ],
   "source": [
    "print(~3)"
   ]
  },
  {
   "cell_type": "code",
   "execution_count": 37,
   "id": "41b785ea",
   "metadata": {},
   "outputs": [
    {
     "name": "stdout",
     "output_type": "stream",
     "text": [
      "-3\n"
     ]
    }
   ],
   "source": [
    "print(~2)"
   ]
  },
  {
   "cell_type": "code",
   "execution_count": null,
   "id": "2ad4667a",
   "metadata": {},
   "outputs": [],
   "source": [
    "\"\"\"\n",
    "The << operator inserts the specified number of 0's \n",
    "(in this case 2) from the right and let the same amount \n",
    "of leftmost bits fall off\n",
    "\"\"\"\n",
    "\n",
    "\"\"\"\n",
    "If you push 00 in from the right:\n",
    " 3 = 0000000000000011\n",
    " becomes\n",
    "12 = 0000000000001100\n",
    "\n",
    "Decimal numbers and their binary values:\n",
    " 0 = 0000000000000000\n",
    " 1 = 0000000000000001\n",
    " 2 = 0000000000000010\n",
    " 3 = 0000000000000011\n",
    " 4 = 0000000000000100\n",
    " 5 = 0000000000000101\n",
    " 6 = 0000000000000110\n",
    " 7 = 0000000000000111\n",
    " 8 = 0000000000001000\n",
    " 9 = 0000000000001001\n",
    "10 = 0000000000001010\n",
    "11 = 0000000000001011\n",
    "12 = 0000000000001100\n",
    "\"\"\""
   ]
  },
  {
   "cell_type": "code",
   "execution_count": 38,
   "id": "d888394b",
   "metadata": {},
   "outputs": [
    {
     "name": "stdout",
     "output_type": "stream",
     "text": [
      "12\n"
     ]
    }
   ],
   "source": [
    "print( 3 << 2)"
   ]
  },
  {
   "cell_type": "code",
   "execution_count": 39,
   "id": "1e7067eb",
   "metadata": {},
   "outputs": [
    {
     "name": "stdout",
     "output_type": "stream",
     "text": [
      "72\n"
     ]
    }
   ],
   "source": [
    "print (9 << 3)  "
   ]
  },
  {
   "cell_type": "code",
   "execution_count": null,
   "id": "bd797765",
   "metadata": {},
   "outputs": [],
   "source": [
    "\"\"\"\n",
    "The >> operator moves each bit the specified number of times to the right. \n",
    "Empty holes at the lest are filled with 0's\n",
    "\"\"\"\n",
    "\n",
    "\"\"\"\n",
    "If you move each bit 2 times to the right, 8 becomes 2:\n",
    " 8 = 0000000000001000\n",
    "becomes\n",
    "4= 0000000000000100\n",
    "\"\"\""
   ]
  },
  {
   "cell_type": "code",
   "execution_count": 40,
   "id": "db10e09e",
   "metadata": {},
   "outputs": [
    {
     "name": "stdout",
     "output_type": "stream",
     "text": [
      "2\n"
     ]
    }
   ],
   "source": [
    "print(8 >> 2)"
   ]
  },
  {
   "cell_type": "code",
   "execution_count": 41,
   "id": "a24794d6",
   "metadata": {},
   "outputs": [
    {
     "name": "stdout",
     "output_type": "stream",
     "text": [
      "4\n"
     ]
    }
   ],
   "source": [
    "print(8 >> 1)"
   ]
  },
  {
   "cell_type": "markdown",
   "id": "98cfb673",
   "metadata": {},
   "source": [
    "# Python Operator - Operator Precedence"
   ]
  },
  {
   "cell_type": "code",
   "execution_count": 42,
   "id": "6b27426b",
   "metadata": {},
   "outputs": [
    {
     "name": "stdout",
     "output_type": "stream",
     "text": [
      "0\n"
     ]
    }
   ],
   "source": [
    "print((6+3) - (6+3))"
   ]
  },
  {
   "cell_type": "code",
   "execution_count": 43,
   "id": "e164081f",
   "metadata": {},
   "outputs": [
    {
     "name": "stdout",
     "output_type": "stream",
     "text": [
      "115\n"
     ]
    }
   ],
   "source": [
    "print(100 + 5 *3)"
   ]
  },
  {
   "cell_type": "code",
   "execution_count": 44,
   "id": "b1121538",
   "metadata": {},
   "outputs": [
    {
     "name": "stdout",
     "output_type": "stream",
     "text": [
      "73\n"
     ]
    }
   ],
   "source": [
    "print(100 - 3 ** 3)"
   ]
  },
  {
   "cell_type": "code",
   "execution_count": 45,
   "id": "8045f358",
   "metadata": {},
   "outputs": [
    {
     "name": "stdout",
     "output_type": "stream",
     "text": [
      "96\n"
     ]
    }
   ],
   "source": [
    "print(100 + ~3)"
   ]
  },
  {
   "cell_type": "code",
   "execution_count": 46,
   "id": "be2e6ad9",
   "metadata": {},
   "outputs": [
    {
     "name": "stdout",
     "output_type": "stream",
     "text": [
      "115\n"
     ]
    }
   ],
   "source": [
    "print(100 + 5 * 3)"
   ]
  },
  {
   "cell_type": "code",
   "execution_count": 47,
   "id": "a7a807f7",
   "metadata": {},
   "outputs": [
    {
     "name": "stdout",
     "output_type": "stream",
     "text": [
      "85\n"
     ]
    }
   ],
   "source": [
    "print(100 - 5 * 3)"
   ]
  },
  {
   "cell_type": "code",
   "execution_count": 48,
   "id": "1a745636",
   "metadata": {},
   "outputs": [
    {
     "name": "stdout",
     "output_type": "stream",
     "text": [
      "2\n"
     ]
    }
   ],
   "source": [
    "print( 8 >> 4 - 2)"
   ]
  },
  {
   "cell_type": "code",
   "execution_count": 49,
   "id": "9bb3f5f5",
   "metadata": {},
   "outputs": [
    {
     "name": "stdout",
     "output_type": "stream",
     "text": [
      "2\n"
     ]
    }
   ],
   "source": [
    "print(6 & 2 + 1)"
   ]
  },
  {
   "cell_type": "code",
   "execution_count": 50,
   "id": "689d47be",
   "metadata": {},
   "outputs": [
    {
     "name": "stdout",
     "output_type": "stream",
     "text": [
      "5\n"
     ]
    }
   ],
   "source": [
    "print(6 ^ 2 + 1)"
   ]
  },
  {
   "cell_type": "code",
   "execution_count": 51,
   "id": "3cf11bbe",
   "metadata": {},
   "outputs": [
    {
     "name": "stdout",
     "output_type": "stream",
     "text": [
      "7\n"
     ]
    }
   ],
   "source": [
    "print(6 | 2 + 1)"
   ]
  },
  {
   "cell_type": "code",
   "execution_count": 52,
   "id": "f9aa22b2",
   "metadata": {},
   "outputs": [
    {
     "name": "stdout",
     "output_type": "stream",
     "text": [
      "True\n"
     ]
    }
   ],
   "source": [
    "print(5 == 4 + 1)"
   ]
  },
  {
   "cell_type": "code",
   "execution_count": 53,
   "id": "3be788c8",
   "metadata": {},
   "outputs": [
    {
     "name": "stdout",
     "output_type": "stream",
     "text": [
      "False\n"
     ]
    }
   ],
   "source": [
    "print(not 5 == 5)"
   ]
  },
  {
   "cell_type": "code",
   "execution_count": 54,
   "id": "17f1ceca",
   "metadata": {},
   "outputs": [
    {
     "name": "stdout",
     "output_type": "stream",
     "text": [
      "1\n"
     ]
    }
   ],
   "source": [
    "print(1 or 2 and 3)"
   ]
  },
  {
   "cell_type": "code",
   "execution_count": 55,
   "id": "1eb29b45",
   "metadata": {},
   "outputs": [
    {
     "name": "stdout",
     "output_type": "stream",
     "text": [
      "4\n"
     ]
    }
   ],
   "source": [
    "print(4 or 5 + 10 or 8)"
   ]
  }
 ],
 "metadata": {
  "kernelspec": {
   "display_name": "Python 3 (ipykernel)",
   "language": "python",
   "name": "python3"
  },
  "language_info": {
   "codemirror_mode": {
    "name": "ipython",
    "version": 3
   },
   "file_extension": ".py",
   "mimetype": "text/x-python",
   "name": "python",
   "nbconvert_exporter": "python",
   "pygments_lexer": "ipython3",
   "version": "3.9.7"
  }
 },
 "nbformat": 4,
 "nbformat_minor": 5
}
