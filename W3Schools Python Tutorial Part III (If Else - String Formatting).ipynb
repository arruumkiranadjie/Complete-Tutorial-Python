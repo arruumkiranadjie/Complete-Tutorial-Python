{
 "cells": [
  {
   "cell_type": "markdown",
   "id": "7b8d865b",
   "metadata": {},
   "source": [
    "# Python If Else - Python Conditions and If statements"
   ]
  },
  {
   "cell_type": "code",
   "execution_count": 1,
   "id": "e3e77b85",
   "metadata": {},
   "outputs": [
    {
     "name": "stdout",
     "output_type": "stream",
     "text": [
      "b is greater than a\n"
     ]
    }
   ],
   "source": [
    "# If statement  \n",
    "\n",
    "a = 33\n",
    "b = 200\n",
    "\n",
    "if b > a:\n",
    "    print(\"b is greater than a\")"
   ]
  },
  {
   "cell_type": "markdown",
   "id": "73ffd137",
   "metadata": {},
   "source": [
    "# Python If Else - Indentation"
   ]
  },
  {
   "cell_type": "code",
   "execution_count": 3,
   "id": "040a245d",
   "metadata": {},
   "outputs": [
    {
     "name": "stdout",
     "output_type": "stream",
     "text": [
      "b is greater than a\n"
     ]
    }
   ],
   "source": [
    "# If statement, without indentation (will raise an error)\n",
    "\n",
    "a = 33\n",
    "b = 200\n",
    "\n",
    "if b > a:\n",
    "print(\"b is greater than a\") # you will get an error because of no indentation"
   ]
  },
  {
   "cell_type": "markdown",
   "id": "25fbc8b9",
   "metadata": {},
   "source": [
    "# Python If Else - Elif"
   ]
  },
  {
   "cell_type": "code",
   "execution_count": 4,
   "id": "89be04f7",
   "metadata": {},
   "outputs": [
    {
     "name": "stdout",
     "output_type": "stream",
     "text": [
      "a and b are equal\n"
     ]
    }
   ],
   "source": [
    "a = 33\n",
    "b = 33\n",
    "\n",
    "if b > a:\n",
    "    print(\"b is greater than a\")\n",
    "elif b == a:\n",
    "    print(\"a and b are equal\")"
   ]
  },
  {
   "cell_type": "markdown",
   "id": "b32cd961",
   "metadata": {},
   "source": [
    "# Python If Else - Else"
   ]
  },
  {
   "cell_type": "code",
   "execution_count": 5,
   "id": "4fdd029a",
   "metadata": {},
   "outputs": [
    {
     "name": "stdout",
     "output_type": "stream",
     "text": [
      "a is greater than b\n"
     ]
    }
   ],
   "source": [
    "a = 200\n",
    "b = 33\n",
    "\n",
    "if b > a:\n",
    "    print(\"b is greater than a\")\n",
    "elif a == b:\n",
    "    print(\"a and b are equal\")\n",
    "else:\n",
    "    print(\"a is greater than b\")"
   ]
  },
  {
   "cell_type": "code",
   "execution_count": 6,
   "id": "682297c1",
   "metadata": {},
   "outputs": [
    {
     "name": "stdout",
     "output_type": "stream",
     "text": [
      "b is not greater than a\n"
     ]
    }
   ],
   "source": [
    "a = 200\n",
    "b = 33\n",
    "\n",
    "if b > a:\n",
    "    print(\"b is greater than a\")\n",
    "else:\n",
    "    print(\"b is not greater than a\")"
   ]
  },
  {
   "cell_type": "markdown",
   "id": "f8ee4e90",
   "metadata": {},
   "source": [
    "# Python If Else - Short Hand If"
   ]
  },
  {
   "cell_type": "code",
   "execution_count": 7,
   "id": "b9d36462",
   "metadata": {},
   "outputs": [
    {
     "name": "stdout",
     "output_type": "stream",
     "text": [
      "a is greater than b\n"
     ]
    }
   ],
   "source": [
    "# One line if statement\n",
    "\n",
    "if a > b: print(\"a is greater than b\")"
   ]
  },
  {
   "cell_type": "markdown",
   "id": "32c787ee",
   "metadata": {},
   "source": [
    "# Python If Else - Short Hand If ... Else"
   ]
  },
  {
   "cell_type": "code",
   "execution_count": 8,
   "id": "0d01f759",
   "metadata": {},
   "outputs": [
    {
     "name": "stdout",
     "output_type": "stream",
     "text": [
      "B\n"
     ]
    }
   ],
   "source": [
    "a = 2\n",
    "b = 330\n",
    "print(\"A\") if a > b else print(\"B\")"
   ]
  },
  {
   "cell_type": "code",
   "execution_count": 10,
   "id": "bbc196b6",
   "metadata": {},
   "outputs": [
    {
     "name": "stdout",
     "output_type": "stream",
     "text": [
      "B\n"
     ]
    }
   ],
   "source": [
    "# One line if else statement, with 3 conditions\n",
    "\n",
    "a = 330\n",
    "b = 330\n",
    "\n",
    "print(\"A\") if a > b else print(\"=\") if a == b else print(\"B\")\n",
    "# With only one line, if else with 3 condition. else print(\"=\") if a == b is a one whole conditions"
   ]
  },
  {
   "cell_type": "markdown",
   "id": "0ca91360",
   "metadata": {},
   "source": [
    "# Python If Else - And"
   ]
  },
  {
   "cell_type": "code",
   "execution_count": 13,
   "id": "821380a6",
   "metadata": {},
   "outputs": [
    {
     "name": "stdout",
     "output_type": "stream",
     "text": [
      "Both conditions are True\n"
     ]
    }
   ],
   "source": [
    "# Test if a is greater than b, AND if c is greater than a\n",
    "\n",
    "a = 200\n",
    "b = 33\n",
    "c = 500\n",
    "\n",
    "if a > b and c > a:\n",
    "    print(\"Both conditions are True\")"
   ]
  },
  {
   "cell_type": "markdown",
   "id": "b582621c",
   "metadata": {},
   "source": [
    "# Python If Else - Or"
   ]
  },
  {
   "cell_type": "code",
   "execution_count": 14,
   "id": "b60c5805",
   "metadata": {},
   "outputs": [
    {
     "name": "stdout",
     "output_type": "stream",
     "text": [
      "At least one of the conditions is True\n"
     ]
    }
   ],
   "source": [
    "# test if a is greater than b, OR if a is greater than c\n",
    "\n",
    "a = 200\n",
    "b = 33\n",
    "c = 500\n",
    "\n",
    "if a > b or a > c:\n",
    "    print(\"At least one of the conditions is True\")"
   ]
  },
  {
   "cell_type": "markdown",
   "id": "4ccdb269",
   "metadata": {},
   "source": [
    "# Python If Else - Not"
   ]
  },
  {
   "cell_type": "code",
   "execution_count": 16,
   "id": "ae3de5ce",
   "metadata": {},
   "outputs": [
    {
     "name": "stdout",
     "output_type": "stream",
     "text": [
      "a is NOT greater than b\n"
     ]
    }
   ],
   "source": [
    "# Test if a is NOT greater than b\n",
    "\n",
    "a = 33\n",
    "b = 200\n",
    "\n",
    "if not a > b:\n",
    "    print(\"a is NOT greater than b\")"
   ]
  },
  {
   "cell_type": "markdown",
   "id": "90b7a1d6",
   "metadata": {},
   "source": [
    "# Python If Else - Nested If"
   ]
  },
  {
   "cell_type": "code",
   "execution_count": 17,
   "id": "cd3708f7",
   "metadata": {},
   "outputs": [
    {
     "name": "stdout",
     "output_type": "stream",
     "text": [
      "Above 10,\n",
      "and also above 20!\n"
     ]
    }
   ],
   "source": [
    "x = 41\n",
    "\n",
    "if x > 10:\n",
    "    print(\"Above 10,\")\n",
    "    if x > 20:\n",
    "        print(\"and also above 20!\")\n",
    "    else:\n",
    "        print(\"but nit above 20.\")"
   ]
  },
  {
   "cell_type": "markdown",
   "id": "6778a921",
   "metadata": {},
   "source": [
    "# Python If Else - The pass Statement"
   ]
  },
  {
   "cell_type": "code",
   "execution_count": 18,
   "id": "c708a704",
   "metadata": {},
   "outputs": [],
   "source": [
    "a = 33\n",
    "b = 200\n",
    " \n",
    "if b > a:\n",
    "    pass"
   ]
  },
  {
   "cell_type": "markdown",
   "id": "be3cfd04",
   "metadata": {},
   "source": [
    "# Python While Loops - The while Loop"
   ]
  },
  {
   "cell_type": "code",
   "execution_count": 2,
   "id": "1706ff9a",
   "metadata": {},
   "outputs": [
    {
     "name": "stdout",
     "output_type": "stream",
     "text": [
      "1\n",
      "2\n",
      "3\n",
      "4\n",
      "5\n"
     ]
    }
   ],
   "source": [
    "# Print i as long a i is less than 6\n",
    "\n",
    "i = 1\n",
    "while i < 6:\n",
    "    print(i)\n",
    "    i+=1"
   ]
  },
  {
   "cell_type": "markdown",
   "id": "b6087429",
   "metadata": {},
   "source": [
    "# Python While Loops - The break Statement"
   ]
  },
  {
   "cell_type": "code",
   "execution_count": 9,
   "id": "7e9a434f",
   "metadata": {},
   "outputs": [
    {
     "name": "stdout",
     "output_type": "stream",
     "text": [
      "1\n",
      "2\n",
      "3\n"
     ]
    }
   ],
   "source": [
    "# Exit the loop when i is 3\n",
    "\n",
    "i=1\n",
    "while i < 6:\n",
    "    print(i)\n",
    "    if i == 3:\n",
    "        break\n",
    "    i+=1"
   ]
  },
  {
   "cell_type": "markdown",
   "id": "e1a99c98",
   "metadata": {},
   "source": [
    "# Python While Loops - The continue Statement"
   ]
  },
  {
   "cell_type": "code",
   "execution_count": 8,
   "id": "a01a2712",
   "metadata": {},
   "outputs": [
    {
     "name": "stdout",
     "output_type": "stream",
     "text": [
      "1\n",
      "2\n",
      "4\n",
      "5\n",
      "6\n"
     ]
    }
   ],
   "source": [
    "# Continue to the next iteration if i is 3\n",
    "\n",
    "i = 0\n",
    "while i < 6:\n",
    "    i += 1\n",
    "    if i == 3:\n",
    "        continue # continue will make the loop go to the next i, doesn't matter what's next after the 'continue' line\n",
    "    print(i)"
   ]
  },
  {
   "cell_type": "markdown",
   "id": "da974fa7",
   "metadata": {},
   "source": [
    "# Python While Loops - The else Statement"
   ]
  },
  {
   "cell_type": "code",
   "execution_count": 11,
   "id": "50dc19a3",
   "metadata": {},
   "outputs": [
    {
     "name": "stdout",
     "output_type": "stream",
     "text": [
      "1\n",
      "2\n",
      "3\n",
      "4\n",
      "5\n",
      "i is no longer less than 6\n"
     ]
    }
   ],
   "source": [
    "# Print a message once the condition is false\n",
    "\n",
    "i = 1\n",
    "while i < 6:\n",
    "    print(i)\n",
    "    i += 1\n",
    "else: \n",
    "    print(\"i is no longer less than 6\") # else statement in a while will print one time if the while loop is false"
   ]
  },
  {
   "cell_type": "markdown",
   "id": "732d71ef",
   "metadata": {},
   "source": [
    "# Python For Loops - Python For Loops"
   ]
  },
  {
   "cell_type": "code",
   "execution_count": 12,
   "id": "ea099256",
   "metadata": {},
   "outputs": [
    {
     "name": "stdout",
     "output_type": "stream",
     "text": [
      "apple\n",
      "banana\n",
      "cherry\n"
     ]
    }
   ],
   "source": [
    "# Print each fruit in a fruit list\n",
    "\n",
    "fruits = [\"apple\", \"banana\", \"cherry\"]\n",
    "for x in fruits:\n",
    "    print(x)"
   ]
  },
  {
   "cell_type": "markdown",
   "id": "9eaa64aa",
   "metadata": {},
   "source": [
    "# Python For Loops - Looping Through a String"
   ]
  },
  {
   "cell_type": "code",
   "execution_count": 13,
   "id": "e71e20cb",
   "metadata": {},
   "outputs": [
    {
     "name": "stdout",
     "output_type": "stream",
     "text": [
      "b\n",
      "a\n",
      "n\n",
      "a\n",
      "n\n",
      "a\n"
     ]
    }
   ],
   "source": [
    "# loop through the letters in the word \"banana\"\n",
    "\n",
    "for x in \"banana\":\n",
    "    print(x)"
   ]
  },
  {
   "cell_type": "markdown",
   "id": "9332349e",
   "metadata": {},
   "source": [
    "# Python For Loops - The break Statement"
   ]
  },
  {
   "cell_type": "code",
   "execution_count": 16,
   "id": "04d426eb",
   "metadata": {},
   "outputs": [
    {
     "name": "stdout",
     "output_type": "stream",
     "text": [
      "apple\n",
      "banana\n"
     ]
    }
   ],
   "source": [
    "# Exit the loop when x is \"banana\"\n",
    "\n",
    "fruits = [\"apple\", \"banana\", \"cherry\"]\n",
    "\n",
    "for x in fruits:\n",
    "    print(x)\n",
    "    if x == \"banana\":\n",
    "        break"
   ]
  },
  {
   "cell_type": "code",
   "execution_count": 17,
   "id": "834e1e6d",
   "metadata": {},
   "outputs": [
    {
     "name": "stdout",
     "output_type": "stream",
     "text": [
      "apple\n"
     ]
    }
   ],
   "source": [
    "# Exit the loop when x is \"banana\", but this time the break comes before the print\n",
    "\n",
    "fruits = [\"apple\", \"banana\", \"cherry\"]\n",
    "\n",
    "for x in fruits:\n",
    "    if x == \"banana\":\n",
    "        break\n",
    "    print(x)"
   ]
  },
  {
   "cell_type": "markdown",
   "id": "7428646a",
   "metadata": {},
   "source": [
    "# Python For Loops - The continu Statement"
   ]
  },
  {
   "cell_type": "code",
   "execution_count": 18,
   "id": "a25f6cf2",
   "metadata": {},
   "outputs": [
    {
     "name": "stdout",
     "output_type": "stream",
     "text": [
      "apple\n",
      "cherry\n"
     ]
    }
   ],
   "source": [
    "# Do not print banana\n",
    "\n",
    "fruits = [\"apple\", \"banana\", \"cherry\"]\n",
    "\n",
    "for x in fruits:\n",
    "    if x == \"banana\":\n",
    "        continue\n",
    "    print(x)"
   ]
  },
  {
   "cell_type": "markdown",
   "id": "3b0aefbc",
   "metadata": {},
   "source": [
    "# Python For Loops - The range() Function"
   ]
  },
  {
   "cell_type": "code",
   "execution_count": 19,
   "id": "085a0a6a",
   "metadata": {},
   "outputs": [
    {
     "name": "stdout",
     "output_type": "stream",
     "text": [
      "0\n",
      "1\n",
      "2\n",
      "3\n",
      "4\n",
      "5\n"
     ]
    }
   ],
   "source": [
    "# Using the range() function\n",
    "\n",
    "for x in range(6): # Will print from 0 - 5\n",
    "    print(x)"
   ]
  },
  {
   "cell_type": "code",
   "execution_count": 22,
   "id": "8928b42f",
   "metadata": {},
   "outputs": [
    {
     "name": "stdout",
     "output_type": "stream",
     "text": [
      "2\n",
      "3\n",
      "4\n",
      "5\n"
     ]
    }
   ],
   "source": [
    "# Using the start parameter\n",
    "\n",
    "for x in range(2, 6):\n",
    "    print(x)"
   ]
  },
  {
   "cell_type": "code",
   "execution_count": 25,
   "id": "2e9ee432",
   "metadata": {},
   "outputs": [
    {
     "name": "stdout",
     "output_type": "stream",
     "text": [
      "2\n",
      "5\n",
      "8\n",
      "11\n",
      "14\n",
      "17\n",
      "20\n",
      "23\n",
      "26\n",
      "29\n"
     ]
    }
   ],
   "source": [
    "# Increment the sequence with 3 (default is 1)\n",
    "\n",
    "for x in range(2, 30, 3):\n",
    "    print(x)"
   ]
  },
  {
   "cell_type": "markdown",
   "id": "d96cef17",
   "metadata": {},
   "source": [
    "# Python For Loops - Else in For Loop"
   ]
  },
  {
   "cell_type": "code",
   "execution_count": 26,
   "id": "1a1cab6a",
   "metadata": {},
   "outputs": [
    {
     "name": "stdout",
     "output_type": "stream",
     "text": [
      "0\n",
      "1\n",
      "2\n",
      "3\n",
      "4\n",
      "5\n",
      "Finally finished!\n"
     ]
    }
   ],
   "source": [
    "# Print all numbers from 0 to 5, and print a message when when the loops has ended\n",
    "\n",
    "for x in range(0, 6):\n",
    "    print(x)\n",
    "else:\n",
    "    print(\"Finally finished!\")"
   ]
  },
  {
   "cell_type": "code",
   "execution_count": 27,
   "id": "a2ed3a61",
   "metadata": {},
   "outputs": [
    {
     "name": "stdout",
     "output_type": "stream",
     "text": [
      "0\n",
      "1\n",
      "2\n"
     ]
    }
   ],
   "source": [
    "# Break the loop when x is 3, and see what happend with the else block\n",
    "\n",
    "for x in range(6):\n",
    "    if x == 3:\n",
    "        break\n",
    "    print(x)\n",
    "else:\n",
    "    print(\"Finally finished!\")"
   ]
  },
  {
   "cell_type": "markdown",
   "id": "16a101a9",
   "metadata": {},
   "source": [
    "# Python For Loops - Nested Loops"
   ]
  },
  {
   "cell_type": "code",
   "execution_count": 29,
   "id": "368baa71",
   "metadata": {},
   "outputs": [
    {
     "name": "stdout",
     "output_type": "stream",
     "text": [
      "red apple\n",
      "red banana\n",
      "red cherry\n",
      "big apple\n",
      "big banana\n",
      "big cherry\n",
      "tasty apple\n",
      "tasty banana\n",
      "tasty cherry\n"
     ]
    }
   ],
   "source": [
    "# Print each adjective for every fruit\n",
    "\n",
    "adj = [\"red\", \"big\", \"tasty\"]\n",
    "fruits = [\"apple\", \"banana\", \"cherry\"]\n",
    "\n",
    "for x in adj:\n",
    "    for y in fruits:\n",
    "        print(x,y) # To print both adjective and fruits"
   ]
  },
  {
   "cell_type": "markdown",
   "id": "06cd97f0",
   "metadata": {},
   "source": [
    "# Python For Loops - The pass Statement"
   ]
  },
  {
   "cell_type": "code",
   "execution_count": 30,
   "id": "ede45d59",
   "metadata": {},
   "outputs": [],
   "source": [
    "for x in [0, 1, 2]:\n",
    "    pass"
   ]
  },
  {
   "cell_type": "markdown",
   "id": "412b1d4e",
   "metadata": {},
   "source": [
    "# Python Functions - Creating a Function"
   ]
  },
  {
   "cell_type": "code",
   "execution_count": 31,
   "id": "187865bb",
   "metadata": {},
   "outputs": [],
   "source": [
    "def my_function():\n",
    "    print(\"Hello from a function\")"
   ]
  },
  {
   "cell_type": "markdown",
   "id": "5dbdd652",
   "metadata": {},
   "source": [
    "# Python Functions - Calling a Function"
   ]
  },
  {
   "cell_type": "code",
   "execution_count": 32,
   "id": "c66ebacd",
   "metadata": {},
   "outputs": [
    {
     "name": "stdout",
     "output_type": "stream",
     "text": [
      "Hello from a function\n"
     ]
    }
   ],
   "source": [
    "def my_function():\n",
    "    print(\"Hello from a function\")\n",
    "\n",
    "my_function()"
   ]
  },
  {
   "cell_type": "markdown",
   "id": "2d224eb0",
   "metadata": {},
   "source": [
    "# Python Functions - Arguments"
   ]
  },
  {
   "cell_type": "code",
   "execution_count": 34,
   "id": "bda9e8ff",
   "metadata": {},
   "outputs": [
    {
     "name": "stdout",
     "output_type": "stream",
     "text": [
      "Emil Refsnes\n",
      "Tobias Refsnes\n",
      "Linus Refsnes\n"
     ]
    }
   ],
   "source": [
    "def my_function(fname):\n",
    "    print(fname + \" Refsnes\")\n",
    "\n",
    "my_function(\"Emil\")\n",
    "my_function(\"Tobias\")\n",
    "my_function(\"Linus\")"
   ]
  },
  {
   "cell_type": "markdown",
   "id": "1e828496",
   "metadata": {},
   "source": [
    "# Python Functions - Number of Arguments"
   ]
  },
  {
   "cell_type": "code",
   "execution_count": 35,
   "id": "c45b1787",
   "metadata": {},
   "outputs": [
    {
     "name": "stdout",
     "output_type": "stream",
     "text": [
      "Emil Refsnes\n"
     ]
    }
   ],
   "source": [
    "# This function expects 2 arguments, and gets 2 arguments\n",
    "\n",
    "def my_function(fname, lname):\n",
    "    print(fname + \" \" + lname)\n",
    "\n",
    "my_function(\"Emil\", \"Refsnes\")"
   ]
  },
  {
   "cell_type": "code",
   "execution_count": 37,
   "id": "032bafb7",
   "metadata": {},
   "outputs": [],
   "source": [
    "# This function expects 2 arguments, but gets only 1\n",
    "\n",
    "def my_function(fname , lname):\n",
    "    print(fname + \" \" + lname)\n",
    "\n",
    "my_function(\"Emil\")"
   ]
  },
  {
   "cell_type": "markdown",
   "id": "2d4e1df7",
   "metadata": {},
   "source": [
    "# Python Functions - Arbitrary Arguments, *args"
   ]
  },
  {
   "cell_type": "code",
   "execution_count": 40,
   "id": "f598f890",
   "metadata": {},
   "outputs": [
    {
     "name": "stdout",
     "output_type": "stream",
     "text": [
      "The youngest child is Linus\n"
     ]
    }
   ],
   "source": [
    "# If the number of arguments is unnkown, add a * before the parameter name\n",
    "\n",
    "def my_function(*kids): # For the unkown number of parameter use * before the variable of parameter\n",
    "    print(\"The youngest child is \" + kids[2]) # To pick kids in index 2 at the below variable of input\n",
    "    \n",
    "my_function(\"Emil\", \"Tobias\", \"Linus\") "
   ]
  },
  {
   "cell_type": "markdown",
   "id": "a8103cbf",
   "metadata": {},
   "source": [
    "# Python Functions - Keyword Arguments"
   ]
  },
  {
   "cell_type": "code",
   "execution_count": 42,
   "id": "3556282f",
   "metadata": {},
   "outputs": [
    {
     "name": "stdout",
     "output_type": "stream",
     "text": [
      "The youngest child is Linus\n"
     ]
    }
   ],
   "source": [
    "def my_function(child3, child2, child1):\n",
    "    print(\"The youngest child is \" + child3)\n",
    "\n",
    "my_function(child1 = \"Emil\", child2 =\"Tobias\", child3 = \"Linus\") # With key = value"
   ]
  },
  {
   "cell_type": "markdown",
   "id": "12eab4bc",
   "metadata": {},
   "source": [
    "# Python Functions - Arbitrary Keyword Arguments, **kwargs"
   ]
  },
  {
   "cell_type": "code",
   "execution_count": 43,
   "id": "fdd696d3",
   "metadata": {},
   "outputs": [
    {
     "name": "stdout",
     "output_type": "stream",
     "text": [
      "His last name is Refsnes\n"
     ]
    }
   ],
   "source": [
    "# If the number of keyword arguments is unknown, add a double ** before the parameter name\n",
    "\n",
    "def my_function(**kid):\n",
    "    print(\"His last name is \" + kid[\"lname\"])\n",
    "    \n",
    "my_function(fname = \"Tobias\", lname = \"Refsnes\")"
   ]
  },
  {
   "cell_type": "markdown",
   "id": "69b94ab6",
   "metadata": {},
   "source": [
    "# Python Functions - Default Parameter Value"
   ]
  },
  {
   "cell_type": "code",
   "execution_count": 44,
   "id": "24110fba",
   "metadata": {},
   "outputs": [
    {
     "name": "stdout",
     "output_type": "stream",
     "text": [
      "I am from Sweden\n",
      "I am from India\n",
      "I am from Norway\n",
      "I am from Brazil\n"
     ]
    }
   ],
   "source": [
    "def my_function(country = \"Norway\"):\n",
    "    print(\"I am from \" + country)\n",
    "    \n",
    "my_function(\"Sweden\")\n",
    "my_function(\"India\")\n",
    "my_function()\n",
    "my_function(\"Brazil\")"
   ]
  },
  {
   "cell_type": "markdown",
   "id": "659886ed",
   "metadata": {},
   "source": [
    "# Python Functions - Passing a List as an Argument"
   ]
  },
  {
   "cell_type": "code",
   "execution_count": 45,
   "id": "4d53de28",
   "metadata": {},
   "outputs": [
    {
     "name": "stdout",
     "output_type": "stream",
     "text": [
      "apple\n",
      "banana\n",
      "cherry\n"
     ]
    }
   ],
   "source": [
    "def my_function(food): # food is just an arguments to replace the variable fruits\n",
    "    for x in food:\n",
    "        print(x)\n",
    "    \n",
    "fruits = [\"apple\", \"banana\", \"cherry\"]\n",
    "\n",
    "my_function(fruits)"
   ]
  },
  {
   "cell_type": "markdown",
   "id": "6991a8fa",
   "metadata": {},
   "source": [
    "# Python Functions - Return Values"
   ]
  },
  {
   "cell_type": "code",
   "execution_count": 50,
   "id": "d061220a",
   "metadata": {},
   "outputs": [
    {
     "name": "stdout",
     "output_type": "stream",
     "text": [
      "15\n",
      "25\n",
      "45\n"
     ]
    }
   ],
   "source": [
    "def my_function(x):\n",
    "    return 5*x\n",
    "\n",
    "print(my_function(3)) \n",
    "print(my_function(5)) # We have to use print(function) because the function will give an output of the last execution. only the last execution or the last line\n",
    "print(my_function(9))"
   ]
  },
  {
   "cell_type": "markdown",
   "id": "410136b4",
   "metadata": {},
   "source": [
    "# Python Functions - The pass Statement"
   ]
  },
  {
   "cell_type": "code",
   "execution_count": 52,
   "id": "c2c903b4",
   "metadata": {},
   "outputs": [],
   "source": [
    "def myfunction():\n",
    "    pass"
   ]
  },
  {
   "cell_type": "markdown",
   "id": "4bad95f0",
   "metadata": {},
   "source": [
    "# Python Functions - Recursion"
   ]
  },
  {
   "cell_type": "code",
   "execution_count": 55,
   "id": "dc39da95",
   "metadata": {},
   "outputs": [
    {
     "name": "stdout",
     "output_type": "stream",
     "text": [
      "\n",
      "\n",
      "Recursion Example Results\n",
      "1\n",
      "3\n",
      "6\n",
      "10\n",
      "15\n",
      "21\n"
     ]
    },
    {
     "data": {
      "text/plain": [
       "21"
      ]
     },
     "execution_count": 55,
     "metadata": {},
     "output_type": "execute_result"
    }
   ],
   "source": [
    "def tri_recursion(k):\n",
    "    if(k > 0):\n",
    "        result = k + tri_recursion(k-1) # Will calculate the tri_recursion(k-1) fist to collect the result of tri_recursion(k)\n",
    "        print(result)\n",
    "    else: # Untill it got to else which result = 0\n",
    "        result = 0 # else will result to 0 so the final result will be a sum of all number from 1 to 6\n",
    "    return result\n",
    "\n",
    "print(\"\\n\\nRecursion Example Results\") \n",
    "tri_recursion(6)"
   ]
  },
  {
   "cell_type": "markdown",
   "id": "82e67b84",
   "metadata": {},
   "source": [
    "# Python Lambda - Syntax"
   ]
  },
  {
   "cell_type": "code",
   "execution_count": 57,
   "id": "3edc145b",
   "metadata": {},
   "outputs": [
    {
     "name": "stdout",
     "output_type": "stream",
     "text": [
      "15\n"
     ]
    }
   ],
   "source": [
    "# Add 10 to argument a, and return the result\n",
    "\n",
    "x = lambda a : a + 10\n",
    "print(x(5)) # x(a) = x(5)"
   ]
  },
  {
   "cell_type": "code",
   "execution_count": 58,
   "id": "e80db77c",
   "metadata": {},
   "outputs": [
    {
     "name": "stdout",
     "output_type": "stream",
     "text": [
      "30\n"
     ]
    }
   ],
   "source": [
    "# Multiply argumemt a with argument b and return the result\n",
    "\n",
    "x = lambda a, b : a * b\n",
    "print(x(5, 6))"
   ]
  },
  {
   "cell_type": "code",
   "execution_count": 59,
   "id": "322db7b1",
   "metadata": {},
   "outputs": [
    {
     "name": "stdout",
     "output_type": "stream",
     "text": [
      "13\n"
     ]
    }
   ],
   "source": [
    "# Summarize argument a, b, c and return the result\n",
    "\n",
    "x = lambda a, b, c : a + b + c\n",
    "print(x(5, 6, 2))"
   ]
  },
  {
   "cell_type": "markdown",
   "id": "66094e54",
   "metadata": {},
   "source": [
    "# Python Lambda - Why Use Lambda Functions?"
   ]
  },
  {
   "cell_type": "code",
   "execution_count": null,
   "id": "8b90a1ea",
   "metadata": {},
   "outputs": [],
   "source": [
    "def myfunc(n):\n",
    "    return lambda a : a * n"
   ]
  },
  {
   "cell_type": "code",
   "execution_count": 60,
   "id": "0026e630",
   "metadata": {},
   "outputs": [
    {
     "name": "stdout",
     "output_type": "stream",
     "text": [
      "22\n"
     ]
    }
   ],
   "source": [
    "def myfunc(n):\n",
    "    return lambda a : a * n\n",
    "\n",
    "mydoubler = myfunc(2)\n",
    "\n",
    "print(mydoubler(11))"
   ]
  },
  {
   "cell_type": "code",
   "execution_count": 61,
   "id": "9152785e",
   "metadata": {},
   "outputs": [
    {
     "name": "stdout",
     "output_type": "stream",
     "text": [
      "33\n"
     ]
    }
   ],
   "source": [
    "def myfunc(n):\n",
    "    return lambda a : a * n\n",
    "\n",
    "mytripler = myfunc(3)\n",
    "\n",
    "print(mytripler(11))"
   ]
  },
  {
   "cell_type": "code",
   "execution_count": 62,
   "id": "c40a446f",
   "metadata": {},
   "outputs": [
    {
     "name": "stdout",
     "output_type": "stream",
     "text": [
      "22\n",
      "33\n"
     ]
    }
   ],
   "source": [
    "def myfunc(n):\n",
    "    return lambda a : a * n\n",
    "\n",
    "mydoubler = myfunc(2)\n",
    "mytripler = myfunc(3)\n",
    "\n",
    "print(mydoubler(11))\n",
    "print(mytripler(11))  "
   ]
  },
  {
   "cell_type": "markdown",
   "id": "8b74e7eb",
   "metadata": {},
   "source": [
    "# Python Arrays - Arrays"
   ]
  },
  {
   "cell_type": "code",
   "execution_count": 1,
   "id": "a238bdc2",
   "metadata": {},
   "outputs": [
    {
     "name": "stdout",
     "output_type": "stream",
     "text": [
      "['Ford', 'Volvo', 'BMW']\n"
     ]
    }
   ],
   "source": [
    "# Create an array containing car names\n",
    "\n",
    "cars = [\"Ford\", \"Volvo\", \"BMW\"]\n",
    "print(cars)"
   ]
  },
  {
   "cell_type": "markdown",
   "id": "2e99172b",
   "metadata": {},
   "source": [
    "# Python Arrays - Access the Elements of an Array"
   ]
  },
  {
   "cell_type": "code",
   "execution_count": 2,
   "id": "e319a6f3",
   "metadata": {},
   "outputs": [
    {
     "name": "stdout",
     "output_type": "stream",
     "text": [
      "Ford\n"
     ]
    }
   ],
   "source": [
    "# Get the value of the first array item\n",
    "\n",
    "cars = [\"Ford\", \"Volvo\", \"BMW\"]\n",
    "x = cars[0]\n",
    "print(x)"
   ]
  },
  {
   "cell_type": "code",
   "execution_count": 5,
   "id": "a00b5743",
   "metadata": {},
   "outputs": [
    {
     "name": "stdout",
     "output_type": "stream",
     "text": [
      "['Toyota', 'Volvo', 'BMW']\n"
     ]
    }
   ],
   "source": [
    "# Modify the value of the first array item\n",
    "\n",
    "cars = [\"Ford\", \"Volvo\", \"BMW\"]\n",
    "cars[0] = \"Toyota\"\n",
    "print(cars)"
   ]
  },
  {
   "cell_type": "markdown",
   "id": "25a60d04",
   "metadata": {},
   "source": [
    "# Python Arrays - The Length of an Array"
   ]
  },
  {
   "cell_type": "code",
   "execution_count": 7,
   "id": "84a09ecb",
   "metadata": {},
   "outputs": [
    {
     "name": "stdout",
     "output_type": "stream",
     "text": [
      "3\n"
     ]
    }
   ],
   "source": [
    "# Return the number of elements in the cars array\n",
    "\n",
    "x = len(cars)\n",
    "print(x)"
   ]
  },
  {
   "cell_type": "markdown",
   "id": "f6be8f94",
   "metadata": {},
   "source": [
    "# Python Arrays - Looping Array Elements"
   ]
  },
  {
   "cell_type": "code",
   "execution_count": 8,
   "id": "56091831",
   "metadata": {},
   "outputs": [
    {
     "name": "stdout",
     "output_type": "stream",
     "text": [
      "Ford\n",
      "Volvo\n",
      "BMW\n"
     ]
    }
   ],
   "source": [
    "# Print each item in the cars array\n",
    "\n",
    "cars = [\"Ford\", \"Volvo\", \"BMW\"]\n",
    "for x in cars:\n",
    "    print(x)"
   ]
  },
  {
   "cell_type": "markdown",
   "id": "a7711670",
   "metadata": {},
   "source": [
    "# Python Arrays - Adding Array Elements"
   ]
  },
  {
   "cell_type": "code",
   "execution_count": 9,
   "id": "9acd3cc2",
   "metadata": {},
   "outputs": [
    {
     "name": "stdout",
     "output_type": "stream",
     "text": [
      "['Ford', 'Volvo', 'BMW', 'Honda']\n"
     ]
    }
   ],
   "source": [
    "# Add one more element to the cars array\n",
    "\n",
    "cars = [\"Ford\", \"Volvo\", \"BMW\"]\n",
    "cars.append(\"Honda\")\n",
    "print(cars)"
   ]
  },
  {
   "cell_type": "markdown",
   "id": "25bf6794",
   "metadata": {},
   "source": [
    "# Python Arrays - Removing Array Elements"
   ]
  },
  {
   "cell_type": "code",
   "execution_count": 10,
   "id": "427d35fd",
   "metadata": {},
   "outputs": [
    {
     "name": "stdout",
     "output_type": "stream",
     "text": [
      "['Ford', 'BMW']\n"
     ]
    }
   ],
   "source": [
    "# Detele the second element of the cars array\n",
    "\n",
    "cars = [\"Ford\", \"Volvo\", \"BMW\"]\n",
    "cars.pop(1)\n",
    "print(cars)"
   ]
  },
  {
   "cell_type": "code",
   "execution_count": 11,
   "id": "4802cd1c",
   "metadata": {},
   "outputs": [
    {
     "name": "stdout",
     "output_type": "stream",
     "text": [
      "['Ford', 'BMW']\n"
     ]
    }
   ],
   "source": [
    "# Delete the element that has the value \"Volvo\"\n",
    "\n",
    "cars = [\"Ford\", \"Volvo\", \"BMW\"]\n",
    "cars.remove(\"Volvo\")\n",
    "print(cars)"
   ]
  },
  {
   "cell_type": "markdown",
   "id": "2b6c9b16",
   "metadata": {},
   "source": [
    "# Python Classes and Objects - Create a Class"
   ]
  },
  {
   "cell_type": "code",
   "execution_count": 12,
   "id": "f0bb20d2",
   "metadata": {},
   "outputs": [
    {
     "name": "stdout",
     "output_type": "stream",
     "text": [
      "<class '__main__.MyClass'>\n"
     ]
    }
   ],
   "source": [
    "# Create a class named MyClass, with a property named x\n",
    "\n",
    "class MyClass:\n",
    "    x = 5\n",
    "    \n",
    "print(MyClass)"
   ]
  },
  {
   "cell_type": "markdown",
   "id": "9fd1b930",
   "metadata": {},
   "source": [
    "# Python Classes and Objects - Create Object"
   ]
  },
  {
   "cell_type": "code",
   "execution_count": 14,
   "id": "f5f12fe1",
   "metadata": {},
   "outputs": [
    {
     "name": "stdout",
     "output_type": "stream",
     "text": [
      "5\n"
     ]
    }
   ],
   "source": [
    "# Create an object named p1, and print the value of x\n",
    "\n",
    "p1 = MyClass() # p1 is the object of class named MyClass()\n",
    "print(p1.x) # then print the value of x in MyClass() by operating p1 with x which is p1.x"
   ]
  },
  {
   "cell_type": "markdown",
   "id": "18a2ca15",
   "metadata": {},
   "source": [
    "# Python Classes and Objects - The __init__() Function"
   ]
  },
  {
   "cell_type": "code",
   "execution_count": 40,
   "id": "79412429",
   "metadata": {},
   "outputs": [
    {
     "name": "stdout",
     "output_type": "stream",
     "text": [
      "John\n",
      "36\n"
     ]
    }
   ],
   "source": [
    "# Create a class named Person, use the __init__() function to assign values for name and age\n",
    "\n",
    "class Person:\n",
    "    def __init__(self, name, age): # Make a __init__() function and with self parameter as the first parameter so we can operates them with the other parameters\n",
    "        self.name = name # Operates self with name by giving self.name = name\n",
    "        self.age = age # same with age variables\n",
    "        \n",
    "p1 = Person(\"John\", 36) # Make an object called p1 with class Person inside and the values\n",
    "\n",
    "print(p1.name)\n",
    "print(p1.age)"
   ]
  },
  {
   "cell_type": "markdown",
   "id": "58f657eb",
   "metadata": {},
   "source": [
    "# Python Classes and Objects - The __str__() Function"
   ]
  },
  {
   "cell_type": "code",
   "execution_count": 39,
   "id": "dac312f2",
   "metadata": {},
   "outputs": [
    {
     "name": "stdout",
     "output_type": "stream",
     "text": [
      "<__main__.Person object at 0x00000265EE7354C0>\n"
     ]
    }
   ],
   "source": [
    "# The string representation of an object WITHOUT the __str__() function\n",
    "\n",
    "class Person:\n",
    "    def __init__(self, name, age):\n",
    "        self.name = name\n",
    "        self.age = age\n",
    "        \n",
    "p1 = Person(\"John\", 36)\n",
    "\n",
    "print(p1)"
   ]
  },
  {
   "cell_type": "code",
   "execution_count": 30,
   "id": "5b4c4a48",
   "metadata": {},
   "outputs": [
    {
     "name": "stdout",
     "output_type": "stream",
     "text": [
      "John(36)\n"
     ]
    }
   ],
   "source": [
    "# The string representation of an object WITHOUT the __str__() function\n",
    "\n",
    "class Person:\n",
    "    def __init__(self, name, age):\n",
    "        self.name = name\n",
    "        self.age = age\n",
    "        \n",
    "    def __str__(self): # There is a __str__() function with only the self parameter inside\n",
    "        return f\"{self.name}({self.age})\" # That will return the name and age by writing a f\"{self.name}({self.age})\"\n",
    "    \n",
    "p1 = Person(\"John\", 36)\n",
    "\n",
    "print(p1)"
   ]
  },
  {
   "cell_type": "markdown",
   "id": "548f5ead",
   "metadata": {},
   "source": [
    "# Python Classes and Objects - Object Methods"
   ]
  },
  {
   "cell_type": "code",
   "execution_count": 32,
   "id": "8fa61047",
   "metadata": {},
   "outputs": [
    {
     "name": "stdout",
     "output_type": "stream",
     "text": [
      "Hello my name is John\n"
     ]
    }
   ],
   "source": [
    "# Insert a function that prints a greeting, and execute it on the p1 object\n",
    "\n",
    "class Person:\n",
    "    def __init__(self, name, age):\n",
    "        self.name = name\n",
    "        self.age = age\n",
    "    \n",
    "    def myfunc(self): # Make a function that has the self parameter from __init__ function because we will call one of the __init__ parameter which is name, so we have to call the self from __init__\n",
    "        print(\"Hello my name is \" + self.name) # Call the self.name from __init__() function\n",
    "        \n",
    "p1 = Person(\"John\", 36)\n",
    "p1.myfunc() # Call the p1 object and operates it with the greeting function"
   ]
  },
  {
   "cell_type": "markdown",
   "id": "6bbf772b",
   "metadata": {},
   "source": [
    "# Python Classes and Objects - The self Parameter"
   ]
  },
  {
   "cell_type": "code",
   "execution_count": 35,
   "id": "4d95a612",
   "metadata": {},
   "outputs": [
    {
     "name": "stdout",
     "output_type": "stream",
     "text": [
      "Hello my name is John\n"
     ]
    }
   ],
   "source": [
    "# Use the words mysillyobject and abc instead of self\n",
    "\n",
    "class Person:\n",
    "    def __init__(mysillyobject, name, age):\n",
    "        mysillyobject.name = name\n",
    "        mysillyobject.age = age\n",
    "        \n",
    "    def myfunc(abc): # It is allowed to have different name of parameter for every first parameter in each function\n",
    "        print(\"Hello my name is \" + abc.name)\n",
    "        \n",
    "p1 = Person(\"John\", 36)\n",
    "p1.myfunc()"
   ]
  },
  {
   "cell_type": "markdown",
   "id": "a8e47afa",
   "metadata": {},
   "source": [
    "# Python Classes and Objects - Modify Object Properties"
   ]
  },
  {
   "cell_type": "code",
   "execution_count": 43,
   "id": "efb3e302",
   "metadata": {},
   "outputs": [
    {
     "name": "stdout",
     "output_type": "stream",
     "text": [
      "John\n",
      "36\n",
      "40\n"
     ]
    }
   ],
   "source": [
    "# Set the age of p1 to 40\n",
    "\n",
    "class Person:\n",
    "    def __init__(self, name, age):\n",
    "        self.name = name\n",
    "        self.age = age\n",
    "    \n",
    "p1 = Person(\"John\", 36)\n",
    "\n",
    "print(p1.name)\n",
    "print(p1.age)\n",
    "\n",
    "p1.age = 40\n",
    "\n",
    "print(p1.age)"
   ]
  },
  {
   "cell_type": "markdown",
   "id": "c5fb1da4",
   "metadata": {},
   "source": [
    "# Python Classes and Objects - Delete Object Properties"
   ]
  },
  {
   "cell_type": "code",
   "execution_count": 46,
   "id": "dd55e8f7",
   "metadata": {},
   "outputs": [
    {
     "name": "stdout",
     "output_type": "stream",
     "text": [
      "John 36\n"
     ]
    }
   ],
   "source": [
    "# Delete the age property rom the p1 object\n",
    "\n",
    "class Person:\n",
    "    def __init__(self, name, age):\n",
    "        self.name = name\n",
    "        self.age = age\n",
    "\n",
    "p1 = Person(\"John\", 36)\n",
    "\n",
    "print(p1.name, p1.age)\n",
    "\n",
    "del p1.age\n",
    "\n",
    "print(p1.age) "
   ]
  },
  {
   "cell_type": "markdown",
   "id": "5d50c714",
   "metadata": {},
   "source": [
    "# Python Classes and Objects - Delete Objects"
   ]
  },
  {
   "cell_type": "code",
   "execution_count": 49,
   "id": "71756884",
   "metadata": {},
   "outputs": [
    {
     "name": "stdout",
     "output_type": "stream",
     "text": [
      "John 36\n"
     ]
    }
   ],
   "source": [
    "class Person:\n",
    "    def __init__(self, name, age):\n",
    "        self.name = name\n",
    "        self.age = age\n",
    "\n",
    "p1 = Person(\"John\", 36)\n",
    "\n",
    "print(p1.name, p1.age)\n",
    "\n",
    "del p1\n",
    "\n",
    "print(p1.name)"
   ]
  },
  {
   "cell_type": "markdown",
   "id": "7a75c0b4",
   "metadata": {},
   "source": [
    "# Python Classes and Objects - The pass Statement"
   ]
  },
  {
   "cell_type": "code",
   "execution_count": 50,
   "id": "e15f344f",
   "metadata": {},
   "outputs": [],
   "source": [
    "class Person:\n",
    "    pass"
   ]
  },
  {
   "cell_type": "markdown",
   "id": "8fafcf0e",
   "metadata": {},
   "source": [
    "# Python Inheritance - Create a Parent Class"
   ]
  },
  {
   "cell_type": "code",
   "execution_count": 53,
   "id": "2ae9f6ad",
   "metadata": {},
   "outputs": [
    {
     "name": "stdout",
     "output_type": "stream",
     "text": [
      "John Doe\n"
     ]
    }
   ],
   "source": [
    "# Create a class named Person, with firstname and lastname properties, and a printname method\n",
    "\n",
    "class Person:\n",
    "    def __init__(self, fname, lname):\n",
    "        self.firstname = fname\n",
    "        self.lastname = lname\n",
    "        \n",
    "    def printname(self):\n",
    "        print(self.firstname, self.lastname)\n",
    "        \n",
    "# use the Person class to create an object, and then execute the printname method\n",
    "\n",
    "x = Person(\"John\", \"Doe\")\n",
    "\n",
    "x.printname()"
   ]
  },
  {
   "cell_type": "markdown",
   "id": "014dfc01",
   "metadata": {},
   "source": [
    "# Python Inheritance - Create a Child Class"
   ]
  },
  {
   "cell_type": "code",
   "execution_count": 52,
   "id": "296d3875",
   "metadata": {},
   "outputs": [],
   "source": [
    "# Creating a class named Student, which will inherit the properties and methods from the Person class\n",
    "\n",
    "class Student(Person): # build a parameter inside the child class\n",
    "    pass"
   ]
  },
  {
   "cell_type": "code",
   "execution_count": 57,
   "id": "71ae9e5c",
   "metadata": {},
   "outputs": [
    {
     "name": "stdout",
     "output_type": "stream",
     "text": [
      "Taylor Swift\n"
     ]
    }
   ],
   "source": [
    "# Use the Student class to create an object, and then execute the printname method\n",
    "\n",
    "class Student(Person):\n",
    "    pass\n",
    "\n",
    "p1 = Student(\"Taylor\", \"Swift\")\n",
    "p1.printname() # from Person class but you can call it on Student's object"
   ]
  },
  {
   "cell_type": "markdown",
   "id": "571d6ba3",
   "metadata": {},
   "source": [
    "# Python Inheritance - Add the __init__() Function"
   ]
  },
  {
   "cell_type": "code",
   "execution_count": null,
   "id": "b43fbc0a",
   "metadata": {},
   "outputs": [],
   "source": [
    "# Add the __init__() function to the Student class\n",
    "\n",
    "class Student(Person):\n",
    "    def __init__(self, fname, lname):\n",
    "        # add properties"
   ]
  },
  {
   "cell_type": "code",
   "execution_count": 58,
   "id": "a66dce2d",
   "metadata": {},
   "outputs": [
    {
     "name": "stdout",
     "output_type": "stream",
     "text": [
      "John Doe\n",
      "Taylor Swift\n"
     ]
    }
   ],
   "source": [
    "class Person:\n",
    "    def __init__(self, fname, lname):\n",
    "        self.firstname = fname\n",
    "        self.lastname = lname\n",
    "        \n",
    "    def printname(self):\n",
    "        print(self.firstname, self.lastname)\n",
    "        \n",
    "x = Person(\"John\", \"Doe\")\n",
    "\n",
    "x.printname()\n",
    "\n",
    "class Student(Person): #\n",
    "    def __init__(self, fname, lname): # make an __init__ function inside the child class\n",
    "        Person.__init__(self, fname, lname) # but call the parent's __ini__() function aswell\n",
    "        \n",
    "p1 = Student(\"Taylor\", \"Swift\")\n",
    "\n",
    "p1.printname()"
   ]
  },
  {
   "cell_type": "markdown",
   "id": "f551a8db",
   "metadata": {},
   "source": [
    "# Python Inheritance - Use the super() Function"
   ]
  },
  {
   "cell_type": "code",
   "execution_count": 62,
   "id": "4f09e956",
   "metadata": {},
   "outputs": [
    {
     "name": "stdout",
     "output_type": "stream",
     "text": [
      "Taylor Swift\n",
      "Arruum Kiranadjie\n"
     ]
    }
   ],
   "source": [
    "class Person:\n",
    "    def __init__(self, fname, lname):\n",
    "        self.firstname = fname\n",
    "        self.lastname = lname\n",
    "        \n",
    "    def printname(self):\n",
    "        print(self.firstname, self.lastname)\n",
    "        \n",
    "x = Person(\"Taylor\", \"Swift\")\n",
    "\n",
    "x.printname()\n",
    "\n",
    "class Student(Person):\n",
    "    def __init__(self, fname, lname):\n",
    "        super().__init__(fname, lname) # With super() you don't need to call the self or the first parameter of parent class\n",
    "        \n",
    "p1 = Student(\"Arruum\", \"Kiranadjie\")\n",
    "\n",
    "p1.printname()"
   ]
  },
  {
   "cell_type": "markdown",
   "id": "0b9d4cb4",
   "metadata": {},
   "source": [
    "# Python Inheritance - Add Properties"
   ]
  },
  {
   "cell_type": "code",
   "execution_count": 75,
   "id": "85e17270",
   "metadata": {},
   "outputs": [
    {
     "name": "stdout",
     "output_type": "stream",
     "text": [
      "Taylor Swift\n",
      "Swift\n",
      "Arruum\n",
      "2019\n"
     ]
    }
   ],
   "source": [
    "# Add a property called graduationyear to the Student Class\n",
    "\n",
    "class Person:\n",
    "    def __init__(self, fname, lname):\n",
    "        self.firstname = fname\n",
    "        self.lastname = lname\n",
    "        \n",
    "    def printname(self):\n",
    "        print(self.firstname, self.lastname)\n",
    "        \n",
    "x = Person(\"Taylor\", \"Swift\")\n",
    "\n",
    "x.printname()\n",
    "\n",
    "class Student(Person):\n",
    "    def __init__(self, fname, lname, year):\n",
    "        super().__init__(fname, lname)\n",
    "        #self.graduationyear = 2019\n",
    "        self.graduationyear = year # You can use this too\n",
    "        \n",
    "p1 = Student(\"Arruum\", \"Kiranadjie\", \"2019\")\n",
    "\n",
    "print(x.lastname)\n",
    "print(p1.firstname)\n",
    "print(p1.graduationyear)"
   ]
  },
  {
   "cell_type": "markdown",
   "id": "c0e72ff1",
   "metadata": {},
   "source": [
    "# Python Inheritance - Add Methods"
   ]
  },
  {
   "cell_type": "code",
   "execution_count": 78,
   "id": "60ec6826",
   "metadata": {},
   "outputs": [
    {
     "name": "stdout",
     "output_type": "stream",
     "text": [
      "Taylor Swift\n",
      "Welcome Arruum Kiranadjie to the class of 2019\n"
     ]
    }
   ],
   "source": [
    "# Add a method called welcome to the Student class\n",
    "\n",
    "class Person:\n",
    "    def __init__(self, fname, lname):\n",
    "        self.firstname = fname\n",
    "        self.lastname = lname\n",
    "        \n",
    "    def printname(self):\n",
    "        print(self.firstname, self.lastname)\n",
    "        \n",
    "x = Person(\"Taylor\", \"Swift\")\n",
    "\n",
    "x.printname()\n",
    "\n",
    "class Student(Person):\n",
    "    def __init__(self, fname, lname, year):\n",
    "        super().__init__(fname, lname)\n",
    "        self.graduationyear = year\n",
    "        \n",
    "    def welcome(self):\n",
    "        print(\"Welcome\", self.firstname, self.lastname, \"to the class of\", self.graduationyear)\n",
    "        \n",
    "p1 = Student(\"Arruum\", \"Kiranadjie\", \"2019\")\n",
    "\n",
    "p1.welcome() # Operates the object with the new method / function "
   ]
  },
  {
   "cell_type": "markdown",
   "id": "48e3aa6f",
   "metadata": {},
   "source": [
    "# Python Iterators - Iterator vs Iterable"
   ]
  },
  {
   "cell_type": "code",
   "execution_count": 4,
   "id": "84c51d7c",
   "metadata": {},
   "outputs": [
    {
     "name": "stdout",
     "output_type": "stream",
     "text": [
      "apple\n",
      "banana\n",
      "cherry\n"
     ]
    }
   ],
   "source": [
    "# Return an iterator from a tuple, and print each value\n",
    "\n",
    "mytuple = (\"apple\", \"banana\", \"cherry\")\n",
    "myit = iter(mytuple) # Make a variable to contain the iter method with tuple as the parameter\n",
    "\n",
    "print(next(myit)) # print the iterartion of the first\n",
    "print(next(myit)) # and the next\n",
    "print(next(myit)) # and the next"
   ]
  },
  {
   "cell_type": "code",
   "execution_count": 7,
   "id": "142fdad1",
   "metadata": {},
   "outputs": [
    {
     "name": "stdout",
     "output_type": "stream",
     "text": [
      "b\n",
      "a\n",
      "n\n",
      "a\n",
      "n\n",
      "a\n"
     ]
    }
   ],
   "source": [
    "# Strings are also iterable objects, containing a sequence of characters\n",
    "\n",
    "mystr = \"banana\" \n",
    "myit = iter(mystr) # With string as the object\n",
    "\n",
    "print(next(myit))\n",
    "print(next(myit))\n",
    "print(next(myit))\n",
    "print(next(myit))\n",
    "print(next(myit))\n",
    "print(next(myit)) "
   ]
  },
  {
   "cell_type": "markdown",
   "id": "661bb227",
   "metadata": {},
   "source": [
    "# Python Iterators - Looping Through an Iterator"
   ]
  },
  {
   "cell_type": "code",
   "execution_count": 8,
   "id": "d97b4a80",
   "metadata": {},
   "outputs": [
    {
     "name": "stdout",
     "output_type": "stream",
     "text": [
      "apple\n",
      "banana\n",
      "cherry\n"
     ]
    }
   ],
   "source": [
    "# Iterate the values of a tuple\n",
    "\n",
    "mytuple = (\"apple\", \"banana\", \"cherry\")\n",
    "\n",
    "for x in mytuple:\n",
    "    print(x)"
   ]
  },
  {
   "cell_type": "code",
   "execution_count": 9,
   "id": "927f7cf0",
   "metadata": {},
   "outputs": [
    {
     "name": "stdout",
     "output_type": "stream",
     "text": [
      "b\n",
      "a\n",
      "n\n",
      "a\n",
      "n\n",
      "a\n"
     ]
    }
   ],
   "source": [
    "# Iterate the characters of a string\n",
    "\n",
    "mystr = \"banana\"\n",
    "\n",
    "for x in mystr:\n",
    "    print(x)"
   ]
  },
  {
   "cell_type": "markdown",
   "id": "4d9b1976",
   "metadata": {},
   "source": [
    "# # Python Iterators - Create an Iterator"
   ]
  },
  {
   "cell_type": "code",
   "execution_count": 10,
   "id": "19ea337c",
   "metadata": {},
   "outputs": [
    {
     "name": "stdout",
     "output_type": "stream",
     "text": [
      "1\n",
      "2\n",
      "3\n",
      "4\n",
      "5\n"
     ]
    }
   ],
   "source": [
    "# Create an iterator that returns nuumbers starting with 1, and each sequence will increase by one (returning 1, 2, 3 etc.)\n",
    "\n",
    "class MyNumbers: # Make a Class\n",
    "    def __iter__(self): # __iter__() methods acts similar to __init__() method with the parameter self\n",
    "        self.a = 1 # Declaring that self.a (with a is a variable that represent the number now) to self.a = 1, because 1 as the start of the number that will do the addition\n",
    "        return self # returning as the self itself\n",
    "    \n",
    "    def __next__(self): # __next__() method as the operation method with the self parameter for the next iteration\n",
    "        x = self.a # make a variable named x that equls to self.a so we can call the value of the first a so we write x = self.a\n",
    "        self.a += 1 # operation of addition\n",
    "        return x # return the value x, which is the total value\n",
    "    \n",
    "myclass = MyNumbers() # make an object of the class, we call myclass = MyNumbers()\n",
    "myiter = iter(myclass) # make a declaration of myiter = iter(myclass)\n",
    "\n",
    "print(next(myiter)) \n",
    "print(next(myiter)) \n",
    "print(next(myiter)) \n",
    "print(next(myiter)) \n",
    "print(next(myiter)) "
   ]
  },
  {
   "cell_type": "markdown",
   "id": "360869d1",
   "metadata": {},
   "source": [
    "# Python Iterators - StopIteration"
   ]
  },
  {
   "cell_type": "code",
   "execution_count": 17,
   "id": "b7bcd300",
   "metadata": {},
   "outputs": [
    {
     "name": "stdout",
     "output_type": "stream",
     "text": [
      "1\n",
      "2\n",
      "3\n",
      "4\n",
      "5\n",
      "6\n",
      "7\n",
      "8\n",
      "9\n",
      "10\n",
      "11\n",
      "12\n",
      "13\n",
      "14\n",
      "15\n",
      "16\n",
      "17\n",
      "18\n",
      "19\n",
      "20\n"
     ]
    }
   ],
   "source": [
    "# Stop after 20 iterations\n",
    "\n",
    "class MyNumbers:\n",
    "    def __iter__(self):\n",
    "        self.a = 1\n",
    "        return self\n",
    "    \n",
    "    def __next__(self):\n",
    "        if self.a <=20:\n",
    "            x = self.a\n",
    "            self.a += 1\n",
    "            return x \n",
    "        else:\n",
    "            raise StopIteration\n",
    "            \n",
    "myclass = MyNumbers()\n",
    "myiter = iter(myclass)\n",
    "\n",
    "for x in myiter: # for simple form iterations\n",
    "    print(x)"
   ]
  },
  {
   "cell_type": "markdown",
   "id": "c05e1730",
   "metadata": {},
   "source": [
    "# Python Polymorphism - Function Polymorphism - String"
   ]
  },
  {
   "cell_type": "code",
   "execution_count": 18,
   "id": "79433f77",
   "metadata": {},
   "outputs": [
    {
     "name": "stdout",
     "output_type": "stream",
     "text": [
      "12\n"
     ]
    }
   ],
   "source": [
    "x = \"Hello World!\"\n",
    "\n",
    "print(len(x))"
   ]
  },
  {
   "cell_type": "markdown",
   "id": "3d250b54",
   "metadata": {},
   "source": [
    "# Python Polymorphism - Function Polymorphism - Tuple"
   ]
  },
  {
   "cell_type": "code",
   "execution_count": 19,
   "id": "5164b6dc",
   "metadata": {},
   "outputs": [
    {
     "name": "stdout",
     "output_type": "stream",
     "text": [
      "3\n"
     ]
    }
   ],
   "source": [
    "mytuple = (\"apple\", \"banana\", \"cherry\")\n",
    "\n",
    "print(len(mytuple))"
   ]
  },
  {
   "cell_type": "markdown",
   "id": "5e1c9aea",
   "metadata": {},
   "source": [
    "# Python Polymorphism - Function Polymorphism - Dictionary"
   ]
  },
  {
   "cell_type": "code",
   "execution_count": 21,
   "id": "ff445a09",
   "metadata": {},
   "outputs": [
    {
     "name": "stdout",
     "output_type": "stream",
     "text": [
      "3\n"
     ]
    }
   ],
   "source": [
    "thisdict = {\n",
    "    \"brand\" : \"Ford\",\n",
    "    \"model\" : \"Mustang\",\n",
    "    \"year\" : 1964\n",
    "}\n",
    "\n",
    "print(len(thisdict))"
   ]
  },
  {
   "cell_type": "markdown",
   "id": "f11f6018",
   "metadata": {},
   "source": [
    "# Python Polymorphism - Class Polymorphism"
   ]
  },
  {
   "cell_type": "code",
   "execution_count": 27,
   "id": "79e45ae7",
   "metadata": {},
   "outputs": [
    {
     "name": "stdout",
     "output_type": "stream",
     "text": [
      "Drive!\n",
      "Sail!\n",
      "Fly!\n",
      " \n",
      "Drive!\n",
      "Sail!\n",
      "Fly!\n"
     ]
    }
   ],
   "source": [
    "# Different classes with the same method\n",
    "\n",
    "class Car:\n",
    "    def __init__(self, brand, model):\n",
    "        self.brand = brand\n",
    "        self.model = model\n",
    "        \n",
    "    def move(self):\n",
    "        print(\"Drive!\")\n",
    "    \n",
    "class Boat:\n",
    "    def __init__(self, brand, model):\n",
    "        self.brand = brand\n",
    "        self.model = model\n",
    "        \n",
    "    def move(self):\n",
    "        print(\"Sail!\")\n",
    "        \n",
    "class Plane:\n",
    "    def __init__(self, brand, model):\n",
    "        self.brand = brand\n",
    "        self.model = model\n",
    "        \n",
    "    def move(self):\n",
    "        print(\"Fly!\")\n",
    "        \n",
    "car1 = Car(\"Ford\", \"Mustang\")\n",
    "boat1 = Boat(\"Ibiza\", \"Touring 20\")\n",
    "plane1 = Plane(\"Boeing\", \"747\")\n",
    "\n",
    "for x in (car1, boat1, plane1):\n",
    "    x.move()\n",
    "\n",
    "print(\" \")\n",
    "car1.move()\n",
    "boat1.move()\n",
    "plane1.move()"
   ]
  },
  {
   "cell_type": "markdown",
   "id": "107d85f4",
   "metadata": {},
   "source": [
    "# Python Polymorphism - Inheritance Class Polymorphism"
   ]
  },
  {
   "cell_type": "code",
   "execution_count": 28,
   "id": "1c02a10f",
   "metadata": {},
   "outputs": [
    {
     "name": "stdout",
     "output_type": "stream",
     "text": [
      "Ford\n",
      "Mustang\n",
      "Move!\n",
      "Ibiza\n",
      "Touring 20\n",
      "Sail!\n",
      "Boeing\n",
      "747\n",
      "Fly!\n"
     ]
    }
   ],
   "source": [
    "# Create a class Vehicle and make Cra, Biat, Plane child classes of Vehicle\n",
    "\n",
    "class Vehicle:\n",
    "    def __init__(self, brand, model):\n",
    "        self.brand = brand\n",
    "        self.model = model\n",
    "    \n",
    "    def move(self):\n",
    "        print(\"Move!\")\n",
    "\n",
    "class Car(Vehicle): # Child class\n",
    "    pass\n",
    "\n",
    "class Boat(Vehicle): # Child class\n",
    "    def move(self): # declaration of move()\n",
    "        print(\"Sail!\")\n",
    "        \n",
    "class Plane(Vehicle): # Child class\n",
    "    def move(self):\n",
    "        print(\"Fly!\")\n",
    "        \n",
    "car1 = Car(\"Ford\", \"Mustang\")\n",
    "boat1 = Boat(\"Ibiza\", \"Touring 20\")\n",
    "plane1 = Plane(\"Boeing\", \"747\")\n",
    "\n",
    "for x in(car1, boat1, plane1):\n",
    "    print(x.brand)\n",
    "    print(x.model) \n",
    "    x.move() # Will gets override from move() in class Boat and Plane"
   ]
  },
  {
   "cell_type": "markdown",
   "id": "c524c5b5",
   "metadata": {},
   "source": [
    "# Python Scope - Local Scope"
   ]
  },
  {
   "cell_type": "code",
   "execution_count": 29,
   "id": "51477d24",
   "metadata": {},
   "outputs": [
    {
     "name": "stdout",
     "output_type": "stream",
     "text": [
      "300\n"
     ]
    }
   ],
   "source": [
    "# A variable created inside a function is available inside that function\n",
    "\n",
    "def myfunc():\n",
    "    x = 300\n",
    "    print(x)\n",
    "    \n",
    "myfunc()"
   ]
  },
  {
   "cell_type": "markdown",
   "id": "fddcdf62",
   "metadata": {},
   "source": [
    "# Python Scope - Local Scope - Function Inside Function"
   ]
  },
  {
   "cell_type": "code",
   "execution_count": 31,
   "id": "7d9e7673",
   "metadata": {},
   "outputs": [
    {
     "name": "stdout",
     "output_type": "stream",
     "text": [
      "300\n"
     ]
    }
   ],
   "source": [
    "# The local variable can be accessed from a function within the function\n",
    "\n",
    "def myfunc():\n",
    "    x = 300\n",
    "    def myinnerfunc(): # function inside a function\n",
    "        print(x)\n",
    "    myinnerfunc() # Call the inner function INSIDE the main function like a print wise\n",
    "     \n",
    "myfunc()"
   ]
  },
  {
   "cell_type": "markdown",
   "id": "4d1a5e8e",
   "metadata": {},
   "source": [
    "# Python Scope - Global Scope"
   ]
  },
  {
   "cell_type": "code",
   "execution_count": 32,
   "id": "3dc46aff",
   "metadata": {},
   "outputs": [
    {
     "name": "stdout",
     "output_type": "stream",
     "text": [
      "300\n",
      "300\n"
     ]
    }
   ],
   "source": [
    "# A variable created outside of a function is global and can be used by anyone\n",
    "    \n",
    "x = 300\n",
    "   \n",
    "def myfunc():\n",
    "    print(x)\n",
    "    \n",
    "myfunc()\n",
    "\n",
    "print(x)"
   ]
  },
  {
   "cell_type": "markdown",
   "id": "1f6ee062",
   "metadata": {},
   "source": [
    "# Python Scope - Global Scope - Naming Variables"
   ]
  },
  {
   "cell_type": "code",
   "execution_count": 33,
   "id": "d1369e08",
   "metadata": {},
   "outputs": [
    {
     "name": "stdout",
     "output_type": "stream",
     "text": [
      "200\n",
      "300\n"
     ]
    }
   ],
   "source": [
    "# The function will print the local x, and then the code will print the global x\n",
    "\n",
    "x = 300\n",
    "\n",
    "def myfunc():\n",
    "    x = 200\n",
    "    print(x)\n",
    "\n",
    "myfunc()\n",
    "\n",
    "print(x)"
   ]
  },
  {
   "cell_type": "markdown",
   "id": "64669765",
   "metadata": {},
   "source": [
    "# Python Scope - Global Keyword"
   ]
  },
  {
   "cell_type": "code",
   "execution_count": 41,
   "id": "ded2a306",
   "metadata": {},
   "outputs": [
    {
     "name": "stdout",
     "output_type": "stream",
     "text": [
      "300\n"
     ]
    }
   ],
   "source": [
    "# If you use the global keyword, the variable belongs to the global scope\n",
    "\n",
    "def myfunc():\n",
    "    global x\n",
    "    x = 300\n",
    "    \n",
    "myfunc()  \n",
    "\n",
    "print(x)"
   ]
  },
  {
   "cell_type": "code",
   "execution_count": 42,
   "id": "7e7f1fdf",
   "metadata": {},
   "outputs": [
    {
     "name": "stdout",
     "output_type": "stream",
     "text": [
      "200\n"
     ]
    }
   ],
   "source": [
    "# To change the value of a global variable inside a function, refer to the variable by using the global keyword\n",
    "\n",
    "x = 300\n",
    "\n",
    "def myfunc():\n",
    "    global x\n",
    "    x = 200\n",
    "    \n",
    "myfunc()\n",
    "\n",
    "print(x) "
   ]
  },
  {
   "cell_type": "markdown",
   "id": "751ecbff",
   "metadata": {},
   "source": [
    "# Python Modules - Use a Module"
   ]
  },
  {
   "cell_type": "code",
   "execution_count": 18,
   "id": "30eb7e93",
   "metadata": {},
   "outputs": [
    {
     "name": "stdout",
     "output_type": "stream",
     "text": [
      "Hello, Arruum\n"
     ]
    }
   ],
   "source": [
    "# Import the module named mymodule, and call the greeting function\n",
    "\n",
    "import mymodule # Importing the module\n",
    "\n",
    "mymodule.greeting(\"Arruum\") # Operates the module with the function inside that module and give the value to it"
   ]
  },
  {
   "cell_type": "markdown",
   "id": "fd4a836c",
   "metadata": {},
   "source": [
    "# Python Modules - Variables in Module"
   ]
  },
  {
   "cell_type": "code",
   "execution_count": 19,
   "id": "7cf5a84b",
   "metadata": {},
   "outputs": [
    {
     "name": "stdout",
     "output_type": "stream",
     "text": [
      "36\n"
     ]
    }
   ],
   "source": [
    "# Import the module named mymodule, and access the person1 dictionary\n",
    "\n",
    "import newmodule\n",
    "\n",
    "a = newmodule.person1[\"age\"]\n",
    "print(a)"
   ]
  },
  {
   "cell_type": "markdown",
   "id": "a1cb3653",
   "metadata": {},
   "source": [
    "# Python Modules - Re-naming a Module"
   ]
  },
  {
   "cell_type": "code",
   "execution_count": 22,
   "id": "b0d38a7a",
   "metadata": {},
   "outputs": [
    {
     "name": "stdout",
     "output_type": "stream",
     "text": [
      "36\n"
     ]
    }
   ],
   "source": [
    "# Create an alias for newmodule called mx\n",
    "\n",
    "import newmodule as mx\n",
    "\n",
    "a = mx.person1[\"age\"]\n",
    "print(a)"
   ]
  },
  {
   "cell_type": "markdown",
   "id": "34b82bc0",
   "metadata": {},
   "source": [
    "# Python Modules - Built-in Modules"
   ]
  },
  {
   "cell_type": "code",
   "execution_count": 24,
   "id": "aa3357ad",
   "metadata": {},
   "outputs": [
    {
     "name": "stdout",
     "output_type": "stream",
     "text": [
      "Windows\n"
     ]
    }
   ],
   "source": [
    "# Import and use the platform module\n",
    "\n",
    "import platform\n",
    "\n",
    "x = platform.system()\n",
    "print(x)"
   ]
  },
  {
   "cell_type": "markdown",
   "id": "b21cacff",
   "metadata": {},
   "source": [
    "# Python Modules - Using the dir() Function"
   ]
  },
  {
   "cell_type": "code",
   "execution_count": 25,
   "id": "e17a5323",
   "metadata": {},
   "outputs": [
    {
     "name": "stdout",
     "output_type": "stream",
     "text": [
      "['_Processor', '_WIN32_CLIENT_RELEASES', '_WIN32_SERVER_RELEASES', '__builtins__', '__cached__', '__copyright__', '__doc__', '__file__', '__loader__', '__name__', '__package__', '__spec__', '__version__', '_comparable_version', '_component_re', '_default_architecture', '_follow_symlinks', '_get_machine_win32', '_ironpython26_sys_version_parser', '_ironpython_sys_version_parser', '_java_getprop', '_libc_search', '_mac_ver_xml', '_node', '_norm_version', '_platform', '_platform_cache', '_pypy_sys_version_parser', '_sys_version', '_sys_version_cache', '_sys_version_parser', '_syscmd_file', '_syscmd_ver', '_uname_cache', '_unknown_as_blank', '_ver_output', '_ver_stages', 'architecture', 'collections', 'functools', 'itertools', 'java_ver', 'libc_ver', 'mac_ver', 'machine', 'node', 'os', 'platform', 'processor', 'python_branch', 'python_build', 'python_compiler', 'python_implementation', 'python_revision', 'python_version', 'python_version_tuple', 're', 'release', 'subprocess', 'sys', 'system', 'system_alias', 'uname', 'uname_result', 'version', 'win32_edition', 'win32_is_iot', 'win32_ver']\n"
     ]
    }
   ],
   "source": [
    "# List all defined names belonging to the platform module\n",
    "\n",
    "import platform\n",
    "\n",
    "x = dir(platform)\n",
    "print(x)"
   ]
  },
  {
   "cell_type": "markdown",
   "id": "d9c45ba8",
   "metadata": {},
   "source": [
    "# Python Modules - Import From Module"
   ]
  },
  {
   "cell_type": "code",
   "execution_count": 27,
   "id": "a48a6e29",
   "metadata": {},
   "outputs": [
    {
     "name": "stdout",
     "output_type": "stream",
     "text": [
      "36\n"
     ]
    }
   ],
   "source": [
    "# Import only the person1 dictionary from the module\n",
    "\n",
    "from themodule import person1 # Using the from keyword to choose only the ones we want to import from the module\n",
    "\n",
    "print(person1[\"age\"]) "
   ]
  },
  {
   "cell_type": "markdown",
   "id": "eceba9c8",
   "metadata": {},
   "source": [
    "# Python Datetime - Python Dates"
   ]
  },
  {
   "cell_type": "code",
   "execution_count": 28,
   "id": "0dd0df5b",
   "metadata": {},
   "outputs": [
    {
     "name": "stdout",
     "output_type": "stream",
     "text": [
      "2023-08-17 01:47:35.312556\n"
     ]
    }
   ],
   "source": [
    "# import the datetime module and display the current date\n",
    "\n",
    "import datetime\n",
    "\n",
    "x = datetime.datetime.now()\n",
    "print(x)"
   ]
  },
  {
   "cell_type": "markdown",
   "id": "a773d0cb",
   "metadata": {},
   "source": [
    "# Python Datetime - Date Output"
   ]
  },
  {
   "cell_type": "code",
   "execution_count": 29,
   "id": "7f03f36f",
   "metadata": {},
   "outputs": [
    {
     "name": "stdout",
     "output_type": "stream",
     "text": [
      "2023\n",
      "Thursday\n"
     ]
    }
   ],
   "source": [
    "# Return the year and name of weekday\n",
    "\n",
    "import datetime\n",
    "\n",
    "x = datetime.datetime.now()\n",
    "\n",
    "print(x.year)\n",
    "print(x.strftime(\"%A\"))"
   ]
  },
  {
   "cell_type": "markdown",
   "id": "d54c9d52",
   "metadata": {},
   "source": [
    "# Python Datetime - Creating Date Objects"
   ]
  },
  {
   "cell_type": "code",
   "execution_count": 30,
   "id": "60310ae8",
   "metadata": {},
   "outputs": [
    {
     "name": "stdout",
     "output_type": "stream",
     "text": [
      "2020-05-17 00:00:00\n"
     ]
    }
   ],
   "source": [
    "# Create a date object\n",
    "\n",
    "import datetime\n",
    "\n",
    "x = datetime.datetime(2020, 5, 17)\n",
    "\n",
    "print(x)"
   ]
  },
  {
   "cell_type": "markdown",
   "id": "08bb73ac",
   "metadata": {},
   "source": [
    "# Python Datetime - The strftime() Method"
   ]
  },
  {
   "cell_type": "code",
   "execution_count": 31,
   "id": "637df40a",
   "metadata": {},
   "outputs": [
    {
     "name": "stdout",
     "output_type": "stream",
     "text": [
      "June\n"
     ]
    }
   ],
   "source": [
    "# Display the name of the month\n",
    "\n",
    "import datetime\n",
    "\n",
    "x = datetime.datetime(2018, 6, 1)\n",
    "\n",
    "print(x.strftime(\"%B\"))"
   ]
  },
  {
   "cell_type": "code",
   "execution_count": null,
   "id": "4857071a",
   "metadata": {},
   "outputs": [],
   "source": []
  },
  {
   "cell_type": "markdown",
   "id": "c23f773b",
   "metadata": {},
   "source": [
    "# Python Math - Built-in Math Functions"
   ]
  },
  {
   "cell_type": "code",
   "execution_count": 32,
   "id": "0b38caa8",
   "metadata": {},
   "outputs": [
    {
     "name": "stdout",
     "output_type": "stream",
     "text": [
      "5\n",
      "25\n"
     ]
    }
   ],
   "source": [
    "x = min(5, 10, 25)\n",
    "y = max(5, 10, 25)\n",
    "\n",
    "print(x)\n",
    "print(y)"
   ]
  },
  {
   "cell_type": "code",
   "execution_count": 33,
   "id": "4b5a8b4d",
   "metadata": {},
   "outputs": [
    {
     "name": "stdout",
     "output_type": "stream",
     "text": [
      "7.25\n"
     ]
    }
   ],
   "source": [
    "x = abs(-7.25)\n",
    "\n",
    "print(x)"
   ]
  },
  {
   "cell_type": "code",
   "execution_count": 34,
   "id": "befc136f",
   "metadata": {},
   "outputs": [
    {
     "name": "stdout",
     "output_type": "stream",
     "text": [
      "64\n"
     ]
    }
   ],
   "source": [
    "# Return the value of 4 to the power of 3 (same as 4 * 4 * 4)\n",
    "\n",
    "x = pow(4, 3)\n",
    "\n",
    "print(x)"
   ]
  },
  {
   "cell_type": "markdown",
   "id": "c5d66f99",
   "metadata": {},
   "source": [
    "# Python Math - The Math Module"
   ]
  },
  {
   "cell_type": "code",
   "execution_count": 35,
   "id": "b03b8fcb",
   "metadata": {},
   "outputs": [],
   "source": [
    "import math"
   ]
  },
  {
   "cell_type": "code",
   "execution_count": 38,
   "id": "60c0fb20",
   "metadata": {},
   "outputs": [
    {
     "name": "stdout",
     "output_type": "stream",
     "text": [
      "8\n"
     ]
    }
   ],
   "source": [
    "x = math.sqrt(64)\n",
    "\n",
    "print(int(x))"
   ]
  },
  {
   "cell_type": "code",
   "execution_count": 40,
   "id": "e3c778f9",
   "metadata": {},
   "outputs": [
    {
     "name": "stdout",
     "output_type": "stream",
     "text": [
      "2\n",
      "1\n"
     ]
    }
   ],
   "source": [
    "x = math.ceil(1.4)\n",
    "y = math.floor(1.4)\n",
    "\n",
    "print(x)\n",
    "print(y)"
   ]
  },
  {
   "cell_type": "code",
   "execution_count": 43,
   "id": "c332723c",
   "metadata": {},
   "outputs": [
    {
     "name": "stdout",
     "output_type": "stream",
     "text": [
      "3.141592653589793\n"
     ]
    }
   ],
   "source": [
    "x = math.pi\n",
    "\n",
    "print(x)"
   ]
  },
  {
   "cell_type": "markdown",
   "id": "e66e56a6",
   "metadata": {},
   "source": [
    "# Python JSON - JSON in Python"
   ]
  },
  {
   "cell_type": "code",
   "execution_count": 44,
   "id": "501ffb52",
   "metadata": {},
   "outputs": [],
   "source": [
    "# Import the json module\n",
    "\n",
    "import json"
   ]
  },
  {
   "cell_type": "markdown",
   "id": "4810cc4c",
   "metadata": {},
   "source": [
    "# Python JSON - Parse JSON - Convert from JSON to Python"
   ]
  },
  {
   "cell_type": "code",
   "execution_count": 46,
   "id": "525f783f",
   "metadata": {},
   "outputs": [
    {
     "name": "stdout",
     "output_type": "stream",
     "text": [
      "30\n",
      "{'name': 'John', 'age': 30, 'city': 'New York'}\n"
     ]
    }
   ],
   "source": [
    "# Convert from JSON to Python\n",
    "\n",
    "import json\n",
    "\n",
    "# some JSON\n",
    "x = '{\"name\":\"John\", \"age\": 30, \"city\": \"New York\"}'\n",
    "\n",
    "# parse x\n",
    "y = json.loads(x)\n",
    "\n",
    "# the result is a Python dictionary\n",
    "print(y[\"age\"])"
   ]
  },
  {
   "cell_type": "markdown",
   "id": "af21583b",
   "metadata": {},
   "source": [
    "# Python JSON - Convert from Python to JSON"
   ]
  },
  {
   "cell_type": "code",
   "execution_count": 48,
   "id": "b1e3898c",
   "metadata": {},
   "outputs": [
    {
     "name": "stdout",
     "output_type": "stream",
     "text": [
      "{\"name \": \"John\", \"age\": 30, \"city\": \"New York\"}\n"
     ]
    }
   ],
   "source": [
    "# Convert from Python to JSON\n",
    "\n",
    "import json\n",
    "\n",
    "# a Python object (dict)\n",
    "x = {\n",
    "    \"name \" : \"John\",\n",
    "    \"age\" : 30,\n",
    "    \"city\" : \"New York\"\n",
    "}\n",
    "\n",
    "# convert into JSON\n",
    "y = json.dumps(x)\n",
    "\n",
    "# the result is a JSON string\n",
    "print(y)"
   ]
  },
  {
   "cell_type": "code",
   "execution_count": 49,
   "id": "97b1a9e3",
   "metadata": {},
   "outputs": [
    {
     "name": "stdout",
     "output_type": "stream",
     "text": [
      "{\"name\": \"John\", \"age\": 30}\n",
      "[\"apple\", \"bananas\"]\n",
      "[\"apple\", \"bananas\"]\n",
      "\"hello\"\n",
      "42\n",
      "31.76\n",
      "true\n",
      "false\n",
      "null\n"
     ]
    }
   ],
   "source": [
    "# Convert Python objects into JSON strings, and print the values\n",
    "\n",
    "import json\n",
    "\n",
    "print(json.dumps({\"name\": \"John\", \"age\": 30}))\n",
    "print(json.dumps([\"apple\", \"bananas\"]))\n",
    "print(json.dumps((\"apple\", \"bananas\")))\n",
    "print(json.dumps(\"hello\"))\n",
    "print(json.dumps(42))\n",
    "print(json.dumps(31.76))\n",
    "print(json.dumps(True))\n",
    "print(json.dumps(False))\n",
    "print(json.dumps(None))"
   ]
  },
  {
   "cell_type": "code",
   "execution_count": 52,
   "id": "147aae1a",
   "metadata": {},
   "outputs": [
    {
     "name": "stdout",
     "output_type": "stream",
     "text": [
      "{\"name\": \"John\", \"age\": 30, \"married\": true, \"divorced\": false, \"children\": [\"Ann\", \"Billy\"], \"pets\": null, \"cars\": [{\"model\": \"BMW 230\", \"mpg\": 27.5}, {\"model\": \"Ford Edge\", \"mpg\": 24.1}]}\n"
     ]
    }
   ],
   "source": [
    "# Convert a Python object containing all the legal data types\n",
    "\n",
    "import json\n",
    "\n",
    "x = {\n",
    "    \"name\" : \"John\",\n",
    "    \"age\" : 30,\n",
    "    \"married\" : True,\n",
    "    \"divorced\" : False,\n",
    "    \"children\" : (\"Ann\", \"Billy\"),\n",
    "    \"pets\" : None,\n",
    "    \"cars\" : [\n",
    "        {\"model\": \"BMW 230\", \"mpg\": 27.5},\n",
    "        {\"model\": \"Ford Edge\", \"mpg\": 24.1}\n",
    "    ]\n",
    "}\n",
    "\n",
    "print(json.dumps(x))"
   ]
  },
  {
   "cell_type": "markdown",
   "id": "532c7b12",
   "metadata": {},
   "source": [
    "# Python JSON - Format the Result"
   ]
  },
  {
   "cell_type": "code",
   "execution_count": 53,
   "id": "9409e2d4",
   "metadata": {},
   "outputs": [
    {
     "data": {
      "text/plain": [
       "'{\\n    \"name\": \"John\",\\n    \"age\": 30,\\n    \"married\": true,\\n    \"divorced\": false,\\n    \"children\": [\\n        \"Ann\",\\n        \"Billy\"\\n    ],\\n    \"pets\": null,\\n    \"cars\": [\\n        {\\n            \"model\": \"BMW 230\",\\n            \"mpg\": 27.5\\n        },\\n        {\\n            \"model\": \"Ford Edge\",\\n            \"mpg\": 24.1\\n        }\\n    ]\\n}'"
      ]
     },
     "execution_count": 53,
     "metadata": {},
     "output_type": "execute_result"
    }
   ],
   "source": [
    "# Use the indent parameter to define the numbers of indents\n",
    "\n",
    "json.dumps(x, indent = 4)"
   ]
  },
  {
   "cell_type": "code",
   "execution_count": 56,
   "id": "b1ff6b39",
   "metadata": {},
   "outputs": [
    {
     "data": {
      "text/plain": [
       "'{\\n    \"name\"=\"John\".\\n    \"age\"=30.\\n    \"married\"=true.\\n    \"divorced\"=false.\\n    \"children\"=[\\n        \"Ann\".\\n        \"Billy\"\\n    ].\\n    \"pets\"=null.\\n    \"cars\"=[\\n        {\\n            \"model\"=\"BMW 230\".\\n            \"mpg\"=27.5\\n        }.\\n        {\\n            \"model\"=\"Ford Edge\".\\n            \"mpg\"=24.1\\n        }\\n    ]\\n}'"
      ]
     },
     "execution_count": 56,
     "metadata": {},
     "output_type": "execute_result"
    }
   ],
   "source": [
    "# Use the separators parameter to change the default separator\n",
    "\n",
    "json.dumps(x, indent = 4, separators = (\".\", \"=\"))"
   ]
  },
  {
   "cell_type": "markdown",
   "id": "8281edd7",
   "metadata": {},
   "source": [
    "# Python JSON - Order the Result"
   ]
  },
  {
   "cell_type": "code",
   "execution_count": 57,
   "id": "c2edd53b",
   "metadata": {},
   "outputs": [
    {
     "data": {
      "text/plain": [
       "'{\\n    \"age\"=30.\\n    \"cars\"=[\\n        {\\n            \"model\"=\"BMW 230\".\\n            \"mpg\"=27.5\\n        }.\\n        {\\n            \"model\"=\"Ford Edge\".\\n            \"mpg\"=24.1\\n        }\\n    ].\\n    \"children\"=[\\n        \"Ann\".\\n        \"Billy\"\\n    ].\\n    \"divorced\"=false.\\n    \"married\"=true.\\n    \"name\"=\"John\".\\n    \"pets\"=null\\n}'"
      ]
     },
     "execution_count": 57,
     "metadata": {},
     "output_type": "execute_result"
    }
   ],
   "source": [
    "# Use the sort_keys parameter to specify if the result should be sorted or not\n",
    "\n",
    "json.dumps(x, indent = 4, separators = (\".\", \"=\"), sort_keys = True) "
   ]
  },
  {
   "cell_type": "markdown",
   "id": "bc34a556",
   "metadata": {},
   "source": [
    "# Python RegEx - RegEx Module"
   ]
  },
  {
   "cell_type": "code",
   "execution_count": 1,
   "id": "e44584a1",
   "metadata": {},
   "outputs": [],
   "source": [
    "import re"
   ]
  },
  {
   "cell_type": "markdown",
   "id": "594ea202",
   "metadata": {},
   "source": [
    "# Python RegEx - RegEx in Python"
   ]
  },
  {
   "cell_type": "code",
   "execution_count": 3,
   "id": "7781f366",
   "metadata": {},
   "outputs": [
    {
     "name": "stdout",
     "output_type": "stream",
     "text": [
      "<re.Match object; span=(0, 17), match='The rain in Spain'>\n"
     ]
    }
   ],
   "source": [
    "# Search the string to see if it starts with \"The\" and ends with \"Spain\"\n",
    "\n",
    "import re\n",
    "\n",
    "txt = \"The rain in Spain\"\n",
    "\n",
    "x = re.search(\"^The.*Spain$\", txt) # Using the search method with the keyword\n",
    "print(x)"
   ]
  },
  {
   "cell_type": "markdown",
   "id": "354b9cb8",
   "metadata": {},
   "source": [
    "# Python RegEx - Metacharacters"
   ]
  },
  {
   "cell_type": "code",
   "execution_count": 17,
   "id": "64a3b90e",
   "metadata": {},
   "outputs": [
    {
     "name": "stdout",
     "output_type": "stream",
     "text": [
      "['h', 'e', 'a', 'i', 'i', 'a', 'i']\n"
     ]
    }
   ],
   "source": [
    "# [] character\n",
    "\n",
    "import re\n",
    "\n",
    "txt = \"The rain in Spain\"\n",
    "\n",
    "# Find all lower case characters alphabetically between \"a\" and \"m\"\n",
    "\n",
    "x = re.findall(\"[a-m]\", txt) # Using the findall function because we want to list all that matches and with the keyword we want we need which is \"[a-m]\"\n",
    "print(x)"
   ]
  },
  {
   "cell_type": "code",
   "execution_count": 18,
   "id": "fe6fd1ef",
   "metadata": {},
   "outputs": [
    {
     "name": "stdout",
     "output_type": "stream",
     "text": [
      "['5', '9']\n"
     ]
    }
   ],
   "source": [
    "# \\ character\n",
    "\n",
    "txt = \"That will be 59 dollars\"\n",
    "\n",
    "# Find all digit characters\n",
    "\n",
    "x = re.findall(\"\\d\", txt) # With special characters d\n",
    "print(x)"
   ]
  },
  {
   "cell_type": "code",
   "execution_count": 32,
   "id": "4d2163b7",
   "metadata": {},
   "outputs": [
    {
     "name": "stdout",
     "output_type": "stream",
     "text": [
      "['planet']\n"
     ]
    }
   ],
   "source": [
    "# . character\n",
    "\n",
    "txt = \"hello planet\"\n",
    "\n",
    "# Search for sequence that starts with \"he\", followed by two (any) characters, and an \"o\"\n",
    "\n",
    "x = re.findall(\"pla..t\", txt) # or \"he..o\" .. as the two characters that blank\n",
    "print(x) "
   ]
  },
  {
   "cell_type": "code",
   "execution_count": 42,
   "id": "2f69a16a",
   "metadata": {},
   "outputs": [
    {
     "name": "stdout",
     "output_type": "stream",
     "text": [
      "True\n"
     ]
    }
   ],
   "source": [
    "# ^ character\n",
    "\n",
    "txt = \"hello planet\"\n",
    "\n",
    "# check if the string starts with 'hello'\n",
    "\n",
    "x = re.findall(\"^hello\", txt)\n",
    "if x:\n",
    "    print(True)"
   ]
  },
  {
   "cell_type": "code",
   "execution_count": 44,
   "id": "d8769925",
   "metadata": {},
   "outputs": [
    {
     "name": "stdout",
     "output_type": "stream",
     "text": [
      "True\n"
     ]
    }
   ],
   "source": [
    "# $ character\n",
    "\n",
    "txt = \"hello planet\"\n",
    "\n",
    "# Check if the string ends with 'planet'\n",
    "\n",
    "x = re.findall(\"planet$\", txt)\n",
    "\n",
    "if x:\n",
    "    print(True)"
   ]
  },
  {
   "cell_type": "code",
   "execution_count": 57,
   "id": "d1c7248f",
   "metadata": {},
   "outputs": [
    {
     "name": "stdout",
     "output_type": "stream",
     "text": [
      "['hello']\n"
     ]
    }
   ],
   "source": [
    "# * character\n",
    "\n",
    "txt = \"hello planet\"\n",
    "\n",
    "# Search for a sequence that starts with \"he\", followed by 0 or more (any) characters, and an \"o\"\n",
    "\n",
    "x = re.findall(\"he.*o\", txt) # . as the connector and * to simbolize the end character is with o\n",
    "\n",
    "print(x)"
   ]
  },
  {
   "cell_type": "code",
   "execution_count": 62,
   "id": "c222d8b8",
   "metadata": {},
   "outputs": [
    {
     "name": "stdout",
     "output_type": "stream",
     "text": [
      "[]\n"
     ]
    }
   ],
   "source": [
    "# + character\n",
    "\n",
    "txt = \"hello planet\"\n",
    "\n",
    "# Search for a sequence that starts eith \"he\", followed by 1 or more (any) characters, and an \"o\"\n",
    "\n",
    "x = re.findall(\"he.+o\", txt)\n",
    "print(x)"
   ]
  },
  {
   "cell_type": "code",
   "execution_count": 64,
   "id": "b6994434",
   "metadata": {},
   "outputs": [
    {
     "name": "stdout",
     "output_type": "stream",
     "text": [
      "[]\n"
     ]
    }
   ],
   "source": [
    "# ? character\n",
    "\n",
    "txt = \"hello planet\"\n",
    "\n",
    "# Search for a sequence that starts with \"he\", followed by 0 or 1 (any) character, and an \"o\"\n",
    "\n",
    "# followed by 0 or 1 (any) character : meaning that in the txt string, after the \"he\" character, followed by 0 or 1 character before the \"o\" appear.\n",
    "\n",
    "x = re.findall(\"he.?o\", txt)\n",
    "print(x)\n",
    "\n",
    "# this time we got no match because there were not zero, not one, nut two characters between \"he\" and the \"o\""
   ]
  },
  {
   "cell_type": "code",
   "execution_count": 68,
   "id": "77621fd2",
   "metadata": {},
   "outputs": [
    {
     "name": "stdout",
     "output_type": "stream",
     "text": [
      "['hello']\n"
     ]
    }
   ],
   "source": [
    "# {} character\n",
    "\n",
    "txt = \"hello planet\"\n",
    "\n",
    "# search for a sequence that starts with \"he\", followed exactly 2 (any) characters, and an \"o\"\n",
    "\n",
    "x = re.findall(\"he.{2}o\", txt) # You have to define the specified number insid the curly brackets {}\n",
    "print(x)"
   ]
  },
  {
   "cell_type": "code",
   "execution_count": 69,
   "id": "9fb38b0f",
   "metadata": {},
   "outputs": [
    {
     "name": "stdout",
     "output_type": "stream",
     "text": [
      "['falls']\n",
      "True\n"
     ]
    }
   ],
   "source": [
    "# | character\n",
    "\n",
    "txt = \"The rain in Spain falls mainly in the plain!\"\n",
    "\n",
    "# Check if the string contains either \"falls\" or \"stays\"\n",
    "\n",
    "x = re.findall(\"falls|stays\", txt)\n",
    "print(x)\n",
    "\n",
    "if x:\n",
    "    print(True)"
   ]
  },
  {
   "cell_type": "markdown",
   "id": "2a7c92f2",
   "metadata": {},
   "source": [
    "# Python RegEx - Special Sequences"
   ]
  },
  {
   "cell_type": "code",
   "execution_count": 71,
   "id": "fd85a605",
   "metadata": {},
   "outputs": [
    {
     "name": "stdout",
     "output_type": "stream",
     "text": [
      "['The']\n",
      "True\n"
     ]
    }
   ],
   "source": [
    "# \\A character\n",
    "\n",
    "import re\n",
    "\n",
    "txt = \"The rain in Spain\"\n",
    "\n",
    "# Check if the string starts with \"The\"\n",
    "\n",
    "x = re.findall(\"\\AThe\", txt)\n",
    "\n",
    "print(x)\n",
    "\n",
    "if x:\n",
    "    print(True)"
   ]
  },
  {
   "cell_type": "code",
   "execution_count": 76,
   "id": "8dc499e4",
   "metadata": {},
   "outputs": [
    {
     "name": "stdout",
     "output_type": "stream",
     "text": [
      "[]\n",
      "False\n",
      "['ain', 'ain']\n",
      "True\n"
     ]
    }
   ],
   "source": [
    "# \\b character\n",
    "\n",
    "txt = \"The rain in Spain\"\n",
    "\n",
    "# Check if \"ain\" is present at the beginning of a word\n",
    "\n",
    "x = re.findall(r\"\\bain\", txt)\n",
    "\n",
    "print(x)\n",
    "\n",
    "if x:\n",
    "    print(True)\n",
    "else:\n",
    "    print(False)\n",
    "    \n",
    "# Check if \"ain\" is present at the end of a word\n",
    "x = re.findall(r\"ain\\b\", txt)\n",
    "\n",
    "print(x) # Will get 2 \"ain\" because there are 2 word that ends with \"ain\": rain and spain\n",
    "if x:\n",
    "    print(True)"
   ]
  },
  {
   "cell_type": "code",
   "execution_count": 77,
   "id": "40907d29",
   "metadata": {},
   "outputs": [
    {
     "name": "stdout",
     "output_type": "stream",
     "text": [
      "['ain', 'ain']\n",
      "True\n",
      "[]\n",
      "False\n"
     ]
    }
   ],
   "source": [
    "# \\B character\n",
    "\n",
    "txt = \"The rain in Spain\"\n",
    "\n",
    "# Check if \"ain\" is present, but NOT at the beginning of a word\n",
    "\n",
    "x = re.findall(r\"\\Bain\", txt)\n",
    "\n",
    "print(x)\n",
    "\n",
    "if x:\n",
    "    print(True)\n",
    "else:\n",
    "    print(False)\n",
    "    \n",
    "# Check if \"ain\" is present, but NOT at the end of a word\n",
    "\n",
    "x = re.findall(r\"ain\\B\", txt)\n",
    "\n",
    "print(x)\n",
    "\n",
    "if x:\n",
    "    print(True)\n",
    "else:\n",
    "    print(False)"
   ]
  },
  {
   "cell_type": "code",
   "execution_count": 78,
   "id": "9e151204",
   "metadata": {},
   "outputs": [
    {
     "name": "stdout",
     "output_type": "stream",
     "text": [
      "[]\n"
     ]
    }
   ],
   "source": [
    "# \\d character\n",
    "\n",
    "txt = \"The rain in Spain\"\n",
    "\n",
    "# Check if the string contains any digits (numbers from 0-9)\n",
    "\n",
    "x = re.findall(\"\\d\", txt)\n",
    "\n",
    "print(x)"
   ]
  },
  {
   "cell_type": "code",
   "execution_count": 79,
   "id": "d4572827",
   "metadata": {},
   "outputs": [
    {
     "name": "stdout",
     "output_type": "stream",
     "text": [
      "['T', 'h', 'e', ' ', 'r', 'a', 'i', 'n', ' ', 'i', 'n', ' ', 'S', 'p', 'a', 'i', 'n']\n"
     ]
    }
   ],
   "source": [
    "# \\D character\n",
    "\n",
    "txt = \"The rain in Spain\"\n",
    "\n",
    "# Return a match at every no-digit characater\n",
    "\n",
    "x = re.findall(\"\\D\", txt)\n",
    "\n",
    "print(x)"
   ]
  },
  {
   "cell_type": "code",
   "execution_count": 81,
   "id": "66f03dd6",
   "metadata": {},
   "outputs": [
    {
     "name": "stdout",
     "output_type": "stream",
     "text": [
      "[' ', ' ', ' ']\n"
     ]
    }
   ],
   "source": [
    "# \\s character\n",
    "\n",
    "txt = \"The rain in Spain\"\n",
    "\n",
    "# Return a match at every white-space character\n",
    "\n",
    "x = re.findall(\"\\s\", txt)\n",
    "\n",
    "print(x)"
   ]
  },
  {
   "cell_type": "code",
   "execution_count": 82,
   "id": "7f996332",
   "metadata": {},
   "outputs": [
    {
     "name": "stdout",
     "output_type": "stream",
     "text": [
      "['T', 'h', 'e', 'r', 'a', 'i', 'n', 'i', 'n', 'S', 'p', 'a', 'i', 'n']\n"
     ]
    }
   ],
   "source": [
    "# \\S character\n",
    "\n",
    "txt = \"The rain in Spain\"\n",
    "\n",
    "# Return a match at every NON white-space character\n",
    "\n",
    "x = re.findall(\"\\S\", txt)\n",
    "\n",
    "print(x)"
   ]
  },
  {
   "cell_type": "code",
   "execution_count": 83,
   "id": "4c6519b4",
   "metadata": {},
   "outputs": [
    {
     "name": "stdout",
     "output_type": "stream",
     "text": [
      "['T', 'h', 'e', 'r', 'a', 'i', 'n', 'i', 'n', 'S', 'p', 'a', 'i', 'n']\n"
     ]
    }
   ],
   "source": [
    "# \\w character\n",
    "\n",
    "txt = \"The rain in Spain\"\n",
    "\n",
    "#Return a match at every word character (characters from a to Z, digits from 0-9, and the underscore _ character)\n",
    "\n",
    "x = re.findall(\"\\w\", txt)\n",
    "\n",
    "print(x)"
   ]
  },
  {
   "cell_type": "code",
   "execution_count": 84,
   "id": "14821772",
   "metadata": {},
   "outputs": [
    {
     "name": "stdout",
     "output_type": "stream",
     "text": [
      "[' ', ' ', ' ']\n"
     ]
    }
   ],
   "source": [
    "# \\W character\n",
    "\n",
    "txt = \"The rain in Spain\"\n",
    "\n",
    "#Return a match at every NON word character (characters from a to Z, digits from 0-9, and the underscore _ character)\n",
    "\n",
    "x = re.findall(\"\\W\", txt) # Will print the whitespace character of txt\n",
    "\n",
    "print(x)"
   ]
  },
  {
   "cell_type": "code",
   "execution_count": 86,
   "id": "600d9468",
   "metadata": {},
   "outputs": [
    {
     "name": "stdout",
     "output_type": "stream",
     "text": [
      "['Spain']\n"
     ]
    }
   ],
   "source": [
    "# \\Z character\n",
    "\n",
    "txt = \"The rain in Spain\"\n",
    "\n",
    "#Check if the string ends with \"Spain\"\n",
    "\n",
    "x = re.findall(\"Spain\\Z\", txt)\n",
    "\n",
    "print(x)"
   ]
  },
  {
   "cell_type": "markdown",
   "id": "c8d41230",
   "metadata": {},
   "source": [
    "# Python RegEx - Sets"
   ]
  },
  {
   "cell_type": "code",
   "execution_count": 88,
   "id": "ce2666c7",
   "metadata": {},
   "outputs": [
    {
     "name": "stdout",
     "output_type": "stream",
     "text": [
      "['r', 'a', 'n', 'n', 'a', 'n']\n"
     ]
    }
   ],
   "source": [
    "# [...] set\n",
    "\n",
    "import re\n",
    "\n",
    "txt = \"The rain in Spain\"\n",
    "\n",
    "# Check if the string has any a, r, or n characters\n",
    "\n",
    "x = re.findall(\"[arn]\", txt)\n",
    "\n",
    "print(x)"
   ]
  },
  {
   "cell_type": "code",
   "execution_count": 89,
   "id": "adcc5d85",
   "metadata": {},
   "outputs": [
    {
     "name": "stdout",
     "output_type": "stream",
     "text": [
      "['h', 'e', 'a', 'i', 'n', 'i', 'n', 'a', 'i', 'n']\n"
     ]
    }
   ],
   "source": [
    "# [... - ...] set\n",
    "\n",
    "txt = \"The rain in Spain\"\n",
    "\n",
    "# Check if the string has any characters between a and n\n",
    "\n",
    "x = re.findall(\"[a-n]\", txt)\n",
    "\n",
    "print(x)"
   ]
  },
  {
   "cell_type": "code",
   "execution_count": 91,
   "id": "cf94915f",
   "metadata": {},
   "outputs": [
    {
     "name": "stdout",
     "output_type": "stream",
     "text": [
      "['T', 'h', 'e', ' ', 'i', ' ', 'i', ' ', 'S', 'p', 'i']\n"
     ]
    }
   ],
   "source": [
    "# [^...] set\n",
    "\n",
    "txt = \"The rain in Spain\"\n",
    "\n",
    "# Check if the string has other characters than a, r, n\n",
    "\n",
    "x = re.findall(\"[^arn]\", txt) # Including the whitespace\n",
    "\n",
    "print(x)"
   ]
  },
  {
   "cell_type": "code",
   "execution_count": 92,
   "id": "80c503d8",
   "metadata": {},
   "outputs": [
    {
     "name": "stdout",
     "output_type": "stream",
     "text": [
      "[]\n"
     ]
    }
   ],
   "source": [
    "# [0123] set\n",
    "\n",
    "txt = \"The rain in Spain\"\n",
    "\n",
    "# Check if the string has any 0, 1, 2, or 3 digits\n",
    "\n",
    "x = re.findall(\"[0123]\", txt)\n",
    "\n",
    "print(x)"
   ]
  },
  {
   "cell_type": "code",
   "execution_count": 93,
   "id": "de44d46e",
   "metadata": {},
   "outputs": [
    {
     "name": "stdout",
     "output_type": "stream",
     "text": [
      "['8', '1', '1', '4', '5']\n"
     ]
    }
   ],
   "source": [
    "# [0-9] set\n",
    "\n",
    "txt = \"8 times before 11:45 AM\"\n",
    "\n",
    "# Check if the string has any digits\n",
    "\n",
    "x = re.findall(\"[0-9]\", txt)\n",
    "\n",
    "print(x)"
   ]
  },
  {
   "cell_type": "code",
   "execution_count": 94,
   "id": "88992c6a",
   "metadata": {},
   "outputs": [
    {
     "name": "stdout",
     "output_type": "stream",
     "text": [
      "[]\n"
     ]
    }
   ],
   "source": [
    "# [+] set\n",
    "\n",
    "txt = \"8 times before 11:45 AM\"\n",
    "\n",
    "# Check if the string has any + characters\n",
    "\n",
    "x = re.findall(\"[+]\", txt)\n",
    "\n",
    "print(x)"
   ]
  },
  {
   "cell_type": "markdown",
   "id": "12192e57",
   "metadata": {},
   "source": [
    "# Python RegEx - The findall() Function"
   ]
  },
  {
   "cell_type": "code",
   "execution_count": 95,
   "id": "61be3274",
   "metadata": {},
   "outputs": [
    {
     "name": "stdout",
     "output_type": "stream",
     "text": [
      "['ai', 'ai']\n"
     ]
    }
   ],
   "source": [
    "# Print a list of all matches\n",
    "\n",
    "import re\n",
    "\n",
    "txt = \"The rain in Spain\"\n",
    "\n",
    "x = re.findall(\"ai\", txt)\n",
    "\n",
    "print(x)"
   ]
  },
  {
   "cell_type": "code",
   "execution_count": 96,
   "id": "4a35994b",
   "metadata": {},
   "outputs": [
    {
     "name": "stdout",
     "output_type": "stream",
     "text": [
      "[]\n"
     ]
    }
   ],
   "source": [
    "# Return an empty list if no match was found\n",
    "\n",
    "txt = \"The rain in Spain\"\n",
    "\n",
    "x = re.findall(\"Portugal\", txt)\n",
    "\n",
    "print(x)"
   ]
  },
  {
   "cell_type": "markdown",
   "id": "e56b8172",
   "metadata": {},
   "source": [
    "# Python RegEx - The search() Function"
   ]
  },
  {
   "cell_type": "code",
   "execution_count": 100,
   "id": "8e29b831",
   "metadata": {},
   "outputs": [
    {
     "name": "stdout",
     "output_type": "stream",
     "text": [
      "The first white-space character is at the position:  3\n"
     ]
    }
   ],
   "source": [
    "# search for the first white-space character in the string\n",
    "\n",
    "import re\n",
    "\n",
    "txt = \"The rain in Spain\"\n",
    "\n",
    "x = re.search(\"\\s\", txt)\n",
    "\n",
    "print(\"The first white-space character is at the position: \", x.start())\n",
    "\n",
    "# x.start() to know the indexing of specified position"
   ]
  },
  {
   "cell_type": "code",
   "execution_count": 102,
   "id": "616c8b85",
   "metadata": {},
   "outputs": [
    {
     "name": "stdout",
     "output_type": "stream",
     "text": [
      "None\n"
     ]
    }
   ],
   "source": [
    "txt = \"The rain in Spain\"\n",
    "\n",
    "x = re.search(\"Portugal\", txt)\n",
    "\n",
    "print(x)"
   ]
  },
  {
   "cell_type": "markdown",
   "id": "120ec011",
   "metadata": {},
   "source": [
    "# Python RegEx - The split() Function"
   ]
  },
  {
   "cell_type": "code",
   "execution_count": 103,
   "id": "2de7617d",
   "metadata": {},
   "outputs": [
    {
     "name": "stdout",
     "output_type": "stream",
     "text": [
      "['The', 'rain', 'in', 'Spain']\n"
     ]
    }
   ],
   "source": [
    "# Split at each white-space character\n",
    "\n",
    "import re\n",
    "\n",
    "txt = \"The rain in Spain\"\n",
    "\n",
    "x = re.split(\"\\s\", txt)\n",
    "\n",
    "print(x)"
   ]
  },
  {
   "cell_type": "code",
   "execution_count": 106,
   "id": "cdb9cc32",
   "metadata": {},
   "outputs": [
    {
     "name": "stdout",
     "output_type": "stream",
     "text": [
      "['The', 'rain in Spain']\n"
     ]
    }
   ],
   "source": [
    "# Split the string only at the first occurrences\n",
    "\n",
    "txt = \"The rain in Spain\"\n",
    "\n",
    "x = re.split(\"\\s\", txt, 1)\n",
    "\n",
    "print(x)"
   ]
  },
  {
   "cell_type": "markdown",
   "id": "50163d34",
   "metadata": {},
   "source": [
    "# Python RegEx - The sub() Function"
   ]
  },
  {
   "cell_type": "code",
   "execution_count": 107,
   "id": "a4d5ff44",
   "metadata": {},
   "outputs": [
    {
     "name": "stdout",
     "output_type": "stream",
     "text": [
      "The9rain9in9Spain\n"
     ]
    }
   ],
   "source": [
    "# Replace every white-space character with the number 9\n",
    "\n",
    "import re\n",
    "\n",
    "txt = \"The rain in Spain\"\n",
    "\n",
    "x = re.sub(\"\\s\", \"9\", txt)\n",
    "\n",
    "print(x)"
   ]
  },
  {
   "cell_type": "code",
   "execution_count": 109,
   "id": "3b9322b8",
   "metadata": {},
   "outputs": [
    {
     "name": "stdout",
     "output_type": "stream",
     "text": [
      "The9rain9in Spain\n"
     ]
    }
   ],
   "source": [
    "# Replace the first 2 occurrences\n",
    "\n",
    "txt = \"The rain in Spain\"\n",
    "\n",
    "x = re.sub(\"\\s\", \"9\", txt, 2)\n",
    "\n",
    "print(x)"
   ]
  },
  {
   "cell_type": "markdown",
   "id": "42dee99f",
   "metadata": {},
   "source": [
    "# Python RegEx - Match Object"
   ]
  },
  {
   "cell_type": "code",
   "execution_count": 111,
   "id": "70536eb2",
   "metadata": {},
   "outputs": [
    {
     "name": "stdout",
     "output_type": "stream",
     "text": [
      "<re.Match object; span=(5, 7), match='ai'>\n"
     ]
    }
   ],
   "source": [
    "# Do a search that will return a Match Object\n",
    "\n",
    "import re\n",
    "\n",
    "txt = \"The rain in Spain\"\n",
    "x = re.search(\"ai\", txt)\n",
    "print(x) # This will print an object"
   ]
  },
  {
   "cell_type": "code",
   "execution_count": 119,
   "id": "5c135bb1",
   "metadata": {},
   "outputs": [
    {
     "name": "stdout",
     "output_type": "stream",
     "text": [
      "(12, 17)\n"
     ]
    }
   ],
   "source": [
    "# Print the position (start - and end- position) of the first match occurrence\n",
    "\n",
    "# The regular expression looks for any words that starts with an upper case \"S\"\n",
    "\n",
    "import re\n",
    "\n",
    "txt = \"The rain in Spain\"\n",
    "x = re.search(r\"\\bS\\w+\", txt)\n",
    "print(x.span())"
   ]
  },
  {
   "cell_type": "code",
   "execution_count": 123,
   "id": "bc53847d",
   "metadata": {},
   "outputs": [
    {
     "name": "stdout",
     "output_type": "stream",
     "text": [
      "The rain in Spain\n"
     ]
    }
   ],
   "source": [
    "# Print the string passed into the function\n",
    "\n",
    "import re\n",
    "\n",
    "txt = \"The rain in Spain\"\n",
    "x = re.search(r\"\\bS\\w+\", txt)\n",
    "print(x.string) # string passed into the function"
   ]
  },
  {
   "cell_type": "code",
   "execution_count": 126,
   "id": "0ea7d615",
   "metadata": {},
   "outputs": [
    {
     "name": "stdout",
     "output_type": "stream",
     "text": [
      "Spain\n"
     ]
    }
   ],
   "source": [
    "# Print the part of the string where there was a match\n",
    "\n",
    "# The regular expression looks for any words that starts with an upper case \"S\"\n",
    "\n",
    "import re\n",
    "\n",
    "txt = \"The rain in Spain\"\n",
    "\n",
    "x = re.search(r\"\\bS\\w+\", txt)\n",
    "\n",
    "print(x.group())"
   ]
  },
  {
   "cell_type": "markdown",
   "id": "7e426f98",
   "metadata": {},
   "source": [
    "# Python PIP - Using a Package"
   ]
  },
  {
   "cell_type": "code",
   "execution_count": 128,
   "id": "fc0af4ca",
   "metadata": {},
   "outputs": [
    {
     "name": "stdout",
     "output_type": "stream",
     "text": [
      "Hello World\n"
     ]
    }
   ],
   "source": [
    "# Import and use \"camelcase\"\n",
    "\n",
    "import camelcase \n",
    "\n",
    "c = camelcase.CamelCase() # using the camelcase library, pick the CamelCase() function inside it so we write c = camelcase.CamelCase() \n",
    "\n",
    "txt = \"hello world\" \n",
    "\n",
    "print(c.hump(txt)) # c.hump(txt) will capitalizes the first letter of each word"
   ]
  },
  {
   "cell_type": "markdown",
   "id": "5ca9ca48",
   "metadata": {},
   "source": [
    "# Python Try Except - Exception Handling"
   ]
  },
  {
   "cell_type": "code",
   "execution_count": 16,
   "id": "cd3efc16",
   "metadata": {},
   "outputs": [
    {
     "name": "stdout",
     "output_type": "stream",
     "text": [
      "-1\n"
     ]
    }
   ],
   "source": [
    "# The try block will generate an exception, because x is not defined\n",
    "\n",
    "try:\n",
    "    print(x) # Will get an error because x is not defined so it goes straight to except\n",
    "except:\n",
    "    print(\"An exception occurred\")"
   ]
  },
  {
   "cell_type": "code",
   "execution_count": 15,
   "id": "5eca8831",
   "metadata": {},
   "outputs": [
    {
     "name": "stdout",
     "output_type": "stream",
     "text": [
      "-1\n"
     ]
    }
   ],
   "source": [
    "# This will raise an exception, because x is not defined\n",
    "\n",
    "print(x)"
   ]
  },
  {
   "cell_type": "markdown",
   "id": "87741c9f",
   "metadata": {},
   "source": [
    "# Python Try Except - Many Exceptions"
   ]
  },
  {
   "cell_type": "code",
   "execution_count": 7,
   "id": "93a6e412",
   "metadata": {},
   "outputs": [
    {
     "name": "stdout",
     "output_type": "stream",
     "text": [
      "Variable x is not defined\n"
     ]
    }
   ],
   "source": [
    "# Print one message if the try block raises a NameError and another for other errors\n",
    "\n",
    "try:\n",
    "    print(x)\n",
    "except NameError:\n",
    "    print(\"Variable x is not defined\")\n",
    "except:\n",
    "    print(\"Something else went wrong\")"
   ]
  },
  {
   "cell_type": "markdown",
   "id": "1056bee7",
   "metadata": {},
   "source": [
    "# Python Try Except - Else"
   ]
  },
  {
   "cell_type": "code",
   "execution_count": 10,
   "id": "382a01b9",
   "metadata": {},
   "outputs": [
    {
     "name": "stdout",
     "output_type": "stream",
     "text": [
      "Bonjour\n",
      "Nothing went wrong\n"
     ]
    }
   ],
   "source": [
    "# In this example, the try block does not generate any error\n",
    "\n",
    "try:\n",
    "    print(\"Bonjour\")\n",
    "except:\n",
    "    print(\"Something went wrong\")\n",
    "else:\n",
    "    print(\"Nothing went wrong\")"
   ]
  },
  {
   "cell_type": "markdown",
   "id": "dccfddb8",
   "metadata": {},
   "source": [
    "# Python Try Except - Finally"
   ]
  },
  {
   "cell_type": "code",
   "execution_count": 11,
   "id": "1e46ee1c",
   "metadata": {},
   "outputs": [
    {
     "name": "stdout",
     "output_type": "stream",
     "text": [
      "Something went wrong\n",
      "the 'try except' is finished\n"
     ]
    }
   ],
   "source": [
    "try:\n",
    "    print(x)\n",
    "except:\n",
    "    print(\"Something went wrong\")\n",
    "finally:\n",
    "    print(\"the 'try except' is finished\")"
   ]
  },
  {
   "cell_type": "code",
   "execution_count": 13,
   "id": "038f1cdb",
   "metadata": {},
   "outputs": [
    {
     "name": "stdout",
     "output_type": "stream",
     "text": [
      "Something went wrong when writing to the file!!!\n"
     ]
    }
   ],
   "source": [
    "# Try to open and write to a file that is not writable\n",
    "\n",
    "try:\n",
    "    f = open(\"demofile.txt\")\n",
    "    try:\n",
    "        f.write(\"Lorem Ipsum\")\n",
    "    except:\n",
    "        print(\"Something went wrong when writing to the file\")\n",
    "    finally:\n",
    "        f.close()\n",
    "except:\n",
    "    print(\"Something went wrong when writing to the file!!!\")"
   ]
  },
  {
   "cell_type": "markdown",
   "id": "e56d5fb5",
   "metadata": {},
   "source": [
    "# Python Try Except - Raise an exception"
   ]
  },
  {
   "cell_type": "code",
   "execution_count": 14,
   "id": "2896a676",
   "metadata": {},
   "outputs": [
    {
     "ename": "Exception",
     "evalue": "Sorry, no numbers below zero",
     "output_type": "error",
     "traceback": [
      "\u001b[1;31m---------------------------------------------------------------------------\u001b[0m",
      "\u001b[1;31mException\u001b[0m                                 Traceback (most recent call last)",
      "\u001b[1;32mC:\\Users\\ARRUUM~1\\AppData\\Local\\Temp/ipykernel_13288/759720666.py\u001b[0m in \u001b[0;36m<module>\u001b[1;34m\u001b[0m\n\u001b[0;32m      4\u001b[0m \u001b[1;33m\u001b[0m\u001b[0m\n\u001b[0;32m      5\u001b[0m \u001b[1;32mif\u001b[0m \u001b[0mx\u001b[0m \u001b[1;33m<\u001b[0m \u001b[1;36m0\u001b[0m\u001b[1;33m:\u001b[0m\u001b[1;33m\u001b[0m\u001b[1;33m\u001b[0m\u001b[0m\n\u001b[1;32m----> 6\u001b[1;33m     \u001b[1;32mraise\u001b[0m \u001b[0mException\u001b[0m\u001b[1;33m(\u001b[0m\u001b[1;34m\"Sorry, no numbers below zero\"\u001b[0m\u001b[1;33m)\u001b[0m \u001b[1;31m# Using the raise keyword and Exception() outside the information to print\u001b[0m\u001b[1;33m\u001b[0m\u001b[1;33m\u001b[0m\u001b[0m\n\u001b[0m",
      "\u001b[1;31mException\u001b[0m: Sorry, no numbers below zero"
     ]
    }
   ],
   "source": [
    "# Raise an error and stop the program if x is lower than 0\n",
    "\n",
    "x = -1\n",
    "\n",
    "if x < 0:\n",
    "    raise Exception(\"Sorry, no numbers below zero\") # Using the raise keyword and Exception() outside the information to print"
   ]
  },
  {
   "cell_type": "code",
   "execution_count": 25,
   "id": "c8de235e",
   "metadata": {},
   "outputs": [
    {
     "ename": "TypeError",
     "evalue": "Only integers are allowed",
     "output_type": "error",
     "traceback": [
      "\u001b[1;31m---------------------------------------------------------------------------\u001b[0m",
      "\u001b[1;31mTypeError\u001b[0m                                 Traceback (most recent call last)",
      "\u001b[1;32mC:\\Users\\ARRUUM~1\\AppData\\Local\\Temp/ipykernel_13288/4122516514.py\u001b[0m in \u001b[0;36m<module>\u001b[1;34m\u001b[0m\n\u001b[0;32m      4\u001b[0m \u001b[1;33m\u001b[0m\u001b[0m\n\u001b[0;32m      5\u001b[0m \u001b[1;32mif\u001b[0m \u001b[1;32mnot\u001b[0m \u001b[0mtype\u001b[0m\u001b[1;33m(\u001b[0m\u001b[0mx\u001b[0m\u001b[1;33m)\u001b[0m \u001b[1;32mis\u001b[0m \u001b[0mint\u001b[0m\u001b[1;33m:\u001b[0m\u001b[1;33m\u001b[0m\u001b[1;33m\u001b[0m\u001b[0m\n\u001b[1;32m----> 6\u001b[1;33m     \u001b[1;32mraise\u001b[0m \u001b[0mTypeError\u001b[0m\u001b[1;33m(\u001b[0m\u001b[1;34m\"Only integers are allowed\"\u001b[0m\u001b[1;33m)\u001b[0m\u001b[1;33m\u001b[0m\u001b[1;33m\u001b[0m\u001b[0m\n\u001b[0m",
      "\u001b[1;31mTypeError\u001b[0m: Only integers are allowed"
     ]
    }
   ],
   "source": [
    "# Raise a TypeError if x is not an integer\n",
    "\n",
    "x = \"hello\"\n",
    "\n",
    "if not type(x) is int: \n",
    "    raise TypeError(\"Only integers are allowed\") # The kind of error we input have to be corresponded to the ones that will be error"
   ]
  },
  {
   "cell_type": "markdown",
   "id": "4e1daa84",
   "metadata": {},
   "source": [
    "# Python User Input - User Input"
   ]
  },
  {
   "cell_type": "code",
   "execution_count": 29,
   "id": "2b6ed3ba",
   "metadata": {},
   "outputs": [
    {
     "name": "stdout",
     "output_type": "stream",
     "text": [
      "Enter username: taylorswift13\n",
      "Username is: taylorswift13\n"
     ]
    }
   ],
   "source": [
    "username = input(\"Enter username: \")\n",
    "print(\"Username is: \" + username)"
   ]
  },
  {
   "cell_type": "markdown",
   "id": "428b0551",
   "metadata": {},
   "source": [
    "# Python String Formatting - String format()"
   ]
  },
  {
   "cell_type": "code",
   "execution_count": 31,
   "id": "c7724850",
   "metadata": {},
   "outputs": [
    {
     "name": "stdout",
     "output_type": "stream",
     "text": [
      "The price is 49 dollars\n"
     ]
    }
   ],
   "source": [
    "# Add a placeholder where you want to display the price\n",
    "\n",
    "price = 49\n",
    "txt = \"The price is {} dollars\"\n",
    "print(txt.format(price))"
   ]
  },
  {
   "cell_type": "code",
   "execution_count": 34,
   "id": "043166a2",
   "metadata": {},
   "outputs": [
    {
     "name": "stdout",
     "output_type": "stream",
     "text": [
      "The price is 49.00 dollars\n"
     ]
    }
   ],
   "source": [
    "# Format the price to be displayed as a number with two decimals\n",
    "\n",
    "price = 49\n",
    "txt = \"The price is {:.2f} dollars\" # Write :.2f to display decimal of 2 \n",
    "print(txt.format(price))"
   ]
  },
  {
   "cell_type": "markdown",
   "id": "6457245d",
   "metadata": {},
   "source": [
    "# Python String Formatting - String format() - Python String format() Method"
   ]
  },
  {
   "cell_type": "code",
   "execution_count": 1,
   "id": "0cbdbc3b",
   "metadata": {},
   "outputs": [
    {
     "name": "stdout",
     "output_type": "stream",
     "text": [
      "Foor only 49.00 dollars!\n"
     ]
    }
   ],
   "source": [
    "# Insert the price inside the placeholder, the price should be in fixed point, two-decimal format\n",
    "\n",
    "txt = \"Foor only {price:.2f} dollars!\"\n",
    "print(txt.format(price=49))"
   ]
  },
  {
   "cell_type": "code",
   "execution_count": 3,
   "id": "885838e1",
   "metadata": {},
   "outputs": [
    {
     "name": "stdout",
     "output_type": "stream",
     "text": [
      "My name is John, I'm 36\n",
      "My name is John, I'm 36\n",
      "My name is John, I'm 36\n"
     ]
    }
   ],
   "source": [
    "# Using different placeholder values\n",
    "\n",
    "txt1 = \"My name is {fname}, I'm {age}\".format(fname = \"John\", age = 36)\n",
    "txt2 = \"My name is {0}, I'm {1}\".format(\"John\", 36)\n",
    "txt3 = \"My name is {}, I'm {}\".format(\"John\", 36)\n",
    "\n",
    "print(txt1)\n",
    "print(txt2)\n",
    "print(txt3)"
   ]
  },
  {
   "cell_type": "code",
   "execution_count": 4,
   "id": "936d6d51",
   "metadata": {},
   "outputs": [
    {
     "name": "stdout",
     "output_type": "stream",
     "text": [
      "We have 49       chickens.\n"
     ]
    }
   ],
   "source": [
    "#To demonstrate, we insert the number 8 to set the available space for the value to 8 characters.\n",
    "\n",
    "# Use \":<\" to left-align the value\n",
    "\n",
    "txt = \"We have {:<8} chickens.\"\n",
    "print(txt.format(49))"
   ]
  },
  {
   "cell_type": "code",
   "execution_count": 6,
   "id": "c2d3a00b",
   "metadata": {},
   "outputs": [
    {
     "name": "stdout",
     "output_type": "stream",
     "text": [
      "We have       49 chickens.\n"
     ]
    }
   ],
   "source": [
    "# :> righ-align\n",
    "\n",
    "txt = \"We have {:>8} chickens.\"\n",
    "print(txt.format(49))"
   ]
  },
  {
   "cell_type": "code",
   "execution_count": 7,
   "id": "d814d6d9",
   "metadata": {},
   "outputs": [
    {
     "name": "stdout",
     "output_type": "stream",
     "text": [
      "We have    49    chickens.\n"
     ]
    }
   ],
   "source": [
    "# :^ center align\n",
    "\n",
    "txt = \"We have {:^8} chickens.\"\n",
    "print(txt.format(49))"
   ]
  },
  {
   "cell_type": "code",
   "execution_count": 11,
   "id": "ceb3e3dc",
   "metadata": {},
   "outputs": [
    {
     "name": "stdout",
     "output_type": "stream",
     "text": [
      "We have       49 chickens.\n"
     ]
    }
   ],
   "source": [
    "# := left most position\n",
    "\n",
    "txt = \"We have {:=8} chickens.\"\n",
    "print(txt.format(49))"
   ]
  },
  {
   "cell_type": "code",
   "execution_count": 12,
   "id": "3a0a5f56",
   "metadata": {},
   "outputs": [
    {
     "name": "stdout",
     "output_type": "stream",
     "text": [
      "The temperature is between -3 and +7 degrees celcius.\n"
     ]
    }
   ],
   "source": [
    "# :+\n",
    "\n",
    "txt = \"The temperature is between {:+} and {:+} degrees celcius.\"\n",
    "print(txt.format(-3, 7))"
   ]
  },
  {
   "cell_type": "code",
   "execution_count": 13,
   "id": "e7ecdddf",
   "metadata": {},
   "outputs": [
    {
     "name": "stdout",
     "output_type": "stream",
     "text": [
      "The temperature is between -3 and 7 degrees celcius.\n"
     ]
    }
   ],
   "source": [
    "# :-\n",
    "\n",
    "txt = \"The temperature is between {:-} and {:-} degrees celcius.\"\n",
    "print(txt.format(-3, 7))"
   ]
  },
  {
   "cell_type": "code",
   "execution_count": 14,
   "id": "98bf128e",
   "metadata": {},
   "outputs": [
    {
     "name": "stdout",
     "output_type": "stream",
     "text": [
      "The temperature is between -3 and  7 degrees celcius.\n"
     ]
    }
   ],
   "source": [
    "# :\n",
    "\n",
    "txt = \"The temperature is between {: } and {: } degrees celcius.\"\n",
    "print(txt.format(-3, 7))"
   ]
  },
  {
   "cell_type": "code",
   "execution_count": 16,
   "id": "a7690048",
   "metadata": {},
   "outputs": [
    {
     "name": "stdout",
     "output_type": "stream",
     "text": [
      "The universe is 13,800,000,000 years old.\n"
     ]
    }
   ],
   "source": [
    "# :, thousands separator\n",
    "\n",
    "txt = \"The universe is {:,} years old.\"\n",
    "print(txt.format(13800000000))"
   ]
  },
  {
   "cell_type": "code",
   "execution_count": 18,
   "id": "326f7f64",
   "metadata": {},
   "outputs": [
    {
     "name": "stdout",
     "output_type": "stream",
     "text": [
      "The universe is 13_800_000_000 years old.\n"
     ]
    }
   ],
   "source": [
    "# :_\n",
    "\n",
    "txt = \"The universe is {:_} years old.\"\n",
    "print(txt.format(13800000000))"
   ]
  },
  {
   "cell_type": "code",
   "execution_count": 22,
   "id": "617b67b9",
   "metadata": {},
   "outputs": [
    {
     "name": "stdout",
     "output_type": "stream",
     "text": [
      "The binary version of 5 is 101\n"
     ]
    }
   ],
   "source": [
    "# :b\n",
    "\n",
    "txt = \"The binary version of {0} is {0:b}\"\n",
    "print(txt.format(5))"
   ]
  },
  {
   "cell_type": "code",
   "execution_count": 24,
   "id": "de17a05f",
   "metadata": {},
   "outputs": [
    {
     "name": "stdout",
     "output_type": "stream",
     "text": [
      "We have 5 chickens.\n"
     ]
    }
   ],
   "source": [
    "# :d\n",
    "\n",
    "txt = \"We have {:d} chickens.\"\n",
    "print(txt.format(0b101))"
   ]
  },
  {
   "cell_type": "code",
   "execution_count": 25,
   "id": "d9b4589d",
   "metadata": {},
   "outputs": [
    {
     "name": "stdout",
     "output_type": "stream",
     "text": [
      "We have 5.000000e+00 chickens.\n"
     ]
    }
   ],
   "source": [
    "# :e\n",
    "\n",
    "txt = \"We have {:e} chickens.\"\n",
    "print(txt.format(5))"
   ]
  },
  {
   "cell_type": "code",
   "execution_count": 26,
   "id": "c2379999",
   "metadata": {},
   "outputs": [
    {
     "name": "stdout",
     "output_type": "stream",
     "text": [
      "We have 5.000000E+00 chickens.\n"
     ]
    }
   ],
   "source": [
    "# :E\n",
    "\n",
    "txt = \"We have {:E} chickens.\"\n",
    "print(txt.format(5))"
   ]
  },
  {
   "cell_type": "code",
   "execution_count": 27,
   "id": "95755dd1",
   "metadata": {},
   "outputs": [
    {
     "name": "stdout",
     "output_type": "stream",
     "text": [
      "The price is 45.00 dollars.\n",
      "The price is 45.000000 dollars.\n"
     ]
    }
   ],
   "source": [
    "# Use \"f\" to convert a number into a fixed poiny number, default with 6 decimals, but use a period followed by a number to specify the number of decimals\n",
    "\n",
    "txt = \"The price is {:.2f} dollars.\"\n",
    "print(txt.format(45))\n",
    "\n",
    "# without the .2f inside the placeholder, this number will be displayed like this\n",
    "\n",
    "txt = \"The price is {:f} dollars.\"\n",
    "print(txt.format(45))"
   ]
  },
  {
   "cell_type": "code",
   "execution_count": 28,
   "id": "2fbf04bb",
   "metadata": {},
   "outputs": [
    {
     "name": "stdout",
     "output_type": "stream",
     "text": [
      "The price is INF dollars.\n",
      "The price is inf dollars.\n"
     ]
    }
   ],
   "source": [
    "# Use \"F\" to convert a number into a fixed point number, but display inf and nan as INF and NAN\n",
    "\n",
    "x = float('inf')\n",
    "\n",
    "txt = \"The price is {:F} dollars.\"\n",
    "print(txt.format(x))\n",
    "\n",
    "# same example, but with a lower case f\n",
    "\n",
    "txt = \"The price is {:f} dollars.\"\n",
    "print(txt.format(x)) "
   ]
  },
  {
   "cell_type": "code",
   "execution_count": 29,
   "id": "17d85589",
   "metadata": {},
   "outputs": [
    {
     "name": "stdout",
     "output_type": "stream",
     "text": [
      "The octal version of 10 is 12.\n"
     ]
    }
   ],
   "source": [
    "# :o\n",
    "\n",
    "txt = \"The octal version of {0} is {0:o}.\"\n",
    "\n",
    "print(txt.format(10))"
   ]
  },
  {
   "cell_type": "code",
   "execution_count": 30,
   "id": "4e3ff6d3",
   "metadata": {},
   "outputs": [
    {
     "name": "stdout",
     "output_type": "stream",
     "text": [
      "The Hexadecimal version of 255 is ff\n"
     ]
    }
   ],
   "source": [
    "# :x\n",
    "\n",
    "txt = \"The Hexadecimal version of {0} is {0:x}\"\n",
    "\n",
    "print(txt.format(255))"
   ]
  },
  {
   "cell_type": "code",
   "execution_count": 35,
   "id": "95c3db07",
   "metadata": {},
   "outputs": [
    {
     "name": "stdout",
     "output_type": "stream",
     "text": [
      "The Hexadecimal version of 255 is FF\n"
     ]
    }
   ],
   "source": [
    "# :X\n",
    "\n",
    "txt = \"The Hexadecimal version of {0} is {0:X}\"\n",
    "\n",
    "print(txt.format(255))"
   ]
  },
  {
   "cell_type": "code",
   "execution_count": 36,
   "id": "f65dc434",
   "metadata": {},
   "outputs": [
    {
     "name": "stdout",
     "output_type": "stream",
     "text": [
      "You scored 25.000000%\n",
      "You scored 25%\n"
     ]
    }
   ],
   "source": [
    "# :%\n",
    "\n",
    "txt = \"You scored {:%}\"\n",
    "print(txt.format(0.25))\n",
    "\n",
    "# without any decimals\n",
    "\n",
    "txt = \"You scored {:.0%}\" # : as the formatting type, . as the decimal part, 0 because you want 0 number after the decimal and % as the percentage format\n",
    "print(txt.format(0.25))"
   ]
  },
  {
   "cell_type": "markdown",
   "id": "874a4d6b",
   "metadata": {},
   "source": [
    "# Python String Formatting - Multiple Values"
   ]
  },
  {
   "cell_type": "code",
   "execution_count": 36,
   "id": "5f3b992f",
   "metadata": {},
   "outputs": [],
   "source": [
    "print(txt.format(price, itemno, count))"
   ]
  },
  {
   "cell_type": "code",
   "execution_count": 37,
   "id": "8915d05e",
   "metadata": {},
   "outputs": [
    {
     "name": "stdout",
     "output_type": "stream",
     "text": [
      "I want 3 pieces of item number 567 for 49.00 dollars.\n"
     ]
    }
   ],
   "source": [
    "quantity = 3\n",
    "itemno = 567\n",
    "price = 49\n",
    "myorder = \"I want {} pieces of item number {} for {:.2f} dollars.\"\n",
    "\n",
    "print(myorder.format(quantity, itemno, price))"
   ]
  },
  {
   "cell_type": "markdown",
   "id": "1d4b7c78",
   "metadata": {},
   "source": [
    "# Python String Formatting - Index Numbers"
   ]
  },
  {
   "cell_type": "code",
   "execution_count": 38,
   "id": "935884ac",
   "metadata": {},
   "outputs": [
    {
     "name": "stdout",
     "output_type": "stream",
     "text": [
      "I want 3 pieces of item number 567 for 49.00 dollars.\n"
     ]
    }
   ],
   "source": [
    "quantity = 3\n",
    "itemno = 567\n",
    "price = 49\n",
    "myorder = \"I want {0} pieces of item number {1} for {2:.2f} dollars.\"\n",
    "\n",
    "print(myorder.format(quantity, itemno, price))"
   ]
  },
  {
   "cell_type": "code",
   "execution_count": 39,
   "id": "9fb0c5cc",
   "metadata": {},
   "outputs": [
    {
     "name": "stdout",
     "output_type": "stream",
     "text": [
      "His name is John. John is 36 years old.\n"
     ]
    }
   ],
   "source": [
    "age = 36\n",
    "name = \"John\"\n",
    "txt = \"His name is {1}. {1} is {0} years old.\"\n",
    "print(txt.format(age, name))"
   ]
  },
  {
   "cell_type": "markdown",
   "id": "11ced44c",
   "metadata": {},
   "source": [
    "# Python String Formatting - Named Indexes"
   ]
  },
  {
   "cell_type": "code",
   "execution_count": 40,
   "id": "ff780900",
   "metadata": {},
   "outputs": [
    {
     "name": "stdout",
     "output_type": "stream",
     "text": [
      "I have a Ford, it is a Mustang\n"
     ]
    }
   ],
   "source": [
    "myorder = \"I have a {carname}, it is a {model}\"\n",
    "print(myorder.format(carname = \"Ford\", model = \"Mustang\"))   "
   ]
  }
 ],
 "metadata": {
  "kernelspec": {
   "display_name": "Python 3 (ipykernel)",
   "language": "python",
   "name": "python3"
  },
  "language_info": {
   "codemirror_mode": {
    "name": "ipython",
    "version": 3
   },
   "file_extension": ".py",
   "mimetype": "text/x-python",
   "name": "python",
   "nbconvert_exporter": "python",
   "pygments_lexer": "ipython3",
   "version": "3.9.7"
  }
 },
 "nbformat": 4,
 "nbformat_minor": 5
}
