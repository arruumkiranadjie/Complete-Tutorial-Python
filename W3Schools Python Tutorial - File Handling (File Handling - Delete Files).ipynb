{
 "cells": [
  {
   "cell_type": "markdown",
   "id": "cbdb80cb",
   "metadata": {},
   "source": [
    "# Python Read Files - Syntax"
   ]
  },
  {
   "cell_type": "code",
   "execution_count": 3,
   "id": "dd6f29e8",
   "metadata": {},
   "outputs": [],
   "source": [
    "f = open(\"demofile.txt\")    "
   ]
  },
  {
   "cell_type": "code",
   "execution_count": 4,
   "id": "6b70caf2",
   "metadata": {},
   "outputs": [],
   "source": [
    "f = open(\"demofile.txt\", \"rt\")"
   ]
  },
  {
   "cell_type": "markdown",
   "id": "90703398",
   "metadata": {},
   "source": [
    "# Python File Handling - Open a File on the Server"
   ]
  },
  {
   "cell_type": "code",
   "execution_count": 5,
   "id": "1e1a2ce3",
   "metadata": {},
   "outputs": [
    {
     "name": "stdout",
     "output_type": "stream",
     "text": [
      "Hello! Welcome to demofile.txt\n",
      "This file is for testing purposes. \n",
      "Good Luck!\n"
     ]
    }
   ],
   "source": [
    "f = open(\"demofile.txt\", \"r\")\n",
    "print(f.read())"
   ]
  },
  {
   "cell_type": "markdown",
   "id": "fa7cf76e",
   "metadata": {},
   "source": [
    "# Python File Handling - Read Only Parts of the File"
   ]
  },
  {
   "cell_type": "code",
   "execution_count": 6,
   "id": "1507bd8f",
   "metadata": {},
   "outputs": [
    {
     "name": "stdout",
     "output_type": "stream",
     "text": [
      "Hello\n"
     ]
    }
   ],
   "source": [
    "# Return the 5 first characters of the file\n",
    "\n",
    "f = open(\"demofile.txt\", \"r\")\n",
    "print(f.read(5))"
   ]
  },
  {
   "cell_type": "markdown",
   "id": "0cb2312a",
   "metadata": {},
   "source": [
    "# Python File Handling - Read Lines"
   ]
  },
  {
   "cell_type": "code",
   "execution_count": 7,
   "id": "b40e407a",
   "metadata": {},
   "outputs": [
    {
     "name": "stdout",
     "output_type": "stream",
     "text": [
      "Hello! Welcome to demofile.txt\n",
      "\n"
     ]
    }
   ],
   "source": [
    "# Read one line of the file\n",
    "\n",
    "f = open(\"demofile.txt\", \"r\")\n",
    "print(f.readline())"
   ]
  },
  {
   "cell_type": "code",
   "execution_count": 17,
   "id": "f9f1c54d",
   "metadata": {},
   "outputs": [
    {
     "name": "stdout",
     "output_type": "stream",
     "text": [
      "Hello! Welcome to demofile.txt\n",
      "\n",
      "This file is for testing purposes. \n",
      "\n"
     ]
    }
   ],
   "source": [
    "# Read two lines of the file\n",
    "\n",
    "f = open(\"demofile.txt\", \"r\")\n",
    "print(f.readline())\n",
    "print(f.readline())"
   ]
  },
  {
   "cell_type": "code",
   "execution_count": 12,
   "id": "1717b10c",
   "metadata": {},
   "outputs": [
    {
     "name": "stdout",
     "output_type": "stream",
     "text": [
      "Hello! Welcome to demofile.txt\n",
      "\n",
      "This file is for testing purposes. \n",
      "\n",
      "Good Luck!\n"
     ]
    }
   ],
   "source": [
    "# Loop through the file line by line\n",
    "\n",
    "f = open(\"demofile.txt\", \"r\")\n",
    "for x in f:\n",
    "    print(x)"
   ]
  },
  {
   "cell_type": "markdown",
   "id": "ed9943b8",
   "metadata": {},
   "source": [
    "# Python File Handling - Close Files"
   ]
  },
  {
   "cell_type": "code",
   "execution_count": 13,
   "id": "695542df",
   "metadata": {},
   "outputs": [
    {
     "name": "stdout",
     "output_type": "stream",
     "text": [
      "Hello! Welcome to demofile.txt\n",
      "\n"
     ]
    }
   ],
   "source": [
    "# Close the file when you are finish with it\n",
    "\n",
    "f = open(\"demofile.txt\", \"r\")\n",
    "print(f.readline())\n",
    "f.close()"
   ]
  },
  {
   "cell_type": "markdown",
   "id": "647746f3",
   "metadata": {},
   "source": [
    "# Python Write/Create Files - Write to an Existing File"
   ]
  },
  {
   "cell_type": "code",
   "execution_count": 6,
   "id": "02546fc4",
   "metadata": {},
   "outputs": [
    {
     "name": "stdout",
     "output_type": "stream",
     "text": [
      "Now the file has more content!Now the file has more content!\n"
     ]
    }
   ],
   "source": [
    "# Open the file demofile2.txt and append content to the file\n",
    "\n",
    "f = open(\"demofile2.txt\", \"a\")\n",
    "f.write(\"Now the file has more content!\")\n",
    "f.close()\n",
    "\n",
    "# Open and read the file after the appending\n",
    "f = open(\"demofile2.txt\", \"r\")\n",
    "print(f.read())"
   ]
  },
  {
   "cell_type": "code",
   "execution_count": 8,
   "id": "0356fc28",
   "metadata": {},
   "outputs": [
    {
     "name": "stdout",
     "output_type": "stream",
     "text": [
      "Woops! I have deleted the content!\n"
     ]
    }
   ],
   "source": [
    "# Open the file demofile3.txt and overwrite the content\n",
    "\n",
    "f = open(\"demofile3.txt\", \"a\")\n",
    "f.write(\"Taylor Swift\")\n",
    "f.close()\n",
    "\n",
    "f = open(\"demofile3.txt\", \"w\")\n",
    "f.write(\"Woops! I have deleted the content!\")\n",
    "f.close()\n",
    "\n",
    "f = open(\"demofile3.txt\", \"r\")\n",
    "print(f.read())"
   ]
  },
  {
   "cell_type": "markdown",
   "id": "5e108b74",
   "metadata": {},
   "source": [
    "# Python Write/Create Files - Create a New File"
   ]
  },
  {
   "cell_type": "code",
   "execution_count": 9,
   "id": "35ce1eb7",
   "metadata": {},
   "outputs": [],
   "source": [
    "# Create a file called \"myfile.txt\"\n",
    "\n",
    "f = open(\"myfile.txt\", \"x\")"
   ]
  },
  {
   "cell_type": "code",
   "execution_count": 10,
   "id": "2b946834",
   "metadata": {},
   "outputs": [],
   "source": [
    "# Create a new file if it does not exist\n",
    "\n",
    "f = open(\"myfilee.txt\", \"w\")"
   ]
  },
  {
   "cell_type": "markdown",
   "id": "755940a2",
   "metadata": {},
   "source": [
    "# Python Delete File - Delete a File"
   ]
  },
  {
   "cell_type": "code",
   "execution_count": 11,
   "id": "cc3adf87",
   "metadata": {},
   "outputs": [],
   "source": [
    "import os\n",
    "\n",
    "os.remove(\"demofile.txt\")"
   ]
  },
  {
   "cell_type": "markdown",
   "id": "d7288208",
   "metadata": {},
   "source": [
    "# Python Delete File - Check if File exist"
   ]
  },
  {
   "cell_type": "code",
   "execution_count": 12,
   "id": "52343437",
   "metadata": {},
   "outputs": [
    {
     "name": "stdout",
     "output_type": "stream",
     "text": [
      "The file does not exist\n"
     ]
    }
   ],
   "source": [
    "# Check if file exists, then delete it\n",
    "\n",
    "import os\n",
    "\n",
    "if os.path.exists(\"demofile.txt\"):\n",
    "    os.remove(\"demofile.txt\")\n",
    "else:\n",
    "    print(\"The file does not exist\")"
   ]
  },
  {
   "cell_type": "markdown",
   "id": "fda31657",
   "metadata": {},
   "source": [
    "# Python Delete File - Delete Folder"
   ]
  },
  {
   "cell_type": "code",
   "execution_count": 15,
   "id": "4cc88abe",
   "metadata": {},
   "outputs": [],
   "source": [
    "import os\n",
    "\n",
    "os.rmdir(\"...\")"
   ]
  }
 ],
 "metadata": {
  "kernelspec": {
   "display_name": "Python 3 (ipykernel)",
   "language": "python",
   "name": "python3"
  },
  "language_info": {
   "codemirror_mode": {
    "name": "ipython",
    "version": 3
   },
   "file_extension": ".py",
   "mimetype": "text/x-python",
   "name": "python",
   "nbconvert_exporter": "python",
   "pygments_lexer": "ipython3",
   "version": "3.9.7"
  }
 },
 "nbformat": 4,
 "nbformat_minor": 5
}
